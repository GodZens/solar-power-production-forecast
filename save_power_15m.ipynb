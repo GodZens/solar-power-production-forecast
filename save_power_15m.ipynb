{
 "cells": [
  {
   "cell_type": "code",
   "execution_count": 1,
   "id": "3c65d831",
   "metadata": {},
   "outputs": [],
   "source": [
    "import pandas as pd\n",
    "import numpy as np\n",
    "import matplotlib.pyplot as plt\n",
    "import os\n",
    "import time\n",
    "import datetime\n",
    "from influxdb import InfluxDBClient\n",
    "from tqdm import tqdm\n",
    "databasename = ['MG1']\n",
    "client = InfluxDBClient('120.107.146.56', 8086, 'ncue01', 'Q!A@Z#WSX', 'MG1') "
   ]
  },
  {
   "cell_type": "code",
   "execution_count": 2,
   "id": "97259a39",
   "metadata": {},
   "outputs": [],
   "source": [
    "import os\n",
    "from datetime import date\n",
    "#資料庫\n",
    "import matplotlib.pyplot as plt\n",
    "from sklearn.preprocessing import MinMaxScaler\n",
    "from sklearn.linear_model import LinearRegression\n",
    "from sklearn.svm import SVC, SVR\n",
    "from sklearn_rvm import EMRVC\n",
    "from sklearn_rvm import EMRVR\n",
    "import xgboost as xgb\n",
    "import lightgbm as lgb\n",
    "#載入模型\n",
    "import joblib\n",
    "#繪圖工具\n",
    "import matplotlib.dates as md\n",
    "from tqdm import tqdm "
   ]
  },
  {
   "cell_type": "code",
   "execution_count": 3,
   "id": "dad3cd92",
   "metadata": {},
   "outputs": [
    {
     "data": {
      "text/html": [
       "        <script type=\"text/javascript\">\n",
       "        window.PlotlyConfig = {MathJaxConfig: 'local'};\n",
       "        if (window.MathJax) {MathJax.Hub.Config({SVG: {font: \"STIX-Web\"}});}\n",
       "        if (typeof require !== 'undefined') {\n",
       "        require.undef(\"plotly\");\n",
       "        requirejs.config({\n",
       "            paths: {\n",
       "                'plotly': ['https://cdn.plot.ly/plotly-2.4.2.min']\n",
       "            }\n",
       "        });\n",
       "        require(['plotly'], function(Plotly) {\n",
       "            window._Plotly = Plotly;\n",
       "        });\n",
       "        }\n",
       "        </script>\n",
       "        "
      ]
     },
     "metadata": {},
     "output_type": "display_data"
    }
   ],
   "source": [
    "## 在線使用設置##############\n",
    "import plotly as py\n",
    "import plotly.graph_objs as go\n",
    "from plotly.offline import iplot, init_notebook_mode\n",
    "import plotly.express as px\n",
    "import cufflinks as cf\n",
    "cf.go_offline()\n",
    "cf.set_config_file(offline=False, world_readable=True)"
   ]
  },
  {
   "cell_type": "markdown",
   "id": "b23e92ec",
   "metadata": {},
   "source": [
    "# 抓取資料庫全部資料"
   ]
  },
  {
   "cell_type": "code",
   "execution_count": 4,
   "id": "57522c97",
   "metadata": {},
   "outputs": [],
   "source": [
    "# \n",
    "# def get_power():\n",
    "#     tablename = 'MG1_PV'\n",
    "#     # result = client.query(f'SELECT * FROM {tablename} where Time >= 2022-05-20') \n",
    "#     result = client.query(f'SELECT * FROM {tablename}') \n",
    "#     data = list(result.get_points())\n",
    "#     data = pd.DataFrame(data)\n",
    "#     merge_data=pd.DataFrame()\n",
    "#     num = 0\n",
    "#     fre = 0\n",
    "#     for i in range(len(data)):\n",
    "#         num += 1\n",
    "#         if(num==50000):\n",
    "#             number = num*fre\n",
    "#             merge_data.to_csv(f\"power_data/original/{tablename}_{number}.csv\", index=False) \n",
    "#             num = 0\n",
    "#             fre += 1\n",
    "#             merge_data=pd.DataFrame()\n",
    "#         else:\n",
    "#             merge_data = pd.concat([merge_data,data.loc[i:i]],axis=0,ignore_index=True)\n",
    "#     number = number+50000\n",
    "#     merge_data.to_csv(f\"power_data/original/{tablename}_{number}.csv\", index=False) \n",
    "# get_power()"
   ]
  },
  {
   "cell_type": "markdown",
   "id": "0aa19143",
   "metadata": {},
   "source": [
    "# 抓取最新資料存入資料夾檔案中"
   ]
  },
  {
   "cell_type": "code",
   "execution_count": 5,
   "id": "0842a384",
   "metadata": {},
   "outputs": [],
   "source": [
    "#抓取資料夾內原始資料\n",
    "def get_file_number():\n",
    "    path=\".\\\\power_data\\\\original\"\n",
    "    filenames = os.listdir(path)\n",
    "    number = []\n",
    "    for i in range(len(filenames)):\n",
    "        if(filenames[i] == 'save'):\n",
    "            continue\n",
    "        filenames_row = filenames[i].split('_')\n",
    "        filenames_row = filenames_row[-1].split('.')\n",
    "        number.append(filenames_row[0])\n",
    "    number = sorted(number, key=int)\n",
    "    return number"
   ]
  },
  {
   "cell_type": "code",
   "execution_count": 6,
   "id": "1f741df4",
   "metadata": {},
   "outputs": [],
   "source": [
    "# last = pd.read_csv(f'./power_data/original/MG1_PV_4750000.csv', low_memory=False) \n",
    "# last_time = pd.to_datetime(last['Time'][-1:].values[0])\n",
    "# client = InfluxDBClient('120.107.146.56', 8086, 'ncue01', 'Q!A@Z#WSX', 'MG1') \n",
    "# tablename = 'MG1_PV'\n",
    "# result = client.query(f\"SELECT * FROM {tablename} where Time >= '{last_time}'-8h\") \n",
    "# data =  list(result.get_points())\n",
    "# data = pd.DataFrame(data)\n",
    "# data"
   ]
  },
  {
   "cell_type": "code",
   "execution_count": 7,
   "id": "e49abdc1",
   "metadata": {},
   "outputs": [],
   "source": [
    "#根據資料夾內最後一筆時間抓取最新資料\n",
    "def get_power_2(number,date):\n",
    "    client = InfluxDBClient('120.107.146.56', 8086, 'ncue01', 'Q!A@Z#WSX', 'MG1') \n",
    "    tablename = 'MG1_PV'\n",
    "    result = client.query(f\"SELECT * FROM {tablename} where time >= '{date}' - 8h\") \n",
    "    data =  list(result.get_points())\n",
    "    data = pd.DataFrame(data)\n",
    "    last = pd.read_csv(f'./power_data/original/MG1_PV_{number[-1]}.csv', low_memory=False) \n",
    "    new = pd.DataFrame()\n",
    "    new_bool = False\n",
    "    for i in tqdm(range(len(data))):#當資料筆數到達50000筆後存下一個csv檔\n",
    "        if(len(last) < 50000):\n",
    "            last = pd.concat([last,data.loc[i:i]],axis=0)\n",
    "        else:\n",
    "            new_bool = True\n",
    "            new = pd.concat([new,data.loc[i:i]],axis=0)\n",
    "            new_number = int(number[-1])+50000\n",
    "    last.to_csv(f\"./power_data/original/MG1_PV_{number[-1]}.csv\", index=False)\n",
    "    if(new_bool):\n",
    "        new.to_csv(f\"./power_data/original/MG1_PV_{new_number}.csv\", index=False)"
   ]
  },
  {
   "cell_type": "code",
   "execution_count": 8,
   "id": "137fa3eb",
   "metadata": {},
   "outputs": [],
   "source": [
    "# number = get_file_number()\n",
    "# last = pd.read_csv(f'./power_data/original/MG1_PV_{number[-1]}.csv', low_memory=False) \n",
    "# last_time = pd.to_datetime(last['Time'][-1:].values[0])\n",
    "# #獲得最新資料\n",
    "# get_power_2(number,last_time)"
   ]
  },
  {
   "cell_type": "code",
   "execution_count": 9,
   "id": "5a87f5ed",
   "metadata": {},
   "outputs": [],
   "source": [
    "#將資料轉成每15分鐘1筆\n",
    "def bulid_15minute_data(data_raw):\n",
    "    data_raw['TIME_TO_INTERVAL'] = pd.to_datetime(data_raw['TIME_TO_INTERVAL'])\n",
    "    data_raw_2 = data_raw.groupby(pd.Grouper(key=\"TIME_TO_INTERVAL\",freq='15min', origin='start')).mean().reset_index()\n",
    "    return data_raw_2\n",
    "# new_number = get_file_number()\n",
    "\n",
    "def merge_old_new_data15(new_number):\n",
    "    merge_data=pd.DataFrame()\n",
    "    for i in new_number[-2:]:#-2為讀MG1_PV_{i}.csv倒數兩筆csv，如許久未跑這支程式，須調整數值，讀取倒數數筆csv檔\n",
    "        last = pd.read_csv(f'./power_data/original/MG1_PV_{i}.csv', low_memory=False) \n",
    "        merge_data = pd.concat([merge_data,last],axis=0,ignore_index=True)\n",
    "    merge_data = merge_data.rename(columns={'Time':'TIME_TO_INTERVAL'})\n",
    "    merge_data = merge_data.drop_duplicates(['TIME_TO_INTERVAL'], keep=\"last\").reset_index(drop=True)\n",
    "    merge_data = merge_data.sort_values(by=['TIME_TO_INTERVAL']).reset_index(drop=True)\n",
    "    for i in range(len(merge_data)):\n",
    "        row = merge_data.loc[i:i].reset_index(drop=True)\n",
    "        result = time.strptime(row['TIME_TO_INTERVAL'][0], \"%Y-%m-%d %H:%M:%S\") \n",
    "        result = time.strftime(\"%M:00\",result)\n",
    "#         print(result)\n",
    "        if((result=='00:00')|(result=='15:00')|(result=='30:00')|(result=='45:00')):\n",
    "            break      \n",
    "    row['TIME_TO_INTERVAL'] = pd.to_datetime(row['TIME_TO_INTERVAL'])\n",
    "    merge_data['TIME_TO_INTERVAL'] = pd.to_datetime(merge_data['TIME_TO_INTERVAL'])\n",
    "    mask = (merge_data['TIME_TO_INTERVAL'] >= row['TIME_TO_INTERVAL'][0])\n",
    "    merge_data = merge_data[mask] \n",
    "    merge_data = bulid_15minute_data(merge_data)  \n",
    "    old_15_power = pd.read_csv(f'./power_data/merge_alldata_15.csv', low_memory=False) \n",
    "    old_15_power['TIME_TO_INTERVAL'] = pd.to_datetime(old_15_power['TIME_TO_INTERVAL'])\n",
    "    merge_data = pd.concat([merge_data,old_15_power],axis=0,ignore_index=True)\n",
    "    merge_data = merge_data.drop_duplicates(['TIME_TO_INTERVAL'], keep=\"last\").reset_index(drop=True)\n",
    "    merge_data = merge_data.sort_values(by=['TIME_TO_INTERVAL'])\n",
    "    merge_data.to_csv(f\"./power_data/merge_alldata_15.csv\", index=False)"
   ]
  },
  {
   "cell_type": "markdown",
   "id": "d9eb3707",
   "metadata": {},
   "source": [
    "# 讀取資料和模型，做績效"
   ]
  },
  {
   "cell_type": "code",
   "execution_count": 10,
   "id": "a6a841a8",
   "metadata": {},
   "outputs": [
    {
     "data": {
      "text/plain": [
       "Timestamp('2022-12-27 02:17:17.631315')"
      ]
     },
     "execution_count": 10,
     "metadata": {},
     "output_type": "execute_result"
    }
   ],
   "source": [
    "minute = pd.to_datetime(datetime.datetime.today())-datetime.timedelta(minutes=15)\n",
    "minute"
   ]
  },
  {
   "cell_type": "code",
   "execution_count": 11,
   "id": "616d64cd",
   "metadata": {},
   "outputs": [],
   "source": [
    "def split_data(data,target_day):\n",
    "    power_list=['pre_Power_15','pre_Power_30','pre_Power_45']\n",
    "    Radiation_list=['pre_Radiation_15','Radiation_0','next_Radiation_15']\n",
    "    data_merge = data.copy()\n",
    "    row = target_day.copy()\n",
    "    #建立三個表\n",
    "    data_power = pd.DataFrame()\n",
    "    data_Radiation = pd.DataFrame()\n",
    "    data_2 = pd.DataFrame()  \n",
    "    data_power = data_merge[data_merge['date'].isin(row['date'])]\n",
    "    \n",
    "    row_time = pd.to_datetime(row['TIME_TO_INTERVAL'].values[0])\n",
    "    pre_time = [row_time-datetime.timedelta(minutes=15),\n",
    "                row_time-datetime.timedelta(minutes=30),\n",
    "                row_time-datetime.timedelta(minutes=45)]\n",
    "    for i in range(len(pre_time)):\n",
    "        pre_time[i] = pre_time[i].strftime(\"%Y-%m-%d %H:%M:%S\")\n",
    "       \n",
    "    \n",
    "    row_date = pd.to_datetime(row['date'].values[0])\n",
    "    next_date = [row_date,\n",
    "                 row_date+datetime.timedelta(days=1)]   \n",
    "#     print(next_date)\n",
    "    for i in range(len(next_date)):\n",
    "        next_date[i] = next_date[i].strftime(\"%Y-%m-%d\")\n",
    "    #print(next_date)       \n",
    "    pre_Radiation = [row_time-datetime.timedelta(minutes=15),\n",
    "                    row_time,\n",
    "                    row_time+datetime.timedelta(minutes=15)]\n",
    "    for i in range(len(pre_Radiation)):\n",
    "        pre_Radiation[i] = pre_Radiation[i].strftime(\"%Y-%m-%d %H:%M:%S\")\n",
    "        \n",
    "    data_merge['date'] = data_merge['date'].apply(lambda x: x.strftime('%Y-%m-%d'))     \n",
    "    data_Radiation = data_merge[data_merge['date'].isin(next_date)]\n",
    "#     print(data_Radiation)\n",
    "    for h in range(0,3): \n",
    "\n",
    "        data_power_2 = data_power[data_power['TIME_TO_INTERVAL'].isin([pre_time[h]])].reset_index(drop=True)  \n",
    "        data_Radiation_2 = data_Radiation[data_Radiation['TIME_TO_INTERVAL'].isin([pre_Radiation[h]])].reset_index(drop=True)\n",
    "\n",
    "#         print(data_power)\n",
    "#         print(data_Radiation_2)\n",
    "    \n",
    "        if(len(data_power_2)==0):\n",
    "            data_2[power_list[h]] = [0]\n",
    "#             print('---------------',data_2[power_list[h]])\n",
    "        else:\n",
    "            data_2[power_list[h]] = data_power_2['Power']\n",
    "                \n",
    "            \n",
    "        if(len(data_Radiation_2)==0):\n",
    "            data_2[Radiation_list[h]] = [0]\n",
    "        else:\n",
    "            data_2[Radiation_list[h]] = data_Radiation_2['Radiation(today)(CWB)']\n",
    "    return data_2"
   ]
  },
  {
   "cell_type": "code",
   "execution_count": 12,
   "id": "9f3bdefe",
   "metadata": {},
   "outputs": [],
   "source": [
    "def merge_power_weather():\n",
    "    power_data = pd.read_csv(f\"./power_data/merge_alldata_15.csv\", low_memory=False) \n",
    "    power_data['TIME_TO_INTERVAL'] = pd.to_datetime(power_data['TIME_TO_INTERVAL'])\n",
    "    mask = (power_data['TIME_TO_INTERVAL'] >= (pd.to_datetime(datetime.datetime.today())-datetime.timedelta(hours=1)))\n",
    "    power_data = power_data[mask]\n",
    "#     print(power_data)\n",
    "    power_data = power_data.rename(columns={'kP':'Power'})\n",
    "    power_data['hour'] = pd.to_datetime(power_data['TIME_TO_INTERVAL']).dt.hour\n",
    "    power_data['date'] = pd.to_datetime(power_data['TIME_TO_INTERVAL']).dt.date\n",
    "    power_data = power_data[['TIME_TO_INTERVAL','date','hour','Power']]\n",
    "    power_data = power_data.dropna(subset=['Power']).reset_index(drop=True)\n",
    "    power_data = power_data.drop_duplicates(['TIME_TO_INTERVAL'], keep=\"last\").reset_index(drop=True)\n",
    "    weatherdata = pd.read_csv('dataset/solar_汙水廠(history).csv')\n",
    "    weatherdata = weatherdata.rename(columns={'Radiation(SDv3)(IBM)':'Radiation(SDv3)(TWC)',\n",
    "                            'WeatherType(IBM)':'WeatherType(TWC)',\n",
    "                            'WeatherType(pred)(IBM)':'WeatherType(pred)(TWC)',\n",
    "                            'Radiation(MSM)':'Radiation(SDv3)(MSM)'})\n",
    "    weatherdata['hour'] = pd.to_datetime(weatherdata['TIME_TO_INTERVAL']).dt.hour\n",
    "    weatherdata['date'] = pd.to_datetime(weatherdata['TIME_TO_INTERVAL']).dt.date\n",
    "    weatherdata = weatherdata[['hour','date','Radiation','ClearSkyRadiation','Radiation(SDv3)(CWB)',\n",
    "         'Radiation(SDv3)(TWC)','Radiation(SDv3)(OWM)','Radiation(SDv3)(MSM)','Radiation(today)(CWB)',\n",
    "         'Radiation(today)(IBM)','Radiation(today)(OWM)']]\n",
    "    merge_data = pd.merge(power_data,weatherdata,on=['date','hour'],how='inner')\n",
    "    merge_data['minute'] = pd.to_datetime(merge_data['TIME_TO_INTERVAL']).dt.minute\n",
    "    merge_data = merge_data.drop_duplicates(['TIME_TO_INTERVAL'], keep=\"last\").reset_index(drop=True)\n",
    "    \n",
    "    pre_datas = pd.DataFrame()\n",
    "    for i in range(len(merge_data)):\n",
    "        target_day = merge_data.loc[i:i].reset_index(drop=True)\n",
    "        pre_data = split_data(merge_data,target_day)\n",
    "        pre_datas = pd.concat([pre_datas,pre_data],axis=0)\n",
    "    pre_datas = pre_datas.fillna(0)    \n",
    "    pre_datas.reset_index(drop=True,inplace=True)\n",
    "    merge_data = merge_data.merge(pre_datas, how='left', left_index=True, right_index=True)\n",
    "#     print(merge_data)\n",
    "    return merge_data"
   ]
  },
  {
   "cell_type": "code",
   "execution_count": 13,
   "id": "685df5e4",
   "metadata": {},
   "outputs": [],
   "source": [
    "def pred_power_15(merge_data):\n",
    "    train_15 = pd.read_csv(f'power_data/merge_weather_power_for_train15(cwb).csv')\n",
    "    train_data = train_15.copy()\n",
    "    feature_data = ['pre_Power_15','next_Radiation_15','pre_Power_30']\n",
    "    train_x = train_data[feature_data]\n",
    "    train_y = train_data[['Power']]\n",
    "    \n",
    "    test_data = merge_data\n",
    "    #獲得訓練集X的最大最小值，並正規劃測試資料\n",
    "    scaler_x = MinMaxScaler()\n",
    "    scaler_x.fit(train_x[feature_data])\n",
    "    test_data = scaler_x.transform(test_data[feature_data])\n",
    "#     print(test_data)\n",
    "    #獲得訓練集y的最大最小值\n",
    "    scaler_y = MinMaxScaler()\n",
    "    scaler_y.fit(train_y[['Power']])\n",
    "    #載入模型並預測+反正規劃\n",
    "    model = joblib.load(f'model/15_minute/rvm_pred(cwb)(old_data).pkl')\n",
    "    pred_y = model.predict(test_data)\n",
    "    pred_y = pred_y.reshape(-1,1)\n",
    "    pred_y = scaler_y.inverse_transform(pred_y)\n",
    "    pred_y = pred_y.reshape(-1)\n",
    "#     print(pred_y)\n",
    "    #將預測資料和預測時間組成表格\n",
    "    pred = pd.DataFrame()\n",
    "    pred['TIME_TO_INTERVAL'] = pd.to_datetime(merge_data['TIME_TO_INTERVAL'])+datetime.timedelta(minutes=30)\n",
    "    pred['pred'] = pred_y\n",
    "    pred = pred.reset_index(drop=True)\n",
    "    return pred"
   ]
  },
  {
   "cell_type": "code",
   "execution_count": 14,
   "id": "6e0dffaf",
   "metadata": {},
   "outputs": [],
   "source": [
    "def save_to_database(pred):\n",
    "    client = InfluxDBClient('120.107.146.56', 8086, 'ncue01', 'Q!A@Z#WSX')\n",
    "    # 目前有哪些資料庫名稱\n",
    "    exist = client.get_list_database()\n",
    "    number=0\n",
    "    for i in range(len(exist)):\n",
    "        if(exist[i] =={'name': 'Minute_Ahead_Pred'}):        \n",
    "            number+=1\n",
    "    if(number==1):\n",
    "        client = InfluxDBClient('120.107.146.56', 8086, 'ncue01', 'Q!A@Z#WSX','Minute_Ahead_Pred')\n",
    "    else:\n",
    "        # 創建資料庫\n",
    "        client.create_database('Minute_Ahead_Pred') \n",
    "\n",
    "\n",
    "    # 資料 (不用寫時間，InfluxDB會自動生成時間戳記)\n",
    "    for i in range(len(pred)):\n",
    "        target_day = pred.loc[i:i].reset_index(drop=True)\n",
    "        data = [\n",
    "            {\n",
    "                \"measurement\": \"汙水場\",\n",
    "                \"tags\": {\n",
    "                    \"UpdateTime\": datetime.datetime.now(),\n",
    "                },\n",
    "                \"time\": pd.to_datetime(target_day['TIME_TO_INTERVAL'].values[0], format='%Y%m%dT%H:%M:%SZ'),\n",
    "                \n",
    "                \"fields\": {\n",
    "                    \"D_power\":target_day['pred'].values[0],\n",
    "                }\n",
    "            }\n",
    "        ]\n",
    "\n",
    "        # 寫入數據，同時創建表\n",
    "        client.write_points(data) \n",
    "    return \"ok\""
   ]
  },
  {
   "cell_type": "code",
   "execution_count": 20,
   "id": "6a94cb8b",
   "metadata": {},
   "outputs": [
    {
     "data": {
      "text/plain": [
       "'34:55'"
      ]
     },
     "execution_count": 20,
     "metadata": {},
     "output_type": "execute_result"
    }
   ],
   "source": [
    "localtime = time.localtime()\n",
    "result = time.strftime(\"%M:%S\", localtime)\n",
    "result"
   ]
  },
  {
   "cell_type": "markdown",
   "id": "aaaf75ca",
   "metadata": {},
   "source": [
    "# 從每小時的05分開始執行，並且每15分鐘執行一次"
   ]
  },
  {
   "cell_type": "code",
   "execution_count": 21,
   "id": "814b4c3d",
   "metadata": {
    "scrolled": true
   },
   "outputs": [
    {
     "name": "stdout",
     "output_type": "stream",
     "text": [
      "2022-12-27 02:21:02\n"
     ]
    },
    {
     "name": "stderr",
     "output_type": "stream",
     "text": [
      "100%|███████████████████████████████████████████████████████████████████████████████| 839/839 [00:04<00:00, 194.81it/s]\n"
     ]
    },
    {
     "name": "stdout",
     "output_type": "stream",
     "text": [
      "OkOk\n",
      "6.655100584030151\n",
      "2022-12-27 02:34:59\n"
     ]
    },
    {
     "name": "stderr",
     "output_type": "stream",
     "text": [
      "100%|███████████████████████████████████████████████████████████████████████████████| 902/902 [00:05<00:00, 177.69it/s]\n"
     ]
    },
    {
     "name": "stdout",
     "output_type": "stream",
     "text": [
      "OkOk\n",
      "7.6694018840789795\n",
      "2022-12-27 02:49:59\n"
     ]
    },
    {
     "name": "stderr",
     "output_type": "stream",
     "text": [
      "100%|███████████████████████████████████████████████████████████████████████████████| 902/902 [00:08<00:00, 110.21it/s]\n"
     ]
    },
    {
     "name": "stdout",
     "output_type": "stream",
     "text": [
      "OkOk\n",
      "12.538524150848389\n",
      "2022-12-27 03:04:59\n"
     ]
    },
    {
     "name": "stderr",
     "output_type": "stream",
     "text": [
      "100%|███████████████████████████████████████████████████████████████████████████████| 902/902 [00:05<00:00, 166.41it/s]\n"
     ]
    },
    {
     "name": "stdout",
     "output_type": "stream",
     "text": [
      "OkOk\n",
      "7.891735315322876\n",
      "2022-12-27 03:19:59\n"
     ]
    },
    {
     "name": "stderr",
     "output_type": "stream",
     "text": [
      "100%|███████████████████████████████████████████████████████████████████████████████| 902/902 [00:05<00:00, 179.73it/s]\n"
     ]
    },
    {
     "name": "stdout",
     "output_type": "stream",
     "text": [
      "OkOk\n",
      "7.365326642990112\n",
      "2022-12-27 03:34:59\n"
     ]
    },
    {
     "name": "stderr",
     "output_type": "stream",
     "text": [
      "100%|███████████████████████████████████████████████████████████████████████████████| 902/902 [00:07<00:00, 128.29it/s]\n"
     ]
    },
    {
     "name": "stdout",
     "output_type": "stream",
     "text": [
      "OkOk\n",
      "10.770951986312866\n",
      "2022-12-27 03:49:59\n"
     ]
    },
    {
     "name": "stderr",
     "output_type": "stream",
     "text": [
      "100%|███████████████████████████████████████████████████████████████████████████████| 902/902 [00:06<00:00, 133.48it/s]\n"
     ]
    },
    {
     "name": "stdout",
     "output_type": "stream",
     "text": [
      "OkOk\n",
      "9.519409656524658\n",
      "2022-12-27 04:04:59\n"
     ]
    },
    {
     "name": "stderr",
     "output_type": "stream",
     "text": [
      "100%|███████████████████████████████████████████████████████████████████████████████| 902/902 [00:06<00:00, 148.88it/s]\n"
     ]
    },
    {
     "name": "stdout",
     "output_type": "stream",
     "text": [
      "OkOk\n",
      "8.549020528793335\n",
      "2022-12-27 04:19:59\n"
     ]
    },
    {
     "name": "stderr",
     "output_type": "stream",
     "text": [
      "100%|███████████████████████████████████████████████████████████████████████████████| 902/902 [00:08<00:00, 100.83it/s]\n"
     ]
    },
    {
     "name": "stdout",
     "output_type": "stream",
     "text": [
      "OkOk\n",
      "12.919870615005493\n",
      "2022-12-27 04:34:59\n"
     ]
    },
    {
     "name": "stderr",
     "output_type": "stream",
     "text": [
      "100%|███████████████████████████████████████████████████████████████████████████████| 902/902 [00:04<00:00, 194.92it/s]\n"
     ]
    },
    {
     "name": "stdout",
     "output_type": "stream",
     "text": [
      "OkOk\n",
      "5.677509307861328\n",
      "2022-12-27 04:49:59\n"
     ]
    },
    {
     "name": "stderr",
     "output_type": "stream",
     "text": [
      "100%|███████████████████████████████████████████████████████████████████████████████| 902/902 [00:01<00:00, 669.58it/s]\n"
     ]
    },
    {
     "name": "stdout",
     "output_type": "stream",
     "text": [
      "OkOk\n",
      "2.034468173980713\n",
      "2022-12-27 05:04:59\n"
     ]
    },
    {
     "name": "stderr",
     "output_type": "stream",
     "text": [
      "100%|███████████████████████████████████████████████████████████████████████████████| 902/902 [00:01<00:00, 636.48it/s]\n"
     ]
    },
    {
     "name": "stdout",
     "output_type": "stream",
     "text": [
      "OkOk\n",
      "2.1669821739196777\n",
      "2022-12-27 05:19:59\n"
     ]
    },
    {
     "name": "stderr",
     "output_type": "stream",
     "text": [
      "100%|███████████████████████████████████████████████████████████████████████████████| 902/902 [00:01<00:00, 614.62it/s]\n"
     ]
    },
    {
     "name": "stdout",
     "output_type": "stream",
     "text": [
      "OkOk\n",
      "2.220719814300537\n",
      "2022-12-27 05:34:59\n"
     ]
    },
    {
     "name": "stderr",
     "output_type": "stream",
     "text": [
      "100%|███████████████████████████████████████████████████████████████████████████████| 902/902 [00:01<00:00, 621.93it/s]\n"
     ]
    },
    {
     "name": "stdout",
     "output_type": "stream",
     "text": [
      "OkOk\n",
      "2.2469959259033203\n",
      "2022-12-27 05:49:59\n"
     ]
    },
    {
     "name": "stderr",
     "output_type": "stream",
     "text": [
      "100%|███████████████████████████████████████████████████████████████████████████████| 902/902 [00:01<00:00, 601.47it/s]\n"
     ]
    },
    {
     "name": "stdout",
     "output_type": "stream",
     "text": [
      "OkOk\n",
      "2.3276047706604004\n",
      "2022-12-27 06:04:59\n"
     ]
    },
    {
     "name": "stderr",
     "output_type": "stream",
     "text": [
      "100%|███████████████████████████████████████████████████████████████████████████████| 902/902 [00:01<00:00, 595.28it/s]\n"
     ]
    },
    {
     "name": "stdout",
     "output_type": "stream",
     "text": [
      "OkOk\n",
      "2.311955213546753\n",
      "2022-12-27 06:19:59\n"
     ]
    },
    {
     "name": "stderr",
     "output_type": "stream",
     "text": [
      "100%|███████████████████████████████████████████████████████████████████████████████| 902/902 [00:01<00:00, 589.20it/s]\n"
     ]
    },
    {
     "name": "stdout",
     "output_type": "stream",
     "text": [
      "OkOk\n",
      "2.2727785110473633\n",
      "2022-12-27 06:34:59\n"
     ]
    },
    {
     "name": "stderr",
     "output_type": "stream",
     "text": [
      "100%|███████████████████████████████████████████████████████████████████████████████| 902/902 [00:01<00:00, 541.90it/s]\n"
     ]
    },
    {
     "name": "stdout",
     "output_type": "stream",
     "text": [
      "OkOk\n",
      "2.5305376052856445\n",
      "2022-12-27 06:49:59\n"
     ]
    },
    {
     "name": "stderr",
     "output_type": "stream",
     "text": [
      "100%|███████████████████████████████████████████████████████████████████████████████| 902/902 [00:01<00:00, 520.19it/s]\n"
     ]
    },
    {
     "name": "stdout",
     "output_type": "stream",
     "text": [
      "OkOk\n",
      "2.5150299072265625\n",
      "2022-12-27 07:04:59\n"
     ]
    },
    {
     "name": "stderr",
     "output_type": "stream",
     "text": [
      "100%|███████████████████████████████████████████████████████████████████████████████| 902/902 [00:01<00:00, 560.60it/s]\n"
     ]
    },
    {
     "name": "stdout",
     "output_type": "stream",
     "text": [
      "OkOk\n",
      "2.374437093734741\n",
      "2022-12-27 07:19:59\n"
     ]
    },
    {
     "name": "stderr",
     "output_type": "stream",
     "text": [
      "100%|███████████████████████████████████████████████████████████████████████████████| 902/902 [00:01<00:00, 542.01it/s]\n"
     ]
    },
    {
     "name": "stdout",
     "output_type": "stream",
     "text": [
      "OkOk\n",
      "2.4296188354492188\n",
      "2022-12-27 07:34:59\n"
     ]
    },
    {
     "name": "stderr",
     "output_type": "stream",
     "text": [
      "100%|███████████████████████████████████████████████████████████████████████████████| 902/902 [00:01<00:00, 517.42it/s]\n"
     ]
    },
    {
     "name": "stdout",
     "output_type": "stream",
     "text": [
      "OkOk\n",
      "2.524289608001709\n",
      "2022-12-27 07:49:59\n"
     ]
    },
    {
     "name": "stderr",
     "output_type": "stream",
     "text": [
      "100%|███████████████████████████████████████████████████████████████████████████████| 902/902 [00:01<00:00, 524.92it/s]\n"
     ]
    },
    {
     "name": "stdout",
     "output_type": "stream",
     "text": [
      "OkOk\n",
      "2.4994394779205322\n",
      "2022-12-27 08:04:59\n"
     ]
    },
    {
     "name": "stderr",
     "output_type": "stream",
     "text": [
      "100%|███████████████████████████████████████████████████████████████████████████████| 902/902 [00:01<00:00, 491.57it/s]\n"
     ]
    },
    {
     "name": "stdout",
     "output_type": "stream",
     "text": [
      "OkOk\n",
      "2.6940743923187256\n",
      "2022-12-27 08:19:59\n"
     ]
    },
    {
     "name": "stderr",
     "output_type": "stream",
     "text": [
      "100%|███████████████████████████████████████████████████████████████████████████████| 902/902 [00:01<00:00, 465.66it/s]\n"
     ]
    },
    {
     "name": "stdout",
     "output_type": "stream",
     "text": [
      "OkOk\n",
      "2.749384880065918\n",
      "2022-12-27 08:34:59\n"
     ]
    },
    {
     "name": "stderr",
     "output_type": "stream",
     "text": [
      "100%|███████████████████████████████████████████████████████████████████████████████| 902/902 [00:01<00:00, 459.78it/s]\n"
     ]
    },
    {
     "name": "stdout",
     "output_type": "stream",
     "text": [
      "OkOk\n",
      "2.824738025665283\n",
      "2022-12-27 08:49:59\n"
     ]
    },
    {
     "name": "stderr",
     "output_type": "stream",
     "text": [
      "100%|███████████████████████████████████████████████████████████████████████████████| 902/902 [00:02<00:00, 421.64it/s]\n"
     ]
    },
    {
     "name": "stdout",
     "output_type": "stream",
     "text": [
      "OkOk\n",
      "2.998455762863159\n",
      "2022-12-27 09:04:59\n"
     ]
    },
    {
     "name": "stderr",
     "output_type": "stream",
     "text": [
      "100%|███████████████████████████████████████████████████████████████████████████████| 902/902 [00:01<00:00, 493.52it/s]\n"
     ]
    },
    {
     "name": "stdout",
     "output_type": "stream",
     "text": [
      "OkOk\n",
      "23.71175765991211\n",
      "2022-12-27 09:19:59\n"
     ]
    },
    {
     "name": "stderr",
     "output_type": "stream",
     "text": [
      "100%|███████████████████████████████████████████████████████████████████████████████| 902/902 [00:01<00:00, 483.42it/s]\n"
     ]
    },
    {
     "name": "stdout",
     "output_type": "stream",
     "text": [
      "OkOk\n",
      "2.6937763690948486\n",
      "2022-12-27 09:34:59\n"
     ]
    },
    {
     "name": "stderr",
     "output_type": "stream",
     "text": [
      "100%|███████████████████████████████████████████████████████████████████████████████| 902/902 [00:01<00:00, 451.11it/s]\n"
     ]
    },
    {
     "name": "stdout",
     "output_type": "stream",
     "text": [
      "OkOk\n",
      "2.796274423599243\n",
      "2022-12-27 09:49:59\n"
     ]
    },
    {
     "name": "stderr",
     "output_type": "stream",
     "text": [
      "100%|███████████████████████████████████████████████████████████████████████████████| 902/902 [00:01<00:00, 464.00it/s]\n"
     ]
    },
    {
     "name": "stdout",
     "output_type": "stream",
     "text": [
      "OkOk\n",
      "2.7563297748565674\n",
      "2022-12-27 10:04:59\n"
     ]
    },
    {
     "name": "stderr",
     "output_type": "stream",
     "text": [
      "100%|███████████████████████████████████████████████████████████████████████████████| 902/902 [00:02<00:00, 421.47it/s]\n"
     ]
    },
    {
     "name": "stdout",
     "output_type": "stream",
     "text": [
      "OkOk\n",
      "4.146519184112549\n",
      "2022-12-27 10:19:59\n"
     ]
    },
    {
     "name": "stderr",
     "output_type": "stream",
     "text": [
      "100%|███████████████████████████████████████████████████████████████████████████████| 902/902 [00:02<00:00, 405.19it/s]\n"
     ]
    },
    {
     "name": "stdout",
     "output_type": "stream",
     "text": [
      "OkOk\n",
      "3.1165411472320557\n",
      "2022-12-27 10:34:59\n"
     ]
    },
    {
     "name": "stderr",
     "output_type": "stream",
     "text": [
      "100%|███████████████████████████████████████████████████████████████████████████████| 902/902 [00:02<00:00, 388.99it/s]\n"
     ]
    },
    {
     "name": "stdout",
     "output_type": "stream",
     "text": [
      "OkOk\n",
      "3.2716941833496094\n",
      "2022-12-27 10:49:59\n"
     ]
    },
    {
     "name": "stderr",
     "output_type": "stream",
     "text": [
      "100%|███████████████████████████████████████████████████████████████████████████████| 902/902 [00:02<00:00, 377.40it/s]\n"
     ]
    },
    {
     "name": "stdout",
     "output_type": "stream",
     "text": [
      "OkOk\n",
      "3.3742029666900635\n",
      "2022-12-27 11:04:59\n"
     ]
    },
    {
     "name": "stderr",
     "output_type": "stream",
     "text": [
      "100%|███████████████████████████████████████████████████████████████████████████████| 901/901 [00:02<00:00, 417.95it/s]\n"
     ]
    },
    {
     "name": "stdout",
     "output_type": "stream",
     "text": [
      "OkOk\n",
      "2.9993391036987305\n",
      "2022-12-27 11:19:58\n"
     ]
    },
    {
     "name": "stderr",
     "output_type": "stream",
     "text": [
      "100%|███████████████████████████████████████████████████████████████████████████████| 902/902 [00:02<00:00, 409.51it/s]\n"
     ]
    },
    {
     "name": "stdout",
     "output_type": "stream",
     "text": [
      "OkOk\n",
      "3.0532662868499756\n",
      "2022-12-27 11:34:58\n"
     ]
    },
    {
     "name": "stderr",
     "output_type": "stream",
     "text": [
      "100%|███████████████████████████████████████████████████████████████████████████████| 902/902 [00:02<00:00, 352.56it/s]\n"
     ]
    },
    {
     "name": "stdout",
     "output_type": "stream",
     "text": [
      "OkOk\n",
      "3.4875221252441406\n",
      "2022-12-27 11:49:58\n"
     ]
    },
    {
     "name": "stderr",
     "output_type": "stream",
     "text": [
      "100%|███████████████████████████████████████████████████████████████████████████████| 902/902 [00:02<00:00, 342.81it/s]\n"
     ]
    },
    {
     "name": "stdout",
     "output_type": "stream",
     "text": [
      "OkOk\n",
      "3.5216617584228516\n",
      "2022-12-27 12:04:58\n"
     ]
    },
    {
     "name": "stderr",
     "output_type": "stream",
     "text": [
      "100%|███████████████████████████████████████████████████████████████████████████████| 902/902 [00:02<00:00, 316.41it/s]\n"
     ]
    },
    {
     "name": "stdout",
     "output_type": "stream",
     "text": [
      "OkOk\n",
      "3.788025140762329\n",
      "2022-12-27 12:19:58\n"
     ]
    },
    {
     "name": "stderr",
     "output_type": "stream",
     "text": [
      "100%|███████████████████████████████████████████████████████████████████████████████| 902/902 [00:02<00:00, 302.93it/s]\n"
     ]
    },
    {
     "name": "stdout",
     "output_type": "stream",
     "text": [
      "OkOk\n",
      "3.977386713027954\n",
      "2022-12-27 12:34:58\n"
     ]
    },
    {
     "name": "stderr",
     "output_type": "stream",
     "text": [
      "100%|███████████████████████████████████████████████████████████████████████████████| 902/902 [00:03<00:00, 284.98it/s]\n"
     ]
    },
    {
     "name": "stdout",
     "output_type": "stream",
     "text": [
      "OkOk\n",
      "4.199968576431274\n",
      "2022-12-27 12:49:58\n"
     ]
    },
    {
     "name": "stderr",
     "output_type": "stream",
     "text": [
      "100%|███████████████████████████████████████████████████████████████████████████████| 902/902 [00:03<00:00, 268.56it/s]\n"
     ]
    },
    {
     "name": "stdout",
     "output_type": "stream",
     "text": [
      "OkOk\n",
      "4.3184874057769775\n",
      "2022-12-27 13:04:58\n"
     ]
    },
    {
     "name": "stderr",
     "output_type": "stream",
     "text": [
      "100%|███████████████████████████████████████████████████████████████████████████████| 902/902 [00:02<00:00, 307.31it/s]\n"
     ]
    },
    {
     "name": "stdout",
     "output_type": "stream",
     "text": [
      "OkOk\n",
      "3.848665237426758\n",
      "2022-12-27 13:19:58\n"
     ]
    },
    {
     "name": "stderr",
     "output_type": "stream",
     "text": [
      "100%|███████████████████████████████████████████████████████████████████████████████| 902/902 [00:03<00:00, 297.54it/s]\n"
     ]
    },
    {
     "name": "stdout",
     "output_type": "stream",
     "text": [
      "OkOk\n",
      "3.9659931659698486\n",
      "2022-12-27 13:34:58\n"
     ]
    },
    {
     "name": "stderr",
     "output_type": "stream",
     "text": [
      "100%|███████████████████████████████████████████████████████████████████████████████| 902/902 [00:03<00:00, 277.60it/s]\n"
     ]
    },
    {
     "name": "stdout",
     "output_type": "stream",
     "text": [
      "OkOk\n",
      "4.217718601226807\n",
      "2022-12-27 13:49:58\n"
     ]
    },
    {
     "name": "stderr",
     "output_type": "stream",
     "text": [
      "100%|███████████████████████████████████████████████████████████████████████████████| 902/902 [00:03<00:00, 284.44it/s]\n"
     ]
    },
    {
     "name": "stdout",
     "output_type": "stream",
     "text": [
      "OkOk\n",
      "4.124012470245361\n",
      "2022-12-27 14:04:58\n"
     ]
    },
    {
     "name": "stderr",
     "output_type": "stream",
     "text": [
      "100%|███████████████████████████████████████████████████████████████████████████████| 902/902 [00:03<00:00, 258.93it/s]\n"
     ]
    },
    {
     "name": "stdout",
     "output_type": "stream",
     "text": [
      "OkOk\n",
      "4.491220951080322\n",
      "2022-12-27 14:19:58\n"
     ]
    },
    {
     "name": "stderr",
     "output_type": "stream",
     "text": [
      "100%|███████████████████████████████████████████████████████████████████████████████| 902/902 [00:03<00:00, 248.36it/s]\n"
     ]
    },
    {
     "name": "stdout",
     "output_type": "stream",
     "text": [
      "OkOk\n",
      "4.62613320350647\n",
      "2022-12-27 14:34:58\n"
     ]
    },
    {
     "name": "stderr",
     "output_type": "stream",
     "text": [
      "100%|███████████████████████████████████████████████████████████████████████████████| 902/902 [00:03<00:00, 231.44it/s]\n"
     ]
    },
    {
     "name": "stdout",
     "output_type": "stream",
     "text": [
      "OkOk\n",
      "4.928343772888184\n",
      "2022-12-27 14:49:58\n"
     ]
    },
    {
     "name": "stderr",
     "output_type": "stream",
     "text": [
      "100%|███████████████████████████████████████████████████████████████████████████████| 902/902 [00:03<00:00, 239.49it/s]\n"
     ]
    },
    {
     "name": "stdout",
     "output_type": "stream",
     "text": [
      "OkOk\n",
      "4.898081302642822\n",
      "2022-12-27 15:04:58\n"
     ]
    },
    {
     "name": "stderr",
     "output_type": "stream",
     "text": [
      "100%|███████████████████████████████████████████████████████████████████████████████| 902/902 [00:03<00:00, 256.09it/s]\n"
     ]
    },
    {
     "name": "stdout",
     "output_type": "stream",
     "text": [
      "OkOk\n",
      "4.4833619594573975\n",
      "2022-12-27 15:19:58\n"
     ]
    },
    {
     "name": "stderr",
     "output_type": "stream",
     "text": [
      "100%|███████████████████████████████████████████████████████████████████████████████| 902/902 [00:03<00:00, 249.00it/s]\n"
     ]
    },
    {
     "name": "stdout",
     "output_type": "stream",
     "text": [
      "OkOk\n",
      "4.632626295089722\n",
      "2022-12-27 15:34:58\n"
     ]
    },
    {
     "name": "stderr",
     "output_type": "stream",
     "text": [
      "100%|███████████████████████████████████████████████████████████████████████████████| 902/902 [00:03<00:00, 231.45it/s]\n"
     ]
    },
    {
     "name": "stdout",
     "output_type": "stream",
     "text": [
      "OkOk\n",
      "4.865681171417236\n",
      "2022-12-27 15:49:58\n"
     ]
    },
    {
     "name": "stderr",
     "output_type": "stream",
     "text": [
      "100%|███████████████████████████████████████████████████████████████████████████████| 902/902 [00:03<00:00, 230.46it/s]\n"
     ]
    },
    {
     "name": "stdout",
     "output_type": "stream",
     "text": [
      "OkOk\n",
      "4.987010717391968\n",
      "2022-12-27 16:04:58\n"
     ]
    },
    {
     "name": "stderr",
     "output_type": "stream",
     "text": [
      "100%|███████████████████████████████████████████████████████████████████████████████| 902/902 [00:04<00:00, 196.64it/s]\n"
     ]
    },
    {
     "name": "stdout",
     "output_type": "stream",
     "text": [
      "OkOk\n",
      "5.705304384231567\n",
      "2022-12-27 16:19:58\n"
     ]
    },
    {
     "name": "stderr",
     "output_type": "stream",
     "text": [
      "100%|███████████████████████████████████████████████████████████████████████████████| 902/902 [00:04<00:00, 206.89it/s]\n"
     ]
    },
    {
     "name": "stdout",
     "output_type": "stream",
     "text": [
      "OkOk\n",
      "5.411275863647461\n",
      "2022-12-27 16:34:58\n"
     ]
    },
    {
     "name": "stderr",
     "output_type": "stream",
     "text": [
      "100%|███████████████████████████████████████████████████████████████████████████████| 902/902 [00:04<00:00, 199.08it/s]\n"
     ]
    },
    {
     "name": "stdout",
     "output_type": "stream",
     "text": [
      "OkOk\n",
      "5.578254222869873\n",
      "2022-12-27 16:49:58\n"
     ]
    },
    {
     "name": "stderr",
     "output_type": "stream",
     "text": [
      "100%|███████████████████████████████████████████████████████████████████████████████| 902/902 [00:04<00:00, 200.42it/s]\n"
     ]
    },
    {
     "name": "stdout",
     "output_type": "stream",
     "text": [
      "OkOk\n",
      "5.484642267227173\n",
      "2022-12-27 17:04:58\n"
     ]
    },
    {
     "name": "stderr",
     "output_type": "stream",
     "text": [
      "100%|███████████████████████████████████████████████████████████████████████████████| 901/901 [00:05<00:00, 170.76it/s]\n"
     ]
    },
    {
     "name": "stdout",
     "output_type": "stream",
     "text": [
      "OkOk\n",
      "6.35501503944397\n",
      "2022-12-27 17:19:58\n"
     ]
    },
    {
     "name": "stderr",
     "output_type": "stream",
     "text": [
      "100%|███████████████████████████████████████████████████████████████████████████████| 903/903 [00:05<00:00, 175.38it/s]\n"
     ]
    },
    {
     "name": "stdout",
     "output_type": "stream",
     "text": [
      "OkOk\n",
      "6.199756860733032\n",
      "2022-12-27 17:34:58\n"
     ]
    },
    {
     "name": "stderr",
     "output_type": "stream",
     "text": [
      "100%|███████████████████████████████████████████████████████████████████████████████| 902/902 [00:05<00:00, 158.43it/s]\n"
     ]
    },
    {
     "name": "stdout",
     "output_type": "stream",
     "text": [
      "OkOk\n",
      "6.876635313034058\n",
      "2022-12-27 17:49:58\n"
     ]
    },
    {
     "name": "stderr",
     "output_type": "stream",
     "text": [
      "100%|███████████████████████████████████████████████████████████████████████████████| 902/902 [00:05<00:00, 153.01it/s]\n"
     ]
    },
    {
     "name": "stdout",
     "output_type": "stream",
     "text": [
      "OkOk\n",
      "7.109601736068726\n",
      "2022-12-27 18:04:58\n"
     ]
    },
    {
     "name": "stderr",
     "output_type": "stream",
     "text": [
      "100%|███████████████████████████████████████████████████████████████████████████████| 902/902 [00:05<00:00, 174.29it/s]\n"
     ]
    },
    {
     "name": "stdout",
     "output_type": "stream",
     "text": [
      "OkOk\n",
      "6.356406927108765\n",
      "2022-12-27 18:19:58\n"
     ]
    },
    {
     "name": "stderr",
     "output_type": "stream",
     "text": [
      "100%|███████████████████████████████████████████████████████████████████████████████| 902/902 [00:05<00:00, 179.39it/s]\n"
     ]
    },
    {
     "name": "stdout",
     "output_type": "stream",
     "text": [
      "OkOk\n",
      "6.079750299453735\n",
      "2022-12-27 18:34:58\n"
     ]
    },
    {
     "name": "stderr",
     "output_type": "stream",
     "text": [
      "100%|███████████████████████████████████████████████████████████████████████████████| 902/902 [00:01<00:00, 626.16it/s]\n"
     ]
    },
    {
     "name": "stdout",
     "output_type": "stream",
     "text": [
      "OkOk\n",
      "2.3847334384918213\n",
      "2022-12-27 18:49:58\n"
     ]
    },
    {
     "name": "stderr",
     "output_type": "stream",
     "text": [
      "100%|███████████████████████████████████████████████████████████████████████████████| 902/902 [00:01<00:00, 656.16it/s]\n"
     ]
    },
    {
     "name": "stdout",
     "output_type": "stream",
     "text": [
      "OkOk\n",
      "1.9574365615844727\n",
      "2022-12-27 19:04:58\n"
     ]
    },
    {
     "name": "stderr",
     "output_type": "stream",
     "text": [
      "100%|███████████████████████████████████████████████████████████████████████████████| 902/902 [00:01<00:00, 643.43it/s]\n"
     ]
    },
    {
     "name": "stdout",
     "output_type": "stream",
     "text": [
      "OkOk\n",
      "1.974639654159546\n",
      "2022-12-27 19:19:58\n"
     ]
    },
    {
     "name": "stderr",
     "output_type": "stream",
     "text": [
      "100%|███████████████████████████████████████████████████████████████████████████████| 901/901 [00:01<00:00, 598.03it/s]\n"
     ]
    },
    {
     "name": "stdout",
     "output_type": "stream",
     "text": [
      "OkOk\n",
      "2.159391164779663\n",
      "2022-12-27 19:34:58\n"
     ]
    },
    {
     "name": "stderr",
     "output_type": "stream",
     "text": [
      "100%|███████████████████████████████████████████████████████████████████████████████| 903/903 [00:01<00:00, 649.52it/s]\n"
     ]
    },
    {
     "name": "stdout",
     "output_type": "stream",
     "text": [
      "OkOk\n",
      "1.9879693984985352\n",
      "2022-12-27 19:49:58\n"
     ]
    },
    {
     "name": "stderr",
     "output_type": "stream",
     "text": [
      "100%|███████████████████████████████████████████████████████████████████████████████| 902/902 [00:01<00:00, 620.88it/s]\n"
     ]
    },
    {
     "name": "stdout",
     "output_type": "stream",
     "text": [
      "OkOk\n",
      "2.0906624794006348\n",
      "2022-12-27 20:04:58\n"
     ]
    },
    {
     "name": "stderr",
     "output_type": "stream",
     "text": [
      "100%|███████████████████████████████████████████████████████████████████████████████| 902/902 [00:01<00:00, 571.70it/s]\n"
     ]
    },
    {
     "name": "stdout",
     "output_type": "stream",
     "text": [
      "OkOk\n",
      "2.187513828277588\n",
      "2022-12-27 20:19:58\n"
     ]
    },
    {
     "name": "stderr",
     "output_type": "stream",
     "text": [
      "100%|███████████████████████████████████████████████████████████████████████████████| 902/902 [00:01<00:00, 557.25it/s]\n"
     ]
    },
    {
     "name": "stdout",
     "output_type": "stream",
     "text": [
      "OkOk\n",
      "2.2749781608581543\n",
      "2022-12-27 20:34:58\n"
     ]
    },
    {
     "name": "stderr",
     "output_type": "stream",
     "text": [
      "100%|███████████████████████████████████████████████████████████████████████████████| 902/902 [00:01<00:00, 559.89it/s]\n"
     ]
    },
    {
     "name": "stdout",
     "output_type": "stream",
     "text": [
      "OkOk\n",
      "2.2832133769989014\n",
      "2022-12-27 20:49:58\n"
     ]
    },
    {
     "name": "stderr",
     "output_type": "stream",
     "text": [
      "100%|███████████████████████████████████████████████████████████████████████████████| 901/901 [00:01<00:00, 521.84it/s]\n"
     ]
    },
    {
     "name": "stdout",
     "output_type": "stream",
     "text": [
      "OkOk\n",
      "2.445129871368408\n",
      "2022-12-27 21:04:57\n"
     ]
    },
    {
     "name": "stderr",
     "output_type": "stream",
     "text": [
      "100%|███████████████████████████████████████████████████████████████████████████████| 902/902 [00:01<00:00, 534.30it/s]\n"
     ]
    },
    {
     "name": "stdout",
     "output_type": "stream",
     "text": [
      "OkOk\n",
      "2.3442633152008057\n",
      "2022-12-27 21:19:57\n"
     ]
    },
    {
     "name": "stderr",
     "output_type": "stream",
     "text": [
      "100%|███████████████████████████████████████████████████████████████████████████████| 902/902 [00:01<00:00, 506.11it/s]\n"
     ]
    },
    {
     "name": "stdout",
     "output_type": "stream",
     "text": [
      "OkOk\n",
      "2.46185564994812\n",
      "2022-12-27 21:34:57\n"
     ]
    },
    {
     "name": "stderr",
     "output_type": "stream",
     "text": [
      "100%|███████████████████████████████████████████████████████████████████████████████| 902/902 [00:01<00:00, 533.44it/s]\n"
     ]
    },
    {
     "name": "stdout",
     "output_type": "stream",
     "text": [
      "OkOk\n",
      "2.338665723800659\n",
      "2022-12-27 21:49:57\n"
     ]
    },
    {
     "name": "stderr",
     "output_type": "stream",
     "text": [
      "100%|███████████████████████████████████████████████████████████████████████████████| 903/903 [00:01<00:00, 535.06it/s]\n"
     ]
    },
    {
     "name": "stdout",
     "output_type": "stream",
     "text": [
      "OkOk\n",
      "2.3437464237213135\n",
      "2022-12-27 22:04:58\n"
     ]
    },
    {
     "name": "stderr",
     "output_type": "stream",
     "text": [
      "100%|███████████████████████████████████████████████████████████████████████████████| 902/902 [00:01<00:00, 490.99it/s]\n"
     ]
    },
    {
     "name": "stdout",
     "output_type": "stream",
     "text": [
      "OkOk\n",
      "23.612309455871582\n",
      "2022-12-27 22:19:58\n"
     ]
    },
    {
     "name": "stderr",
     "output_type": "stream",
     "text": [
      "100%|███████████████████████████████████████████████████████████████████████████████| 902/902 [00:01<00:00, 461.66it/s]\n"
     ]
    },
    {
     "name": "stdout",
     "output_type": "stream",
     "text": [
      "OkOk\n",
      "2.641160249710083\n",
      "2022-12-27 22:34:58\n"
     ]
    },
    {
     "name": "stderr",
     "output_type": "stream",
     "text": [
      "100%|███████████████████████████████████████████████████████████████████████████████| 902/902 [00:01<00:00, 451.86it/s]\n"
     ]
    },
    {
     "name": "stdout",
     "output_type": "stream",
     "text": [
      "OkOk\n",
      "2.761643886566162\n",
      "2022-12-27 22:49:58\n"
     ]
    },
    {
     "name": "stderr",
     "output_type": "stream",
     "text": [
      "100%|███████████████████████████████████████████████████████████████████████████████| 901/901 [00:02<00:00, 446.79it/s]\n"
     ]
    },
    {
     "name": "stdout",
     "output_type": "stream",
     "text": [
      "OkOk\n",
      "2.7664175033569336\n",
      "2022-12-27 23:04:57\n"
     ]
    },
    {
     "name": "stderr",
     "output_type": "stream",
     "text": [
      "100%|███████████████████████████████████████████████████████████████████████████████| 902/902 [00:01<00:00, 455.51it/s]\n"
     ]
    },
    {
     "name": "stdout",
     "output_type": "stream",
     "text": [
      "OkOk\n",
      "2.776909112930298\n",
      "2022-12-27 23:19:57\n"
     ]
    },
    {
     "name": "stderr",
     "output_type": "stream",
     "text": [
      "100%|███████████████████████████████████████████████████████████████████████████████| 902/902 [00:02<00:00, 433.01it/s]\n"
     ]
    },
    {
     "name": "stdout",
     "output_type": "stream",
     "text": [
      "OkOk\n",
      "2.8797671794891357\n",
      "2022-12-27 23:34:57\n"
     ]
    },
    {
     "name": "stderr",
     "output_type": "stream",
     "text": [
      "100%|███████████████████████████████████████████████████████████████████████████████| 902/902 [00:02<00:00, 442.86it/s]\n"
     ]
    },
    {
     "name": "stdout",
     "output_type": "stream",
     "text": [
      "OkOk\n",
      "2.739685297012329\n",
      "2022-12-27 23:49:57\n"
     ]
    },
    {
     "name": "stderr",
     "output_type": "stream",
     "text": [
      "100%|███████████████████████████████████████████████████████████████████████████████| 902/902 [00:01<00:00, 454.66it/s]\n"
     ]
    },
    {
     "name": "stdout",
     "output_type": "stream",
     "text": [
      "OkOk\n",
      "2.7256534099578857\n",
      "2022-12-28 00:04:57\n"
     ]
    },
    {
     "name": "stderr",
     "output_type": "stream",
     "text": [
      "100%|███████████████████████████████████████████████████████████████████████████████| 902/902 [00:02<00:00, 413.52it/s]\n"
     ]
    },
    {
     "name": "stdout",
     "output_type": "stream",
     "text": [
      "OkOk\n",
      "3.016303300857544\n",
      "2022-12-28 00:19:57\n"
     ]
    },
    {
     "name": "stderr",
     "output_type": "stream",
     "text": [
      "100%|███████████████████████████████████████████████████████████████████████████████| 902/902 [00:02<00:00, 405.20it/s]\n"
     ]
    },
    {
     "name": "stdout",
     "output_type": "stream",
     "text": [
      "OkOk\n",
      "2.975881814956665\n",
      "2022-12-28 00:34:57\n"
     ]
    },
    {
     "name": "stderr",
     "output_type": "stream",
     "text": [
      "100%|███████████████████████████████████████████████████████████████████████████████| 902/902 [00:02<00:00, 370.99it/s]\n"
     ]
    },
    {
     "name": "stdout",
     "output_type": "stream",
     "text": [
      "OkOk\n",
      "3.2436273097991943\n",
      "2022-12-28 00:49:57\n"
     ]
    },
    {
     "name": "stderr",
     "output_type": "stream",
     "text": [
      "100%|███████████████████████████████████████████████████████████████████████████████| 902/902 [00:02<00:00, 365.23it/s]\n"
     ]
    },
    {
     "name": "stdout",
     "output_type": "stream",
     "text": [
      "OkOk\n",
      "3.2663462162017822\n",
      "2022-12-28 01:04:57\n"
     ]
    },
    {
     "name": "stderr",
     "output_type": "stream",
     "text": [
      "100%|███████████████████████████████████████████████████████████████████████████████| 902/902 [00:02<00:00, 413.83it/s]\n"
     ]
    },
    {
     "name": "stdout",
     "output_type": "stream",
     "text": [
      "OkOk\n",
      "2.9536731243133545\n",
      "2022-12-28 01:19:57\n"
     ]
    },
    {
     "name": "stderr",
     "output_type": "stream",
     "text": [
      "100%|███████████████████████████████████████████████████████████████████████████████| 902/902 [00:02<00:00, 404.13it/s]\n"
     ]
    },
    {
     "name": "stdout",
     "output_type": "stream",
     "text": [
      "OkOk\n",
      "2.9731192588806152\n",
      "2022-12-28 01:34:57\n"
     ]
    },
    {
     "name": "stderr",
     "output_type": "stream",
     "text": [
      "100%|███████████████████████████████████████████████████████████████████████████████| 902/902 [00:02<00:00, 347.44it/s]\n"
     ]
    },
    {
     "name": "stdout",
     "output_type": "stream",
     "text": [
      "OkOk\n",
      "3.3629353046417236\n",
      "2022-12-28 01:49:57\n"
     ]
    },
    {
     "name": "stderr",
     "output_type": "stream",
     "text": [
      "100%|███████████████████████████████████████████████████████████████████████████████| 902/902 [00:02<00:00, 337.05it/s]\n"
     ]
    },
    {
     "name": "stdout",
     "output_type": "stream",
     "text": [
      "OkOk\n",
      "3.441699743270874\n",
      "2022-12-28 02:04:57\n"
     ]
    },
    {
     "name": "stderr",
     "output_type": "stream",
     "text": [
      "100%|███████████████████████████████████████████████████████████████████████████████| 902/902 [00:02<00:00, 303.73it/s]\n"
     ]
    },
    {
     "name": "stdout",
     "output_type": "stream",
     "text": [
      "OkOk\n",
      "3.766447067260742\n",
      "2022-12-28 02:19:57\n"
     ]
    },
    {
     "name": "stderr",
     "output_type": "stream",
     "text": [
      "100%|███████████████████████████████████████████████████████████████████████████████| 902/902 [00:02<00:00, 306.36it/s]\n"
     ]
    },
    {
     "name": "stdout",
     "output_type": "stream",
     "text": [
      "OkOk\n",
      "3.8109796047210693\n",
      "2022-12-28 02:34:57\n"
     ]
    },
    {
     "name": "stderr",
     "output_type": "stream",
     "text": [
      "100%|███████████████████████████████████████████████████████████████████████████████| 902/902 [00:03<00:00, 283.95it/s]\n"
     ]
    },
    {
     "name": "stdout",
     "output_type": "stream",
     "text": [
      "OkOk\n",
      "4.051398038864136\n",
      "2022-12-28 02:49:57\n"
     ]
    },
    {
     "name": "stderr",
     "output_type": "stream",
     "text": [
      "100%|███████████████████████████████████████████████████████████████████████████████| 902/902 [00:03<00:00, 262.34it/s]\n"
     ]
    },
    {
     "name": "stdout",
     "output_type": "stream",
     "text": [
      "OkOk\n",
      "4.359930992126465\n",
      "2022-12-28 03:04:57\n"
     ]
    },
    {
     "name": "stderr",
     "output_type": "stream",
     "text": [
      "100%|███████████████████████████████████████████████████████████████████████████████| 902/902 [00:02<00:00, 302.13it/s]\n"
     ]
    },
    {
     "name": "stdout",
     "output_type": "stream",
     "text": [
      "OkOk\n",
      "3.804689884185791\n",
      "2022-12-28 03:19:57\n"
     ]
    },
    {
     "name": "stderr",
     "output_type": "stream",
     "text": [
      "100%|███████████████████████████████████████████████████████████████████████████████| 902/902 [00:03<00:00, 292.75it/s]\n"
     ]
    },
    {
     "name": "stdout",
     "output_type": "stream",
     "text": [
      "OkOk\n",
      "3.8847265243530273\n",
      "2022-12-28 03:34:57\n"
     ]
    },
    {
     "name": "stderr",
     "output_type": "stream",
     "text": [
      "100%|███████████████████████████████████████████████████████████████████████████████| 902/902 [00:03<00:00, 273.08it/s]\n"
     ]
    },
    {
     "name": "stdout",
     "output_type": "stream",
     "text": [
      "OkOk\n",
      "4.122377157211304\n",
      "2022-12-28 03:49:57\n"
     ]
    },
    {
     "name": "stderr",
     "output_type": "stream",
     "text": [
      "100%|███████████████████████████████████████████████████████████████████████████████| 902/902 [00:03<00:00, 278.94it/s]\n"
     ]
    },
    {
     "name": "stdout",
     "output_type": "stream",
     "text": [
      "OkOk\n",
      "4.045986175537109\n",
      "2022-12-28 04:04:57\n"
     ]
    },
    {
     "name": "stderr",
     "output_type": "stream",
     "text": [
      "100%|███████████████████████████████████████████████████████████████████████████████| 902/902 [00:03<00:00, 249.77it/s]\n"
     ]
    },
    {
     "name": "stdout",
     "output_type": "stream",
     "text": [
      "OkOk\n",
      "4.524729013442993\n",
      "2022-12-28 04:19:57\n"
     ]
    },
    {
     "name": "stderr",
     "output_type": "stream",
     "text": [
      "100%|███████████████████████████████████████████████████████████████████████████████| 902/902 [00:03<00:00, 248.42it/s]\n"
     ]
    },
    {
     "name": "stdout",
     "output_type": "stream",
     "text": [
      "OkOk\n",
      "4.5781495571136475\n",
      "2022-12-28 04:34:57\n"
     ]
    },
    {
     "name": "stderr",
     "output_type": "stream",
     "text": [
      "100%|███████████████████████████████████████████████████████████████████████████████| 902/902 [00:03<00:00, 234.56it/s]\n"
     ]
    },
    {
     "name": "stdout",
     "output_type": "stream",
     "text": [
      "OkOk\n",
      "4.7278571128845215\n",
      "2022-12-28 04:49:57\n"
     ]
    },
    {
     "name": "stderr",
     "output_type": "stream",
     "text": [
      "100%|███████████████████████████████████████████████████████████████████████████████| 902/902 [00:03<00:00, 237.62it/s]\n"
     ]
    },
    {
     "name": "stdout",
     "output_type": "stream",
     "text": [
      "OkOk\n",
      "4.701993227005005\n",
      "2022-12-28 05:04:57\n"
     ]
    },
    {
     "name": "stderr",
     "output_type": "stream",
     "text": [
      "100%|███████████████████████████████████████████████████████████████████████████████| 902/902 [00:03<00:00, 250.93it/s]\n"
     ]
    },
    {
     "name": "stdout",
     "output_type": "stream",
     "text": [
      "OkOk\n",
      "4.4538733959198\n",
      "2022-12-28 05:19:57\n"
     ]
    },
    {
     "name": "stderr",
     "output_type": "stream",
     "text": [
      "100%|███████████████████████████████████████████████████████████████████████████████| 902/902 [00:03<00:00, 246.07it/s]\n"
     ]
    },
    {
     "name": "stdout",
     "output_type": "stream",
     "text": [
      "OkOk\n",
      "4.534264802932739\n",
      "2022-12-28 05:34:57\n"
     ]
    },
    {
     "name": "stderr",
     "output_type": "stream",
     "text": [
      "100%|███████████████████████████████████████████████████████████████████████████████| 902/902 [00:03<00:00, 228.99it/s]\n"
     ]
    },
    {
     "name": "stdout",
     "output_type": "stream",
     "text": [
      "OkOk\n",
      "4.861021995544434\n",
      "2022-12-28 05:49:57\n"
     ]
    },
    {
     "name": "stderr",
     "output_type": "stream",
     "text": [
      "100%|███████████████████████████████████████████████████████████████████████████████| 902/902 [00:03<00:00, 236.96it/s]\n"
     ]
    },
    {
     "name": "stdout",
     "output_type": "stream",
     "text": [
      "OkOk\n",
      "4.681467771530151\n",
      "2022-12-28 06:04:57\n"
     ]
    },
    {
     "name": "stderr",
     "output_type": "stream",
     "text": [
      "100%|███████████████████████████████████████████████████████████████████████████████| 902/902 [00:04<00:00, 214.48it/s]\n"
     ]
    },
    {
     "name": "stdout",
     "output_type": "stream",
     "text": [
      "OkOk\n",
      "5.127139329910278\n",
      "2022-12-28 06:19:57\n"
     ]
    },
    {
     "name": "stderr",
     "output_type": "stream",
     "text": [
      "100%|███████████████████████████████████████████████████████████████████████████████| 902/902 [00:04<00:00, 201.90it/s]\n"
     ]
    },
    {
     "name": "stdout",
     "output_type": "stream",
     "text": [
      "OkOk\n",
      "5.439000129699707\n",
      "2022-12-28 06:34:57\n"
     ]
    },
    {
     "name": "stderr",
     "output_type": "stream",
     "text": [
      "100%|███████████████████████████████████████████████████████████████████████████████| 902/902 [00:04<00:00, 185.32it/s]\n"
     ]
    },
    {
     "name": "stdout",
     "output_type": "stream",
     "text": [
      "OkOk\n",
      "5.854048728942871\n",
      "2022-12-28 06:49:57\n"
     ]
    },
    {
     "name": "stderr",
     "output_type": "stream",
     "text": [
      "100%|███████████████████████████████████████████████████████████████████████████████| 902/902 [00:05<00:00, 179.82it/s]\n"
     ]
    },
    {
     "name": "stdout",
     "output_type": "stream",
     "text": [
      "OkOk\n",
      "6.022650718688965\n",
      "2022-12-28 07:04:57\n"
     ]
    },
    {
     "name": "stderr",
     "output_type": "stream",
     "text": [
      "100%|███████████████████████████████████████████████████████████████████████████████| 902/902 [00:04<00:00, 197.66it/s]\n"
     ]
    },
    {
     "name": "stdout",
     "output_type": "stream",
     "text": [
      "OkOk\n",
      "5.453913927078247\n",
      "2022-12-28 07:19:57\n"
     ]
    },
    {
     "name": "stderr",
     "output_type": "stream",
     "text": [
      "100%|███████████████████████████████████████████████████████████████████████████████| 902/902 [00:04<00:00, 189.00it/s]\n"
     ]
    },
    {
     "name": "stdout",
     "output_type": "stream",
     "text": [
      "OkOk\n",
      "5.725466966629028\n",
      "2022-12-28 07:34:57\n"
     ]
    },
    {
     "name": "stderr",
     "output_type": "stream",
     "text": [
      "100%|███████████████████████████████████████████████████████████████████████████████| 902/902 [00:04<00:00, 182.73it/s]\n"
     ]
    },
    {
     "name": "stdout",
     "output_type": "stream",
     "text": [
      "OkOk\n",
      "5.889830589294434\n",
      "2022-12-28 07:49:57\n"
     ]
    },
    {
     "name": "stderr",
     "output_type": "stream",
     "text": [
      "100%|███████████████████████████████████████████████████████████████████████████████| 902/902 [00:04<00:00, 188.70it/s]\n"
     ]
    },
    {
     "name": "stdout",
     "output_type": "stream",
     "text": [
      "OkOk\n",
      "5.71747088432312\n",
      "2022-12-28 08:04:57\n"
     ]
    },
    {
     "name": "stderr",
     "output_type": "stream",
     "text": [
      "100%|███████████████████████████████████████████████████████████████████████████████| 902/902 [00:05<00:00, 170.06it/s]\n"
     ]
    },
    {
     "name": "stdout",
     "output_type": "stream",
     "text": [
      "OkOk\n",
      "6.381895303726196\n",
      "2022-12-28 08:19:57\n"
     ]
    },
    {
     "name": "stderr",
     "output_type": "stream",
     "text": [
      "100%|███████████████████████████████████████████████████████████████████████████████| 902/902 [00:03<00:00, 278.76it/s]\n"
     ]
    },
    {
     "name": "stdout",
     "output_type": "stream",
     "text": [
      "OkOk\n",
      "4.2617998123168945\n",
      "2022-12-28 08:34:57\n"
     ]
    },
    {
     "name": "stderr",
     "output_type": "stream",
     "text": [
      "100%|███████████████████████████████████████████████████████████████████████████████| 902/902 [00:01<00:00, 669.28it/s]\n"
     ]
    },
    {
     "name": "stdout",
     "output_type": "stream",
     "text": [
      "OkOk\n",
      "2.0231897830963135\n",
      "2022-12-28 08:49:57\n"
     ]
    },
    {
     "name": "stderr",
     "output_type": "stream",
     "text": [
      "100%|███████████████████████████████████████████████████████████████████████████████| 901/901 [00:01<00:00, 655.43it/s]\n"
     ]
    },
    {
     "name": "stdout",
     "output_type": "stream",
     "text": [
      "OkOk\n",
      "2.1089024543762207\n",
      "2022-12-28 09:04:56\n"
     ]
    },
    {
     "name": "stderr",
     "output_type": "stream",
     "text": [
      "100%|███████████████████████████████████████████████████████████████████████████████| 902/902 [00:01<00:00, 690.39it/s]\n"
     ]
    },
    {
     "name": "stdout",
     "output_type": "stream",
     "text": [
      "OkOk\n",
      "1.978203296661377\n",
      "2022-12-28 09:19:56\n"
     ]
    },
    {
     "name": "stderr",
     "output_type": "stream",
     "text": [
      "100%|███████████████████████████████████████████████████████████████████████████████| 903/903 [00:01<00:00, 667.31it/s]\n"
     ]
    },
    {
     "name": "stdout",
     "output_type": "stream",
     "text": [
      "OkOk\n",
      "2.337158203125\n",
      "2022-12-28 09:34:57\n"
     ]
    },
    {
     "name": "stderr",
     "output_type": "stream",
     "text": [
      "100%|███████████████████████████████████████████████████████████████████████████████| 901/901 [00:01<00:00, 636.35it/s]\n"
     ]
    },
    {
     "name": "stdout",
     "output_type": "stream",
     "text": [
      "OkOk\n",
      "2.1350202560424805\n",
      "2022-12-28 09:49:56\n"
     ]
    },
    {
     "name": "stderr",
     "output_type": "stream",
     "text": [
      "100%|███████████████████████████████████████████████████████████████████████████████| 902/902 [00:01<00:00, 634.55it/s]\n"
     ]
    },
    {
     "name": "stdout",
     "output_type": "stream",
     "text": [
      "OkOk\n",
      "2.1244637966156006\n",
      "2022-12-28 10:04:56\n"
     ]
    },
    {
     "name": "stderr",
     "output_type": "stream",
     "text": [
      "100%|███████████████████████████████████████████████████████████████████████████████| 903/903 [00:01<00:00, 574.22it/s]\n"
     ]
    },
    {
     "name": "stdout",
     "output_type": "stream",
     "text": [
      "OkOk\n",
      "2.3301851749420166\n",
      "2022-12-28 10:19:57\n"
     ]
    },
    {
     "name": "stderr",
     "output_type": "stream",
     "text": [
      "100%|███████████████████████████████████████████████████████████████████████████████| 902/902 [00:01<00:00, 556.66it/s]\n"
     ]
    },
    {
     "name": "stdout",
     "output_type": "stream",
     "text": [
      "OkOk\n",
      "2.370182991027832\n",
      "2022-12-28 10:34:57\n"
     ]
    },
    {
     "name": "stderr",
     "output_type": "stream",
     "text": [
      "100%|███████████████████████████████████████████████████████████████████████████████| 902/902 [00:01<00:00, 557.35it/s]\n"
     ]
    },
    {
     "name": "stdout",
     "output_type": "stream",
     "text": [
      "OkOk\n",
      "2.405806541442871\n",
      "2022-12-28 10:49:57\n"
     ]
    },
    {
     "name": "stderr",
     "output_type": "stream",
     "text": [
      "100%|███████████████████████████████████████████████████████████████████████████████| 901/901 [00:01<00:00, 529.15it/s]\n"
     ]
    },
    {
     "name": "stdout",
     "output_type": "stream",
     "text": [
      "OkOk\n",
      "2.49941086769104\n",
      "2022-12-28 11:04:56\n"
     ]
    },
    {
     "name": "stderr",
     "output_type": "stream",
     "text": [
      "100%|███████████████████████████████████████████████████████████████████████████████| 902/902 [00:01<00:00, 566.92it/s]\n"
     ]
    },
    {
     "name": "stdout",
     "output_type": "stream",
     "text": [
      "OkOk\n",
      "2.3252451419830322\n",
      "2022-12-28 11:19:56\n"
     ]
    },
    {
     "name": "stderr",
     "output_type": "stream",
     "text": [
      "100%|███████████████████████████████████████████████████████████████████████████████| 902/902 [00:01<00:00, 554.71it/s]\n"
     ]
    },
    {
     "name": "stdout",
     "output_type": "stream",
     "text": [
      "OkOk\n",
      "2.4072163105010986\n",
      "2022-12-28 11:34:56\n"
     ]
    },
    {
     "name": "stderr",
     "output_type": "stream",
     "text": [
      "100%|███████████████████████████████████████████████████████████████████████████████| 902/902 [00:01<00:00, 524.89it/s]\n"
     ]
    },
    {
     "name": "stdout",
     "output_type": "stream",
     "text": [
      "OkOk\n",
      "2.4753174781799316\n",
      "2022-12-28 11:49:56\n"
     ]
    },
    {
     "name": "stderr",
     "output_type": "stream",
     "text": [
      "100%|███████████████████████████████████████████████████████████████████████████████| 902/902 [00:01<00:00, 528.85it/s]\n"
     ]
    },
    {
     "name": "stdout",
     "output_type": "stream",
     "text": [
      "OkOk\n",
      "2.4553616046905518\n",
      "2022-12-28 12:04:56\n"
     ]
    },
    {
     "name": "stderr",
     "output_type": "stream",
     "text": [
      "100%|███████████████████████████████████████████████████████████████████████████████| 902/902 [00:01<00:00, 472.50it/s]\n"
     ]
    },
    {
     "name": "stdout",
     "output_type": "stream",
     "text": [
      "OkOk\n",
      "2.7525739669799805\n",
      "2022-12-28 12:19:56\n"
     ]
    },
    {
     "name": "stderr",
     "output_type": "stream",
     "text": [
      "100%|███████████████████████████████████████████████████████████████████████████████| 902/902 [00:01<00:00, 474.22it/s]\n"
     ]
    },
    {
     "name": "stdout",
     "output_type": "stream",
     "text": [
      "OkOk\n",
      "2.698777198791504\n",
      "2022-12-28 12:34:56\n"
     ]
    },
    {
     "name": "stderr",
     "output_type": "stream",
     "text": [
      "100%|███████████████████████████████████████████████████████████████████████████████| 902/902 [00:02<00:00, 437.93it/s]\n"
     ]
    },
    {
     "name": "stdout",
     "output_type": "stream",
     "text": [
      "OkOk\n",
      "2.996927499771118\n",
      "2022-12-28 12:49:56\n"
     ]
    },
    {
     "name": "stderr",
     "output_type": "stream",
     "text": [
      "100%|███████████████████████████████████████████████████████████████████████████████| 902/902 [00:02<00:00, 426.73it/s]\n"
     ]
    },
    {
     "name": "stdout",
     "output_type": "stream",
     "text": [
      "OkOk\n",
      "2.944495677947998\n",
      "2022-12-28 13:04:56\n"
     ]
    },
    {
     "name": "stderr",
     "output_type": "stream",
     "text": [
      "100%|███████████████████████████████████████████████████████████████████████████████| 902/902 [00:02<00:00, 432.07it/s]\n"
     ]
    },
    {
     "name": "stdout",
     "output_type": "stream",
     "text": [
      "OkOk\n",
      "2.931164264678955\n",
      "2022-12-28 13:19:56\n"
     ]
    },
    {
     "name": "stderr",
     "output_type": "stream",
     "text": [
      "100%|███████████████████████████████████████████████████████████████████████████████| 902/902 [00:01<00:00, 464.61it/s]\n"
     ]
    },
    {
     "name": "stdout",
     "output_type": "stream",
     "text": [
      "OkOk\n",
      "2.735450029373169\n",
      "2022-12-28 13:34:56\n"
     ]
    },
    {
     "name": "stderr",
     "output_type": "stream",
     "text": [
      "100%|███████████████████████████████████████████████████████████████████████████████| 902/902 [00:02<00:00, 418.32it/s]\n"
     ]
    },
    {
     "name": "stdout",
     "output_type": "stream",
     "text": [
      "OkOk\n",
      "3.0175297260284424\n",
      "2022-12-28 13:49:56\n"
     ]
    },
    {
     "name": "stderr",
     "output_type": "stream",
     "text": [
      "100%|███████████████████████████████████████████████████████████████████████████████| 902/902 [00:02<00:00, 416.40it/s]\n"
     ]
    },
    {
     "name": "stdout",
     "output_type": "stream",
     "text": [
      "OkOk\n",
      "3.0410261154174805\n",
      "2022-12-28 14:04:56\n"
     ]
    },
    {
     "name": "stderr",
     "output_type": "stream",
     "text": [
      "100%|███████████████████████████████████████████████████████████████████████████████| 902/902 [00:02<00:00, 435.20it/s]\n"
     ]
    },
    {
     "name": "stdout",
     "output_type": "stream",
     "text": [
      "OkOk\n",
      "2.921783685684204\n",
      "2022-12-28 14:19:56\n"
     ]
    },
    {
     "name": "stderr",
     "output_type": "stream",
     "text": [
      "100%|███████████████████████████████████████████████████████████████████████████████| 902/902 [00:02<00:00, 394.73it/s]\n"
     ]
    },
    {
     "name": "stdout",
     "output_type": "stream",
     "text": [
      "OkOk\n",
      "3.226980686187744\n",
      "2022-12-28 14:34:56\n"
     ]
    },
    {
     "name": "stderr",
     "output_type": "stream",
     "text": [
      "100%|███████████████████████████████████████████████████████████████████████████████| 902/902 [00:02<00:00, 406.98it/s]\n"
     ]
    },
    {
     "name": "stdout",
     "output_type": "stream",
     "text": [
      "OkOk\n",
      "3.0287210941314697\n",
      "2022-12-28 14:49:56\n"
     ]
    },
    {
     "name": "stderr",
     "output_type": "stream",
     "text": [
      "100%|███████████████████████████████████████████████████████████████████████████████| 902/902 [00:02<00:00, 379.75it/s]\n"
     ]
    },
    {
     "name": "stdout",
     "output_type": "stream",
     "text": [
      "OkOk\n",
      "3.281400203704834\n",
      "2022-12-28 15:04:56\n"
     ]
    },
    {
     "name": "stderr",
     "output_type": "stream",
     "text": [
      "100%|███████████████████████████████████████████████████████████████████████████████| 902/902 [00:02<00:00, 395.46it/s]\n"
     ]
    },
    {
     "name": "stdout",
     "output_type": "stream",
     "text": [
      "OkOk\n",
      "3.2339377403259277\n",
      "2022-12-28 15:19:56\n"
     ]
    },
    {
     "name": "stderr",
     "output_type": "stream",
     "text": [
      "100%|███████████████████████████████████████████████████████████████████████████████| 902/902 [00:02<00:00, 378.50it/s]\n"
     ]
    },
    {
     "name": "stdout",
     "output_type": "stream",
     "text": [
      "OkOk\n",
      "3.3203792572021484\n",
      "2022-12-28 15:34:56\n"
     ]
    },
    {
     "name": "stderr",
     "output_type": "stream",
     "text": [
      "100%|███████████████████████████████████████████████████████████████████████████████| 902/902 [00:03<00:00, 292.06it/s]\n"
     ]
    },
    {
     "name": "stdout",
     "output_type": "stream",
     "text": [
      "OkOk\n",
      "4.020880937576294\n",
      "2022-12-28 15:49:56\n"
     ]
    },
    {
     "name": "stderr",
     "output_type": "stream",
     "text": [
      "100%|███████████████████████████████████████████████████████████████████████████████| 902/902 [00:02<00:00, 324.02it/s]\n"
     ]
    },
    {
     "name": "stdout",
     "output_type": "stream",
     "text": [
      "OkOk\n",
      "3.6498005390167236\n",
      "2022-12-28 16:04:56\n"
     ]
    },
    {
     "name": "stderr",
     "output_type": "stream",
     "text": [
      "100%|███████████████████████████████████████████████████████████████████████████████| 902/902 [00:02<00:00, 318.10it/s]\n"
     ]
    },
    {
     "name": "stdout",
     "output_type": "stream",
     "text": [
      "OkOk\n",
      "3.7686755657196045\n",
      "2022-12-28 16:19:56\n"
     ]
    },
    {
     "name": "stderr",
     "output_type": "stream",
     "text": [
      "100%|███████████████████████████████████████████████████████████████████████████████| 902/902 [00:03<00:00, 291.63it/s]\n"
     ]
    },
    {
     "name": "stdout",
     "output_type": "stream",
     "text": [
      "OkOk\n",
      "4.088637113571167\n",
      "2022-12-28 16:34:56\n"
     ]
    },
    {
     "name": "stderr",
     "output_type": "stream",
     "text": [
      "100%|███████████████████████████████████████████████████████████████████████████████| 902/902 [00:03<00:00, 285.93it/s]\n"
     ]
    },
    {
     "name": "stdout",
     "output_type": "stream",
     "text": [
      "OkOk\n",
      "4.070812940597534\n",
      "2022-12-28 16:49:56\n"
     ]
    },
    {
     "name": "stderr",
     "output_type": "stream",
     "text": [
      "100%|███████████████████████████████████████████████████████████████████████████████| 902/902 [00:03<00:00, 271.74it/s]\n"
     ]
    },
    {
     "name": "stdout",
     "output_type": "stream",
     "text": [
      "OkOk\n",
      "4.3398377895355225\n",
      "2022-12-28 17:04:56\n"
     ]
    },
    {
     "name": "stderr",
     "output_type": "stream",
     "text": [
      "100%|███████████████████████████████████████████████████████████████████████████████| 902/902 [00:03<00:00, 270.47it/s]\n"
     ]
    },
    {
     "name": "stdout",
     "output_type": "stream",
     "text": [
      "OkOk\n",
      "4.4543297290802\n",
      "2022-12-28 17:19:56\n"
     ]
    },
    {
     "name": "stderr",
     "output_type": "stream",
     "text": [
      "100%|███████████████████████████████████████████████████████████████████████████████| 902/902 [00:03<00:00, 269.17it/s]\n"
     ]
    },
    {
     "name": "stdout",
     "output_type": "stream",
     "text": [
      "OkOk\n",
      "4.3300089836120605\n",
      "2022-12-28 17:34:56\n"
     ]
    },
    {
     "name": "stderr",
     "output_type": "stream",
     "text": [
      "100%|███████████████████████████████████████████████████████████████████████████████| 902/902 [00:03<00:00, 253.38it/s]\n"
     ]
    },
    {
     "name": "stdout",
     "output_type": "stream",
     "text": [
      "OkOk\n",
      "4.547168493270874\n",
      "2022-12-28 17:49:56\n"
     ]
    },
    {
     "name": "stderr",
     "output_type": "stream",
     "text": [
      "100%|███████████████████████████████████████████████████████████████████████████████| 902/902 [00:03<00:00, 266.31it/s]\n"
     ]
    },
    {
     "name": "stdout",
     "output_type": "stream",
     "text": [
      "OkOk\n",
      "4.285141944885254\n",
      "2022-12-28 18:04:56\n"
     ]
    },
    {
     "name": "stderr",
     "output_type": "stream",
     "text": [
      "100%|███████████████████████████████████████████████████████████████████████████████| 902/902 [00:03<00:00, 278.28it/s]\n"
     ]
    },
    {
     "name": "stdout",
     "output_type": "stream",
     "text": [
      "OkOk\n",
      "4.159934997558594\n",
      "2022-12-28 18:19:56\n"
     ]
    },
    {
     "name": "stderr",
     "output_type": "stream",
     "text": [
      "100%|███████████████████████████████████████████████████████████████████████████████| 902/902 [00:03<00:00, 245.55it/s]\n"
     ]
    },
    {
     "name": "stdout",
     "output_type": "stream",
     "text": [
      "OkOk\n",
      "4.689875841140747\n",
      "2022-12-28 18:34:56\n"
     ]
    },
    {
     "name": "stderr",
     "output_type": "stream",
     "text": [
      "100%|███████████████████████████████████████████████████████████████████████████████| 902/902 [00:03<00:00, 230.97it/s]\n"
     ]
    },
    {
     "name": "stdout",
     "output_type": "stream",
     "text": [
      "OkOk\n",
      "4.966445684432983\n",
      "2022-12-28 18:49:56\n"
     ]
    },
    {
     "name": "stderr",
     "output_type": "stream",
     "text": [
      "100%|███████████████████████████████████████████████████████████████████████████████| 902/902 [00:03<00:00, 226.81it/s]\n"
     ]
    },
    {
     "name": "stdout",
     "output_type": "stream",
     "text": [
      "OkOk\n",
      "4.95913028717041\n",
      "2022-12-28 19:04:56\n"
     ]
    },
    {
     "name": "stderr",
     "output_type": "stream",
     "text": [
      "100%|███████████████████████████████████████████████████████████████████████████████| 902/902 [00:03<00:00, 234.72it/s]\n"
     ]
    },
    {
     "name": "stdout",
     "output_type": "stream",
     "text": [
      "OkOk\n",
      "4.883915185928345\n",
      "2022-12-28 19:19:56\n"
     ]
    },
    {
     "name": "stderr",
     "output_type": "stream",
     "text": [
      "100%|███████████████████████████████████████████████████████████████████████████████| 902/902 [00:03<00:00, 240.59it/s]\n"
     ]
    },
    {
     "name": "stdout",
     "output_type": "stream",
     "text": [
      "OkOk\n",
      "4.715357303619385\n",
      "2022-12-28 19:34:56\n"
     ]
    },
    {
     "name": "stderr",
     "output_type": "stream",
     "text": [
      "100%|███████████████████████████████████████████████████████████████████████████████| 900/900 [00:03<00:00, 228.71it/s]\n"
     ]
    },
    {
     "name": "stdout",
     "output_type": "stream",
     "text": [
      "OkOk\n",
      "4.918989181518555\n",
      "2022-12-28 19:49:54\n"
     ]
    },
    {
     "name": "stderr",
     "output_type": "stream",
     "text": [
      "100%|███████████████████████████████████████████████████████████████████████████████| 902/902 [00:04<00:00, 225.06it/s]\n"
     ]
    },
    {
     "name": "stdout",
     "output_type": "stream",
     "text": [
      "OkOk\n",
      "5.018950700759888\n",
      "2022-12-28 20:04:54\n"
     ]
    },
    {
     "name": "stderr",
     "output_type": "stream",
     "text": [
      "100%|███████████████████████████████████████████████████████████████████████████████| 902/902 [00:04<00:00, 205.44it/s]\n"
     ]
    },
    {
     "name": "stdout",
     "output_type": "stream",
     "text": [
      "OkOk\n",
      "5.5466554164886475\n",
      "2022-12-28 20:19:54\n"
     ]
    },
    {
     "name": "stderr",
     "output_type": "stream",
     "text": [
      "100%|███████████████████████████████████████████████████████████████████████████████| 902/902 [00:04<00:00, 189.22it/s]\n"
     ]
    },
    {
     "name": "stdout",
     "output_type": "stream",
     "text": [
      "OkOk\n",
      "5.806753396987915\n",
      "2022-12-28 20:34:54\n"
     ]
    },
    {
     "name": "stderr",
     "output_type": "stream",
     "text": [
      "100%|███████████████████████████████████████████████████████████████████████████████| 902/902 [00:04<00:00, 187.73it/s]\n"
     ]
    },
    {
     "name": "stdout",
     "output_type": "stream",
     "text": [
      "OkOk\n",
      "5.875188589096069\n",
      "2022-12-28 20:49:54\n"
     ]
    },
    {
     "name": "stderr",
     "output_type": "stream",
     "text": [
      "100%|███████████████████████████████████████████████████████████████████████████████| 902/902 [00:05<00:00, 179.32it/s]\n"
     ]
    },
    {
     "name": "stdout",
     "output_type": "stream",
     "text": [
      "OkOk\n",
      "6.178021192550659\n",
      "2022-12-28 21:04:54\n"
     ]
    },
    {
     "name": "stderr",
     "output_type": "stream",
     "text": [
      "100%|███████████████████████████████████████████████████████████████████████████████| 902/902 [00:04<00:00, 196.45it/s]\n"
     ]
    },
    {
     "name": "stdout",
     "output_type": "stream",
     "text": [
      "OkOk\n",
      "5.59151291847229\n",
      "2022-12-28 21:19:54\n"
     ]
    },
    {
     "name": "stderr",
     "output_type": "stream",
     "text": [
      "100%|███████████████████████████████████████████████████████████████████████████████| 902/902 [00:04<00:00, 186.74it/s]\n"
     ]
    },
    {
     "name": "stdout",
     "output_type": "stream",
     "text": [
      "OkOk\n",
      "5.822405099868774\n",
      "2022-12-28 21:34:54\n"
     ]
    },
    {
     "name": "stderr",
     "output_type": "stream",
     "text": [
      "100%|███████████████████████████████████████████████████████████████████████████████| 902/902 [00:04<00:00, 186.45it/s]\n"
     ]
    },
    {
     "name": "stdout",
     "output_type": "stream",
     "text": [
      "OkOk\n",
      "5.844513416290283\n",
      "2022-12-28 21:49:54\n"
     ]
    },
    {
     "name": "stderr",
     "output_type": "stream",
     "text": [
      "100%|███████████████████████████████████████████████████████████████████████████████| 902/902 [00:05<00:00, 171.53it/s]\n"
     ]
    },
    {
     "name": "stdout",
     "output_type": "stream",
     "text": [
      "OkOk\n",
      "6.352165699005127\n",
      "2022-12-28 22:04:54\n"
     ]
    },
    {
     "name": "stderr",
     "output_type": "stream",
     "text": [
      "100%|███████████████████████████████████████████████████████████████████████████████| 902/902 [00:04<00:00, 182.47it/s]\n"
     ]
    },
    {
     "name": "stdout",
     "output_type": "stream",
     "text": [
      "OkOk\n",
      "5.818190574645996\n",
      "2022-12-28 22:19:54\n"
     ]
    },
    {
     "name": "stderr",
     "output_type": "stream",
     "text": [
      "100%|███████████████████████████████████████████████████████████████████████████████| 902/902 [00:01<00:00, 721.77it/s]\n"
     ]
    },
    {
     "name": "stdout",
     "output_type": "stream",
     "text": [
      "OkOk\n",
      "1.897991418838501\n",
      "2022-12-28 22:34:54\n"
     ]
    },
    {
     "name": "stderr",
     "output_type": "stream",
     "text": [
      "100%|███████████████████████████████████████████████████████████████████████████████| 902/902 [00:01<00:00, 685.34it/s]\n"
     ]
    },
    {
     "name": "stdout",
     "output_type": "stream",
     "text": [
      "OkOk\n",
      "1.9332404136657715\n",
      "2022-12-28 22:49:54\n"
     ]
    },
    {
     "name": "stderr",
     "output_type": "stream",
     "text": [
      "100%|███████████████████████████████████████████████████████████████████████████████| 902/902 [00:01<00:00, 656.26it/s]\n"
     ]
    },
    {
     "name": "stdout",
     "output_type": "stream",
     "text": [
      "OkOk\n",
      "2.0165159702301025\n",
      "2022-12-28 23:04:54\n"
     ]
    },
    {
     "name": "stderr",
     "output_type": "stream",
     "text": [
      "100%|███████████████████████████████████████████████████████████████████████████████| 901/901 [00:01<00:00, 674.56it/s]\n"
     ]
    },
    {
     "name": "stdout",
     "output_type": "stream",
     "text": [
      "OkOk\n",
      "1.938175916671753\n",
      "2022-12-28 23:19:53\n"
     ]
    },
    {
     "name": "stderr",
     "output_type": "stream",
     "text": [
      "100%|███████████████████████████████████████████████████████████████████████████████| 902/902 [00:01<00:00, 663.70it/s]\n"
     ]
    },
    {
     "name": "stdout",
     "output_type": "stream",
     "text": [
      "OkOk\n",
      "1.952624797821045\n",
      "2022-12-28 23:34:53\n"
     ]
    },
    {
     "name": "stderr",
     "output_type": "stream",
     "text": [
      "100%|███████████████████████████████████████████████████████████████████████████████| 902/902 [00:01<00:00, 634.49it/s]\n"
     ]
    },
    {
     "name": "stdout",
     "output_type": "stream",
     "text": [
      "OkOk\n",
      "2.047126293182373\n",
      "2022-12-28 23:49:53\n"
     ]
    },
    {
     "name": "stderr",
     "output_type": "stream",
     "text": [
      "100%|███████████████████████████████████████████████████████████████████████████████| 902/902 [00:01<00:00, 614.27it/s]\n"
     ]
    },
    {
     "name": "stdout",
     "output_type": "stream",
     "text": [
      "OkOk\n",
      "2.093322515487671\n",
      "2022-12-29 00:04:53\n"
     ]
    },
    {
     "name": "stderr",
     "output_type": "stream",
     "text": [
      "100%|███████████████████████████████████████████████████████████████████████████████| 902/902 [00:01<00:00, 568.93it/s]\n"
     ]
    },
    {
     "name": "stdout",
     "output_type": "stream",
     "text": [
      "OkOk\n",
      "2.2727699279785156\n",
      "2022-12-29 00:19:53\n"
     ]
    },
    {
     "name": "stderr",
     "output_type": "stream",
     "text": [
      "100%|███████████████████████████████████████████████████████████████████████████████| 902/902 [00:01<00:00, 566.10it/s]\n"
     ]
    },
    {
     "name": "stdout",
     "output_type": "stream",
     "text": [
      "OkOk\n",
      "2.2876365184783936\n",
      "2022-12-29 00:34:53\n"
     ]
    },
    {
     "name": "stderr",
     "output_type": "stream",
     "text": [
      "100%|███████████████████████████████████████████████████████████████████████████████| 902/902 [00:01<00:00, 539.63it/s]\n"
     ]
    },
    {
     "name": "stdout",
     "output_type": "stream",
     "text": [
      "OkOk\n",
      "2.3431711196899414\n",
      "2022-12-29 00:49:53\n"
     ]
    },
    {
     "name": "stderr",
     "output_type": "stream",
     "text": [
      "100%|███████████████████████████████████████████████████████████████████████████████| 902/902 [00:01<00:00, 508.99it/s]\n"
     ]
    },
    {
     "name": "stdout",
     "output_type": "stream",
     "text": [
      "OkOk\n",
      "2.475126028060913\n",
      "2022-12-29 01:04:53\n"
     ]
    },
    {
     "name": "stderr",
     "output_type": "stream",
     "text": [
      "100%|███████████████████████████████████████████████████████████████████████████████| 902/902 [00:01<00:00, 560.61it/s]\n"
     ]
    },
    {
     "name": "stdout",
     "output_type": "stream",
     "text": [
      "OkOk\n",
      "2.2650539875030518\n",
      "2022-12-29 01:19:53\n"
     ]
    },
    {
     "name": "stderr",
     "output_type": "stream",
     "text": [
      "100%|███████████████████████████████████████████████████████████████████████████████| 902/902 [00:01<00:00, 549.92it/s]\n"
     ]
    },
    {
     "name": "stdout",
     "output_type": "stream",
     "text": [
      "OkOk\n",
      "2.3587820529937744\n",
      "2022-12-29 01:34:53\n"
     ]
    },
    {
     "name": "stderr",
     "output_type": "stream",
     "text": [
      "100%|███████████████████████████████████████████████████████████████████████████████| 902/902 [00:01<00:00, 522.61it/s]\n"
     ]
    },
    {
     "name": "stdout",
     "output_type": "stream",
     "text": [
      "OkOk\n",
      "2.4211254119873047\n",
      "2022-12-29 01:49:53\n"
     ]
    },
    {
     "name": "stderr",
     "output_type": "stream",
     "text": [
      "100%|███████████████████████████████████████████████████████████████████████████████| 902/902 [00:01<00:00, 522.53it/s]\n"
     ]
    },
    {
     "name": "stdout",
     "output_type": "stream",
     "text": [
      "OkOk\n",
      "2.40506649017334\n",
      "2022-12-29 02:04:53\n"
     ]
    },
    {
     "name": "stderr",
     "output_type": "stream",
     "text": [
      "100%|███████████████████████████████████████████████████████████████████████████████| 902/902 [00:01<00:00, 489.33it/s]\n"
     ]
    },
    {
     "name": "stdout",
     "output_type": "stream",
     "text": [
      "OkOk\n",
      "2.5381855964660645\n",
      "2022-12-29 02:19:53\n"
     ]
    },
    {
     "name": "stderr",
     "output_type": "stream",
     "text": [
      "100%|███████████████████████████████████████████████████████████████████████████████| 902/902 [00:01<00:00, 469.45it/s]\n"
     ]
    },
    {
     "name": "stdout",
     "output_type": "stream",
     "text": [
      "OkOk\n",
      "2.6479289531707764\n",
      "2022-12-29 02:34:53\n"
     ]
    },
    {
     "name": "stderr",
     "output_type": "stream",
     "text": [
      "100%|███████████████████████████████████████████████████████████████████████████████| 902/902 [00:02<00:00, 444.16it/s]\n"
     ]
    },
    {
     "name": "stdout",
     "output_type": "stream",
     "text": [
      "OkOk\n",
      "2.7337310314178467\n",
      "2022-12-29 02:49:53\n"
     ]
    },
    {
     "name": "stderr",
     "output_type": "stream",
     "text": [
      "100%|███████████████████████████████████████████████████████████████████████████████| 902/902 [00:01<00:00, 452.86it/s]\n"
     ]
    },
    {
     "name": "stdout",
     "output_type": "stream",
     "text": [
      "OkOk\n",
      "2.710402250289917\n",
      "2022-12-29 03:04:53\n"
     ]
    },
    {
     "name": "stderr",
     "output_type": "stream",
     "text": [
      "100%|███████████████████████████████████████████████████████████████████████████████| 902/902 [00:01<00:00, 475.47it/s]\n"
     ]
    },
    {
     "name": "stdout",
     "output_type": "stream",
     "text": [
      "OkOk\n",
      "2.6013567447662354\n",
      "2022-12-29 03:19:53\n"
     ]
    },
    {
     "name": "stderr",
     "output_type": "stream",
     "text": [
      "100%|███████████████████████████████████████████████████████████████████████████████| 902/902 [00:01<00:00, 467.62it/s]\n"
     ]
    },
    {
     "name": "stdout",
     "output_type": "stream",
     "text": [
      "OkOk\n",
      "2.6319332122802734\n",
      "2022-12-29 03:34:53\n"
     ]
    },
    {
     "name": "stderr",
     "output_type": "stream",
     "text": [
      "100%|███████████████████████████████████████████████████████████████████████████████| 902/902 [00:02<00:00, 445.45it/s]\n"
     ]
    },
    {
     "name": "stdout",
     "output_type": "stream",
     "text": [
      "OkOk\n",
      "2.734842538833618\n",
      "2022-12-29 03:49:53\n"
     ]
    },
    {
     "name": "stderr",
     "output_type": "stream",
     "text": [
      "100%|███████████████████████████████████████████████████████████████████████████████| 902/902 [00:02<00:00, 447.75it/s]\n"
     ]
    },
    {
     "name": "stdout",
     "output_type": "stream",
     "text": [
      "OkOk\n",
      "2.740067720413208\n",
      "2022-12-29 04:04:53\n"
     ]
    },
    {
     "name": "stderr",
     "output_type": "stream",
     "text": [
      "100%|███████████████████████████████████████████████████████████████████████████████| 902/902 [00:02<00:00, 416.90it/s]\n"
     ]
    },
    {
     "name": "stdout",
     "output_type": "stream",
     "text": [
      "OkOk\n",
      "2.9290502071380615\n",
      "2022-12-29 04:19:53\n"
     ]
    },
    {
     "name": "stderr",
     "output_type": "stream",
     "text": [
      "100%|███████████████████████████████████████████████████████████████████████████████| 902/902 [00:02<00:00, 394.31it/s]\n"
     ]
    },
    {
     "name": "stdout",
     "output_type": "stream",
     "text": [
      "OkOk\n",
      "3.131096124649048\n",
      "2022-12-29 04:34:53\n"
     ]
    },
    {
     "name": "stderr",
     "output_type": "stream",
     "text": [
      "100%|███████████████████████████████████████████████████████████████████████████████| 902/902 [00:02<00:00, 386.07it/s]\n"
     ]
    },
    {
     "name": "stdout",
     "output_type": "stream",
     "text": [
      "OkOk\n",
      "3.184852361679077\n",
      "2022-12-29 04:49:53\n"
     ]
    },
    {
     "name": "stderr",
     "output_type": "stream",
     "text": [
      "100%|███████████████████████████████████████████████████████████████████████████████| 902/902 [00:02<00:00, 387.53it/s]\n"
     ]
    },
    {
     "name": "stdout",
     "output_type": "stream",
     "text": [
      "OkOk\n",
      "3.1086409091949463\n",
      "2022-12-29 05:04:53\n"
     ]
    },
    {
     "name": "stderr",
     "output_type": "stream",
     "text": [
      "100%|███████████████████████████████████████████████████████████████████████████████| 902/902 [00:02<00:00, 402.40it/s]\n"
     ]
    },
    {
     "name": "stdout",
     "output_type": "stream",
     "text": [
      "OkOk\n",
      "3.0226473808288574\n",
      "2022-12-29 05:19:53\n"
     ]
    },
    {
     "name": "stderr",
     "output_type": "stream",
     "text": [
      "100%|███████████████████████████████████████████████████████████████████████████████| 902/902 [00:02<00:00, 357.56it/s]\n"
     ]
    },
    {
     "name": "stdout",
     "output_type": "stream",
     "text": [
      "OkOk\n",
      "3.3137266635894775\n",
      "2022-12-29 05:34:53\n"
     ]
    },
    {
     "name": "stderr",
     "output_type": "stream",
     "text": [
      "100%|███████████████████████████████████████████████████████████████████████████████| 902/902 [00:02<00:00, 326.59it/s]\n"
     ]
    },
    {
     "name": "stdout",
     "output_type": "stream",
     "text": [
      "OkOk\n",
      "3.5381669998168945\n",
      "2022-12-29 05:49:53\n"
     ]
    },
    {
     "name": "stderr",
     "output_type": "stream",
     "text": [
      "100%|███████████████████████████████████████████████████████████████████████████████| 902/902 [00:02<00:00, 328.17it/s]\n"
     ]
    },
    {
     "name": "stdout",
     "output_type": "stream",
     "text": [
      "OkOk\n",
      "3.5557572841644287\n",
      "2022-12-29 06:04:53\n"
     ]
    },
    {
     "name": "stderr",
     "output_type": "stream",
     "text": [
      "100%|███████████████████████████████████████████████████████████████████████████████| 902/902 [00:02<00:00, 301.52it/s]\n"
     ]
    },
    {
     "name": "stdout",
     "output_type": "stream",
     "text": [
      "OkOk\n",
      "3.876769542694092\n",
      "2022-12-29 06:19:53\n"
     ]
    },
    {
     "name": "stderr",
     "output_type": "stream",
     "text": [
      "100%|███████████████████████████████████████████████████████████████████████████████| 902/902 [00:03<00:00, 289.45it/s]\n"
     ]
    },
    {
     "name": "stdout",
     "output_type": "stream",
     "text": [
      "OkOk\n",
      "4.01186990737915\n",
      "2022-12-29 06:34:53\n"
     ]
    },
    {
     "name": "stderr",
     "output_type": "stream",
     "text": [
      "100%|███████████████████████████████████████████████████████████████████████████████| 902/902 [00:03<00:00, 266.47it/s]\n"
     ]
    },
    {
     "name": "stdout",
     "output_type": "stream",
     "text": [
      "OkOk\n",
      "4.283308744430542\n",
      "2022-12-29 06:49:53\n"
     ]
    },
    {
     "name": "stderr",
     "output_type": "stream",
     "text": [
      "100%|███████████████████████████████████████████████████████████████████████████████| 902/902 [00:03<00:00, 282.80it/s]\n"
     ]
    },
    {
     "name": "stdout",
     "output_type": "stream",
     "text": [
      "OkOk\n",
      "4.158134460449219\n",
      "2022-12-29 07:04:53\n"
     ]
    },
    {
     "name": "stderr",
     "output_type": "stream",
     "text": [
      "100%|███████████████████████████████████████████████████████████████████████████████| 902/902 [00:03<00:00, 293.10it/s]\n"
     ]
    },
    {
     "name": "stdout",
     "output_type": "stream",
     "text": [
      "OkOk\n",
      "3.9380149841308594\n",
      "2022-12-29 07:19:53\n"
     ]
    },
    {
     "name": "stderr",
     "output_type": "stream",
     "text": [
      "100%|███████████████████████████████████████████████████████████████████████████████| 902/902 [00:03<00:00, 284.86it/s]\n"
     ]
    },
    {
     "name": "stdout",
     "output_type": "stream",
     "text": [
      "OkOk\n",
      "4.019826889038086\n",
      "2022-12-29 07:34:53\n"
     ]
    },
    {
     "name": "stderr",
     "output_type": "stream",
     "text": [
      "100%|███████████████████████████████████████████████████████████████████████████████| 902/902 [00:03<00:00, 270.85it/s]\n"
     ]
    },
    {
     "name": "stdout",
     "output_type": "stream",
     "text": [
      "OkOk\n",
      "4.1738457679748535\n",
      "2022-12-29 07:49:53\n"
     ]
    },
    {
     "name": "stderr",
     "output_type": "stream",
     "text": [
      "100%|███████████████████████████████████████████████████████████████████████████████| 902/902 [00:03<00:00, 272.75it/s]\n"
     ]
    },
    {
     "name": "stdout",
     "output_type": "stream",
     "text": [
      "OkOk\n",
      "4.1819374561309814\n",
      "2022-12-29 08:04:53\n"
     ]
    },
    {
     "name": "stderr",
     "output_type": "stream",
     "text": [
      "100%|███████████████████████████████████████████████████████████████████████████████| 902/902 [00:03<00:00, 255.32it/s]\n"
     ]
    },
    {
     "name": "stdout",
     "output_type": "stream",
     "text": [
      "OkOk\n",
      "4.485665798187256\n",
      "2022-12-29 08:19:53\n"
     ]
    },
    {
     "name": "stderr",
     "output_type": "stream",
     "text": [
      "100%|███████████████████████████████████████████████████████████████████████████████| 902/902 [00:03<00:00, 239.73it/s]\n"
     ]
    },
    {
     "name": "stdout",
     "output_type": "stream",
     "text": [
      "OkOk\n",
      "4.774416446685791\n",
      "2022-12-29 08:34:53\n"
     ]
    },
    {
     "name": "stderr",
     "output_type": "stream",
     "text": [
      "100%|███████████████████████████████████████████████████████████████████████████████| 902/902 [00:03<00:00, 230.84it/s]\n"
     ]
    },
    {
     "name": "stdout",
     "output_type": "stream",
     "text": [
      "OkOk\n",
      "4.836761951446533\n",
      "2022-12-29 08:49:53\n"
     ]
    },
    {
     "name": "stderr",
     "output_type": "stream",
     "text": [
      "100%|███████████████████████████████████████████████████████████████████████████████| 901/901 [00:03<00:00, 231.17it/s]\n"
     ]
    },
    {
     "name": "stdout",
     "output_type": "stream",
     "text": [
      "OkOk\n",
      "4.975492238998413\n",
      "2022-12-29 09:04:52\n"
     ]
    },
    {
     "name": "stderr",
     "output_type": "stream",
     "text": [
      "100%|███████████████████████████████████████████████████████████████████████████████| 903/903 [00:03<00:00, 244.75it/s]\n"
     ]
    },
    {
     "name": "stdout",
     "output_type": "stream",
     "text": [
      "OkOk\n",
      "4.736180067062378\n",
      "2022-12-29 09:19:53\n"
     ]
    },
    {
     "name": "stderr",
     "output_type": "stream",
     "text": [
      "100%|███████████████████████████████████████████████████████████████████████████████| 901/901 [00:03<00:00, 239.60it/s]\n"
     ]
    },
    {
     "name": "stdout",
     "output_type": "stream",
     "text": [
      "OkOk\n",
      "4.695368528366089\n",
      "2022-12-29 09:34:52\n"
     ]
    },
    {
     "name": "stderr",
     "output_type": "stream",
     "text": [
      "100%|███████████████████████████████████████████████████████████████████████████████| 903/903 [00:04<00:00, 224.49it/s]\n"
     ]
    },
    {
     "name": "stdout",
     "output_type": "stream",
     "text": [
      "OkOk\n",
      "4.928593873977661\n",
      "2022-12-29 09:49:53\n"
     ]
    },
    {
     "name": "stderr",
     "output_type": "stream",
     "text": [
      "100%|███████████████████████████████████████████████████████████████████████████████| 902/902 [00:03<00:00, 229.86it/s]\n"
     ]
    },
    {
     "name": "stdout",
     "output_type": "stream",
     "text": [
      "OkOk\n",
      "4.823112964630127\n",
      "2022-12-29 10:04:53\n"
     ]
    },
    {
     "name": "stderr",
     "output_type": "stream",
     "text": [
      "100%|███████████████████████████████████████████████████████████████████████████████| 902/902 [00:04<00:00, 195.84it/s]\n"
     ]
    },
    {
     "name": "stdout",
     "output_type": "stream",
     "text": [
      "OkOk\n",
      "5.627980947494507\n",
      "2022-12-29 10:19:53\n"
     ]
    },
    {
     "name": "stderr",
     "output_type": "stream",
     "text": [
      "100%|███████████████████████████████████████████████████████████████████████████████| 902/902 [00:04<00:00, 189.23it/s]\n"
     ]
    },
    {
     "name": "stdout",
     "output_type": "stream",
     "text": [
      "OkOk\n",
      "5.7820844650268555\n",
      "2022-12-29 10:34:53\n"
     ]
    },
    {
     "name": "stderr",
     "output_type": "stream",
     "text": [
      "100%|███████████████████████████████████████████████████████████████████████████████| 902/902 [00:04<00:00, 181.90it/s]\n"
     ]
    },
    {
     "name": "stdout",
     "output_type": "stream",
     "text": [
      "OkOk\n",
      "5.949835300445557\n",
      "2022-12-29 10:49:53\n"
     ]
    },
    {
     "name": "stderr",
     "output_type": "stream",
     "text": [
      "100%|███████████████████████████████████████████████████████████████████████████████| 902/902 [00:04<00:00, 184.93it/s]\n"
     ]
    },
    {
     "name": "stdout",
     "output_type": "stream",
     "text": [
      "OkOk\n",
      "5.97920298576355\n",
      "2022-12-29 11:04:53\n"
     ]
    },
    {
     "name": "stderr",
     "output_type": "stream",
     "text": [
      "100%|███████████████████████████████████████████████████████████████████████████████| 902/902 [00:04<00:00, 194.96it/s]\n"
     ]
    },
    {
     "name": "stdout",
     "output_type": "stream",
     "text": [
      "OkOk\n",
      "5.58633828163147\n",
      "2022-12-29 11:19:53\n"
     ]
    },
    {
     "name": "stderr",
     "output_type": "stream",
     "text": [
      "100%|███████████████████████████████████████████████████████████████████████████████| 901/901 [00:04<00:00, 183.63it/s]\n"
     ]
    },
    {
     "name": "stdout",
     "output_type": "stream",
     "text": [
      "OkOk\n",
      "5.866567611694336\n",
      "2022-12-29 11:34:52\n"
     ]
    },
    {
     "name": "stderr",
     "output_type": "stream",
     "text": [
      "100%|███████████████████████████████████████████████████████████████████████████████| 902/902 [00:04<00:00, 183.28it/s]\n"
     ]
    },
    {
     "name": "stdout",
     "output_type": "stream",
     "text": [
      "OkOk\n",
      "5.889878034591675\n",
      "2022-12-29 11:49:52\n"
     ]
    },
    {
     "name": "stderr",
     "output_type": "stream",
     "text": [
      "100%|███████████████████████████████████████████████████████████████████████████████| 902/902 [00:04<00:00, 184.39it/s]\n"
     ]
    },
    {
     "name": "stdout",
     "output_type": "stream",
     "text": [
      "OkOk\n",
      "5.867262363433838\n",
      "2022-12-29 12:04:52\n"
     ]
    },
    {
     "name": "stderr",
     "output_type": "stream",
     "text": [
      "100%|███████████████████████████████████████████████████████████████████████████████| 902/902 [00:02<00:00, 323.49it/s]\n"
     ]
    },
    {
     "name": "stdout",
     "output_type": "stream",
     "text": [
      "OkOk\n",
      "3.8371992111206055\n",
      "2022-12-29 12:19:52\n"
     ]
    },
    {
     "name": "stderr",
     "output_type": "stream",
     "text": [
      "100%|███████████████████████████████████████████████████████████████████████████████| 902/902 [00:01<00:00, 663.70it/s]\n"
     ]
    },
    {
     "name": "stdout",
     "output_type": "stream",
     "text": [
      "OkOk\n",
      "2.0619866847991943\n",
      "2022-12-29 12:34:52\n"
     ]
    },
    {
     "name": "stderr",
     "output_type": "stream",
     "text": [
      "100%|███████████████████████████████████████████████████████████████████████████████| 902/902 [00:01<00:00, 614.27it/s]\n"
     ]
    },
    {
     "name": "stdout",
     "output_type": "stream",
     "text": [
      "OkOk\n",
      "2.2026329040527344\n",
      "2022-12-29 12:49:52\n"
     ]
    },
    {
     "name": "stderr",
     "output_type": "stream",
     "text": [
      "100%|███████████████████████████████████████████████████████████████████████████████| 902/902 [00:01<00:00, 607.92it/s]\n"
     ]
    },
    {
     "name": "stdout",
     "output_type": "stream",
     "text": [
      "OkOk\n",
      "2.28043270111084\n",
      "2022-12-29 13:04:52\n"
     ]
    },
    {
     "name": "stderr",
     "output_type": "stream",
     "text": [
      "100%|███████████████████████████████████████████████████████████████████████████████| 902/902 [00:01<00:00, 672.28it/s]\n"
     ]
    },
    {
     "name": "stdout",
     "output_type": "stream",
     "text": [
      "OkOk\n",
      "2.0517148971557617\n",
      "2022-12-29 13:19:52\n"
     ]
    },
    {
     "name": "stderr",
     "output_type": "stream",
     "text": [
      "100%|███████████████████████████████████████████████████████████████████████████████| 902/902 [00:01<00:00, 645.23it/s]\n"
     ]
    },
    {
     "name": "stdout",
     "output_type": "stream",
     "text": [
      "OkOk\n",
      "2.100982666015625\n",
      "2022-12-29 13:34:52\n"
     ]
    },
    {
     "name": "stderr",
     "output_type": "stream",
     "text": [
      "100%|███████████████████████████████████████████████████████████████████████████████| 902/902 [00:01<00:00, 623.50it/s]\n"
     ]
    },
    {
     "name": "stdout",
     "output_type": "stream",
     "text": [
      "OkOk\n",
      "2.2027087211608887\n",
      "2022-12-29 13:49:52\n"
     ]
    },
    {
     "name": "stderr",
     "output_type": "stream",
     "text": [
      "100%|███████████████████████████████████████████████████████████████████████████████| 902/902 [00:01<00:00, 624.28it/s]\n"
     ]
    },
    {
     "name": "stdout",
     "output_type": "stream",
     "text": [
      "OkOk\n",
      "2.179137706756592\n",
      "2022-12-29 14:04:52\n"
     ]
    },
    {
     "name": "stderr",
     "output_type": "stream",
     "text": [
      "100%|███████████████████████████████████████████████████████████████████████████████| 902/902 [00:01<00:00, 549.92it/s]\n"
     ]
    },
    {
     "name": "stdout",
     "output_type": "stream",
     "text": [
      "OkOk\n",
      "2.39827561378479\n",
      "2022-12-29 14:19:52\n"
     ]
    },
    {
     "name": "stderr",
     "output_type": "stream",
     "text": [
      "100%|███████████████████████████████████████████████████████████████████████████████| 902/902 [00:01<00:00, 562.01it/s]\n"
     ]
    },
    {
     "name": "stdout",
     "output_type": "stream",
     "text": [
      "OkOk\n",
      "2.362372398376465\n",
      "2022-12-29 14:34:52\n"
     ]
    },
    {
     "name": "stderr",
     "output_type": "stream",
     "text": [
      "100%|███████████████████████████████████████████████████████████████████████████████| 902/902 [00:01<00:00, 515.43it/s]\n"
     ]
    },
    {
     "name": "stdout",
     "output_type": "stream",
     "text": [
      "OkOk\n",
      "2.5747556686401367\n",
      "2022-12-29 14:49:52\n"
     ]
    },
    {
     "name": "stderr",
     "output_type": "stream",
     "text": [
      "100%|███████████████████████████████████████████████████████████████████████████████| 902/902 [00:01<00:00, 532.19it/s]\n"
     ]
    },
    {
     "name": "stdout",
     "output_type": "stream",
     "text": [
      "OkOk\n",
      "2.4929792881011963\n",
      "2022-12-29 15:04:52\n"
     ]
    },
    {
     "name": "stderr",
     "output_type": "stream",
     "text": [
      "100%|███████████████████████████████████████████████████████████████████████████████| 902/902 [00:01<00:00, 552.62it/s]\n"
     ]
    },
    {
     "name": "stdout",
     "output_type": "stream",
     "text": [
      "OkOk\n",
      "2.3820626735687256\n",
      "2022-12-29 15:19:52\n"
     ]
    },
    {
     "name": "stderr",
     "output_type": "stream",
     "text": [
      "100%|███████████████████████████████████████████████████████████████████████████████| 902/902 [00:01<00:00, 542.22it/s]\n"
     ]
    },
    {
     "name": "stdout",
     "output_type": "stream",
     "text": [
      "OkOk\n",
      "2.4445502758026123\n",
      "2022-12-29 15:34:52\n"
     ]
    },
    {
     "name": "stderr",
     "output_type": "stream",
     "text": [
      "100%|███████████████████████████████████████████████████████████████████████████████| 902/902 [00:01<00:00, 507.16it/s]\n"
     ]
    },
    {
     "name": "stdout",
     "output_type": "stream",
     "text": [
      "OkOk\n",
      "2.558844804763794\n",
      "2022-12-29 15:49:52\n"
     ]
    },
    {
     "name": "stderr",
     "output_type": "stream",
     "text": [
      "100%|███████████████████████████████████████████████████████████████████████████████| 902/902 [00:01<00:00, 513.29it/s]\n"
     ]
    },
    {
     "name": "stdout",
     "output_type": "stream",
     "text": [
      "OkOk\n",
      "2.5540177822113037\n",
      "2022-12-29 16:04:52\n"
     ]
    },
    {
     "name": "stderr",
     "output_type": "stream",
     "text": [
      "100%|███████████████████████████████████████████████████████████████████████████████| 902/902 [00:01<00:00, 461.93it/s]\n"
     ]
    },
    {
     "name": "stdout",
     "output_type": "stream",
     "text": [
      "OkOk\n",
      "2.858699321746826\n",
      "2022-12-29 16:19:52\n"
     ]
    },
    {
     "name": "stderr",
     "output_type": "stream",
     "text": [
      "100%|███████████████████████████████████████████████████████████████████████████████| 902/902 [00:01<00:00, 460.17it/s]\n"
     ]
    },
    {
     "name": "stdout",
     "output_type": "stream",
     "text": [
      "OkOk\n",
      "2.841853141784668\n",
      "2022-12-29 16:34:52\n"
     ]
    },
    {
     "name": "stderr",
     "output_type": "stream",
     "text": [
      "100%|███████████████████████████████████████████████████████████████████████████████| 902/902 [00:02<00:00, 428.16it/s]\n"
     ]
    },
    {
     "name": "stdout",
     "output_type": "stream",
     "text": [
      "OkOk\n",
      "2.99714732170105\n",
      "2022-12-29 16:49:52\n"
     ]
    },
    {
     "name": "stderr",
     "output_type": "stream",
     "text": [
      "100%|███████████████████████████████████████████████████████████████████████████████| 902/902 [00:02<00:00, 435.82it/s]\n"
     ]
    },
    {
     "name": "stdout",
     "output_type": "stream",
     "text": [
      "OkOk\n",
      "2.935870885848999\n",
      "2022-12-29 17:04:52\n"
     ]
    },
    {
     "name": "stderr",
     "output_type": "stream",
     "text": [
      "100%|███████████████████████████████████████████████████████████████████████████████| 902/902 [00:01<00:00, 465.67it/s]\n"
     ]
    },
    {
     "name": "stdout",
     "output_type": "stream",
     "text": [
      "OkOk\n",
      "2.749408721923828\n",
      "2022-12-29 17:19:52\n"
     ]
    },
    {
     "name": "stderr",
     "output_type": "stream",
     "text": [
      "100%|███████████████████████████████████████████████████████████████████████████████| 902/902 [00:01<00:00, 461.93it/s]\n"
     ]
    },
    {
     "name": "stdout",
     "output_type": "stream",
     "text": [
      "OkOk\n",
      "2.765037775039673\n",
      "2022-12-29 17:34:52\n"
     ]
    },
    {
     "name": "stderr",
     "output_type": "stream",
     "text": [
      "100%|███████████████████████████████████████████████████████████████████████████████| 902/902 [00:02<00:00, 432.79it/s]\n"
     ]
    },
    {
     "name": "stdout",
     "output_type": "stream",
     "text": [
      "OkOk\n",
      "2.896552801132202\n",
      "2022-12-29 17:49:52\n"
     ]
    },
    {
     "name": "stderr",
     "output_type": "stream",
     "text": [
      "100%|███████████████████████████████████████████████████████████████████████████████| 902/902 [00:02<00:00, 439.22it/s]\n"
     ]
    },
    {
     "name": "stdout",
     "output_type": "stream",
     "text": [
      "OkOk\n",
      "2.880854606628418\n",
      "2022-12-29 18:04:52\n"
     ]
    },
    {
     "name": "stderr",
     "output_type": "stream",
     "text": [
      "100%|███████████████████████████████████████████████████████████████████████████████| 902/902 [00:02<00:00, 405.19it/s]\n"
     ]
    },
    {
     "name": "stdout",
     "output_type": "stream",
     "text": [
      "OkOk\n",
      "3.132117509841919\n",
      "2022-12-29 18:19:52\n"
     ]
    },
    {
     "name": "stderr",
     "output_type": "stream",
     "text": [
      "100%|███████████████████████████████████████████████████████████████████████████████| 902/902 [00:02<00:00, 408.10it/s]\n"
     ]
    },
    {
     "name": "stdout",
     "output_type": "stream",
     "text": [
      "OkOk\n",
      "3.109060525894165\n",
      "2022-12-29 18:34:52\n"
     ]
    },
    {
     "name": "stderr",
     "output_type": "stream",
     "text": [
      "100%|███████████████████████████████████████████████████████████████████████████████| 902/902 [00:02<00:00, 372.56it/s]\n"
     ]
    },
    {
     "name": "stdout",
     "output_type": "stream",
     "text": [
      "OkOk\n",
      "3.393481969833374\n",
      "2022-12-29 18:49:52\n"
     ]
    },
    {
     "name": "stderr",
     "output_type": "stream",
     "text": [
      "100%|███████████████████████████████████████████████████████████████████████████████| 902/902 [00:02<00:00, 366.64it/s]\n"
     ]
    },
    {
     "name": "stdout",
     "output_type": "stream",
     "text": [
      "OkOk\n",
      "3.381803274154663\n",
      "2022-12-29 19:04:52\n"
     ]
    },
    {
     "name": "stderr",
     "output_type": "stream",
     "text": [
      "100%|███████████████████████████████████████████████████████████████████████████████| 902/902 [00:02<00:00, 387.68it/s]\n"
     ]
    },
    {
     "name": "stdout",
     "output_type": "stream",
     "text": [
      "OkOk\n",
      "3.2014589309692383\n",
      "2022-12-29 19:19:52\n"
     ]
    },
    {
     "name": "stderr",
     "output_type": "stream",
     "text": [
      "100%|███████████████████████████████████████████████████████████████████████████████| 902/902 [00:02<00:00, 331.85it/s]\n"
     ]
    },
    {
     "name": "stdout",
     "output_type": "stream",
     "text": [
      "OkOk\n",
      "3.6156718730926514\n",
      "2022-12-29 19:34:52\n"
     ]
    },
    {
     "name": "stderr",
     "output_type": "stream",
     "text": [
      "100%|███████████████████████████████████████████████████████████████████████████████| 902/902 [00:02<00:00, 324.09it/s]\n"
     ]
    },
    {
     "name": "stdout",
     "output_type": "stream",
     "text": [
      "OkOk\n",
      "3.742988109588623\n",
      "2022-12-29 19:49:52\n"
     ]
    },
    {
     "name": "stderr",
     "output_type": "stream",
     "text": [
      "100%|███████████████████████████████████████████████████████████████████████████████| 902/902 [00:02<00:00, 324.39it/s]\n"
     ]
    },
    {
     "name": "stdout",
     "output_type": "stream",
     "text": [
      "OkOk\n",
      "3.6866824626922607\n",
      "2022-12-29 20:04:52\n"
     ]
    },
    {
     "name": "stderr",
     "output_type": "stream",
     "text": [
      "100%|███████████████████████████████████████████████████████████████████████████████| 902/902 [00:03<00:00, 293.98it/s]\n"
     ]
    },
    {
     "name": "stdout",
     "output_type": "stream",
     "text": [
      "OkOk\n",
      "4.067428112030029\n",
      "2022-12-29 20:19:52\n"
     ]
    },
    {
     "name": "stderr",
     "output_type": "stream",
     "text": [
      "100%|███████████████████████████████████████████████████████████████████████████████| 902/902 [00:03<00:00, 293.10it/s]\n"
     ]
    },
    {
     "name": "stdout",
     "output_type": "stream",
     "text": [
      "OkOk\n",
      "4.0929670333862305\n",
      "2022-12-29 20:34:52\n"
     ]
    },
    {
     "name": "stderr",
     "output_type": "stream",
     "text": [
      "100%|███████████████████████████████████████████████████████████████████████████████| 902/902 [00:03<00:00, 275.27it/s]\n"
     ]
    },
    {
     "name": "stdout",
     "output_type": "stream",
     "text": [
      "OkOk\n",
      "4.245293140411377\n",
      "2022-12-29 20:49:52\n"
     ]
    },
    {
     "name": "stderr",
     "output_type": "stream",
     "text": [
      "100%|███████████████████████████████████████████████████████████████████████████████| 902/902 [00:03<00:00, 280.83it/s]\n"
     ]
    },
    {
     "name": "stdout",
     "output_type": "stream",
     "text": [
      "OkOk\n",
      "4.211707592010498\n",
      "2022-12-29 21:04:52\n"
     ]
    },
    {
     "name": "stderr",
     "output_type": "stream",
     "text": [
      "100%|███████████████████████████████████████████████████████████████████████████████| 901/901 [00:03<00:00, 288.26it/s]\n"
     ]
    },
    {
     "name": "stdout",
     "output_type": "stream",
     "text": [
      "OkOk\n",
      "4.03177547454834\n",
      "2022-12-29 21:19:51\n"
     ]
    },
    {
     "name": "stderr",
     "output_type": "stream",
     "text": [
      "100%|███████████████████████████████████████████████████████████████████████████████| 902/902 [00:03<00:00, 276.64it/s]\n"
     ]
    },
    {
     "name": "stdout",
     "output_type": "stream",
     "text": [
      "OkOk\n",
      "4.192877531051636\n",
      "2022-12-29 21:34:51\n"
     ]
    },
    {
     "name": "stderr",
     "output_type": "stream",
     "text": [
      "100%|███████████████████████████████████████████████████████████████████████████████| 902/902 [00:03<00:00, 266.18it/s]\n"
     ]
    },
    {
     "name": "stdout",
     "output_type": "stream",
     "text": [
      "OkOk\n",
      "4.317644119262695\n",
      "2022-12-29 21:49:51\n"
     ]
    },
    {
     "name": "stderr",
     "output_type": "stream",
     "text": [
      "100%|███████████████████████████████████████████████████████████████████████████████| 903/903 [00:03<00:00, 270.78it/s]\n"
     ]
    },
    {
     "name": "stdout",
     "output_type": "stream",
     "text": [
      "OkOk\n",
      "4.334604501724243\n",
      "2022-12-29 22:04:52\n"
     ]
    },
    {
     "name": "stderr",
     "output_type": "stream",
     "text": [
      "100%|███████████████████████████████████████████████████████████████████████████████| 902/902 [00:03<00:00, 238.60it/s]\n"
     ]
    },
    {
     "name": "stdout",
     "output_type": "stream",
     "text": [
      "OkOk\n",
      "4.873602867126465\n",
      "2022-12-29 22:19:52\n"
     ]
    },
    {
     "name": "stderr",
     "output_type": "stream",
     "text": [
      "100%|███████████████████████████████████████████████████████████████████████████████| 902/902 [00:03<00:00, 234.56it/s]\n"
     ]
    },
    {
     "name": "stdout",
     "output_type": "stream",
     "text": [
      "OkOk\n",
      "4.941137790679932\n",
      "2022-12-29 22:34:52\n"
     ]
    },
    {
     "name": "stderr",
     "output_type": "stream",
     "text": [
      "100%|███████████████████████████████████████████████████████████████████████████████| 901/901 [00:03<00:00, 231.84it/s]\n"
     ]
    },
    {
     "name": "stdout",
     "output_type": "stream",
     "text": [
      "OkOk\n",
      "4.870404481887817\n",
      "2022-12-29 22:49:51\n"
     ]
    },
    {
     "name": "stderr",
     "output_type": "stream",
     "text": [
      "100%|███████████████████████████████████████████████████████████████████████████████| 903/903 [00:03<00:00, 228.79it/s]\n"
     ]
    },
    {
     "name": "stdout",
     "output_type": "stream",
     "text": [
      "OkOk\n",
      "4.946714162826538\n",
      "2022-12-29 23:04:52\n"
     ]
    },
    {
     "name": "stderr",
     "output_type": "stream",
     "text": [
      "100%|███████████████████████████████████████████████████████████████████████████████| 902/902 [00:03<00:00, 239.14it/s]\n"
     ]
    },
    {
     "name": "stdout",
     "output_type": "stream",
     "text": [
      "OkOk\n",
      "4.747511625289917\n",
      "2022-12-29 23:19:52\n"
     ]
    },
    {
     "name": "stderr",
     "output_type": "stream",
     "text": [
      "100%|███████████████████████████████████████████████████████████████████████████████| 901/901 [00:03<00:00, 237.21it/s]\n"
     ]
    },
    {
     "name": "stdout",
     "output_type": "stream",
     "text": [
      "OkOk\n",
      "4.811752796173096\n",
      "2022-12-29 23:34:51\n"
     ]
    },
    {
     "name": "stderr",
     "output_type": "stream",
     "text": [
      "100%|███████████████████████████████████████████████████████████████████████████████| 902/902 [00:04<00:00, 224.05it/s]\n"
     ]
    },
    {
     "name": "stdout",
     "output_type": "stream",
     "text": [
      "OkOk\n",
      "5.032653570175171\n",
      "2022-12-29 23:49:51\n"
     ]
    },
    {
     "name": "stderr",
     "output_type": "stream",
     "text": [
      "100%|███████████████████████████████████████████████████████████████████████████████| 902/902 [00:03<00:00, 229.13it/s]\n"
     ]
    },
    {
     "name": "stdout",
     "output_type": "stream",
     "text": [
      "OkOk\n",
      "4.928366184234619\n",
      "2022-12-30 00:04:51\n"
     ]
    },
    {
     "name": "stderr",
     "output_type": "stream",
     "text": [
      "100%|███████████████████████████████████████████████████████████████████████████████| 902/902 [00:04<00:00, 183.31it/s]\n"
     ]
    },
    {
     "name": "stdout",
     "output_type": "stream",
     "text": [
      "OkOk\n",
      "5.990933895111084\n",
      "2022-12-30 00:19:51\n"
     ]
    },
    {
     "name": "stderr",
     "output_type": "stream",
     "text": [
      "100%|███████████████████████████████████████████████████████████████████████████████| 902/902 [00:04<00:00, 198.61it/s]\n"
     ]
    },
    {
     "name": "stdout",
     "output_type": "stream",
     "text": [
      "OkOk\n",
      "5.632648944854736\n",
      "2022-12-30 00:34:51\n"
     ]
    },
    {
     "name": "stderr",
     "output_type": "stream",
     "text": [
      "100%|███████████████████████████████████████████████████████████████████████████████| 902/902 [00:04<00:00, 181.96it/s]\n"
     ]
    },
    {
     "name": "stdout",
     "output_type": "stream",
     "text": [
      "OkOk\n",
      "6.130468130111694\n",
      "2022-12-30 00:49:51\n"
     ]
    },
    {
     "name": "stderr",
     "output_type": "stream",
     "text": [
      "100%|███████████████████████████████████████████████████████████████████████████████| 902/902 [00:04<00:00, 188.68it/s]\n"
     ]
    },
    {
     "name": "stdout",
     "output_type": "stream",
     "text": [
      "OkOk\n",
      "5.935992002487183\n",
      "2022-12-30 01:04:51\n"
     ]
    },
    {
     "name": "stderr",
     "output_type": "stream",
     "text": [
      "100%|███████████████████████████████████████████████████████████████████████████████| 902/902 [00:05<00:00, 177.69it/s]\n"
     ]
    },
    {
     "name": "stdout",
     "output_type": "stream",
     "text": [
      "OkOk\n",
      "6.132536888122559\n",
      "2022-12-30 01:19:51\n"
     ]
    },
    {
     "name": "stderr",
     "output_type": "stream",
     "text": [
      "100%|███████████████████████████████████████████████████████████████████████████████| 902/902 [00:05<00:00, 167.22it/s]\n"
     ]
    },
    {
     "name": "stdout",
     "output_type": "stream",
     "text": [
      "OkOk\n",
      "6.548949956893921\n",
      "2022-12-30 01:34:51\n"
     ]
    },
    {
     "name": "stderr",
     "output_type": "stream",
     "text": [
      "100%|███████████████████████████████████████████████████████████████████████████████| 901/901 [00:05<00:00, 179.27it/s]\n"
     ]
    },
    {
     "name": "stdout",
     "output_type": "stream",
     "text": [
      "OkOk\n",
      "6.127794981002808\n",
      "2022-12-30 01:49:51\n"
     ]
    },
    {
     "name": "stderr",
     "output_type": "stream",
     "text": [
      "100%|███████████████████████████████████████████████████████████████████████████████| 903/903 [00:04<00:00, 220.26it/s]\n"
     ]
    },
    {
     "name": "stdout",
     "output_type": "stream",
     "text": [
      "OkOk\n",
      "4.990190744400024\n",
      "2022-12-30 02:04:51\n"
     ]
    },
    {
     "name": "stderr",
     "output_type": "stream",
     "text": [
      "100%|███████████████████████████████████████████████████████████████████████████████| 902/902 [00:01<00:00, 695.68it/s]\n"
     ]
    },
    {
     "name": "stdout",
     "output_type": "stream",
     "text": [
      "OkOk\n",
      "1.9526684284210205\n",
      "2022-12-30 02:19:51\n"
     ]
    },
    {
     "name": "stderr",
     "output_type": "stream",
     "text": [
      "100%|███████████████████████████████████████████████████████████████████████████████| 902/902 [00:01<00:00, 660.07it/s]\n"
     ]
    },
    {
     "name": "stdout",
     "output_type": "stream",
     "text": [
      "OkOk\n",
      "1.9904634952545166\n",
      "2022-12-30 02:34:51\n"
     ]
    },
    {
     "name": "stderr",
     "output_type": "stream",
     "text": [
      "100%|███████████████████████████████████████████████████████████████████████████████| 902/902 [00:01<00:00, 623.61it/s]\n"
     ]
    },
    {
     "name": "stdout",
     "output_type": "stream",
     "text": [
      "OkOk\n",
      "2.0945029258728027\n",
      "2022-12-30 02:49:51\n"
     ]
    },
    {
     "name": "stderr",
     "output_type": "stream",
     "text": [
      "100%|███████████████████████████████████████████████████████████████████████████████| 902/902 [00:01<00:00, 611.12it/s]\n"
     ]
    },
    {
     "name": "stdout",
     "output_type": "stream",
     "text": [
      "OkOk\n",
      "2.1476995944976807\n",
      "2022-12-30 03:04:51\n"
     ]
    },
    {
     "name": "stderr",
     "output_type": "stream",
     "text": [
      "100%|███████████████████████████████████████████████████████████████████████████████| 902/902 [00:01<00:00, 668.00it/s]\n"
     ]
    },
    {
     "name": "stdout",
     "output_type": "stream",
     "text": [
      "OkOk\n",
      "1.9908380508422852\n",
      "2022-12-30 03:19:51\n"
     ]
    },
    {
     "name": "stderr",
     "output_type": "stream",
     "text": [
      "100%|███████████████████████████████████████████████████████████████████████████████| 902/902 [00:01<00:00, 648.78it/s]\n"
     ]
    },
    {
     "name": "stdout",
     "output_type": "stream",
     "text": [
      "OkOk\n",
      "2.02231764793396\n",
      "2022-12-30 03:34:51\n"
     ]
    },
    {
     "name": "stderr",
     "output_type": "stream",
     "text": [
      "100%|███████████████████████████████████████████████████████████████████████████████| 902/902 [00:01<00:00, 619.96it/s]\n"
     ]
    },
    {
     "name": "stdout",
     "output_type": "stream",
     "text": [
      "OkOk\n",
      "2.161673069000244\n",
      "2022-12-30 03:49:51\n"
     ]
    },
    {
     "name": "stderr",
     "output_type": "stream",
     "text": [
      "100%|███████████████████████████████████████████████████████████████████████████████| 902/902 [00:01<00:00, 614.28it/s]\n"
     ]
    },
    {
     "name": "stdout",
     "output_type": "stream",
     "text": [
      "OkOk\n",
      "2.123159408569336\n",
      "2022-12-30 04:04:51\n"
     ]
    },
    {
     "name": "stderr",
     "output_type": "stream",
     "text": [
      "100%|███████████████████████████████████████████████████████████████████████████████| 902/902 [00:01<00:00, 548.32it/s]\n"
     ]
    },
    {
     "name": "stdout",
     "output_type": "stream",
     "text": [
      "OkOk\n",
      "2.350067615509033\n",
      "2022-12-30 04:19:51\n"
     ]
    },
    {
     "name": "stderr",
     "output_type": "stream",
     "text": [
      "100%|███████████████████████████████████████████████████████████████████████████████| 902/902 [00:01<00:00, 534.64it/s]\n"
     ]
    },
    {
     "name": "stdout",
     "output_type": "stream",
     "text": [
      "OkOk\n",
      "2.391634941101074\n",
      "2022-12-30 04:34:51\n"
     ]
    },
    {
     "name": "stderr",
     "output_type": "stream",
     "text": [
      "100%|███████████████████████████████████████████████████████████████████████████████| 902/902 [00:01<00:00, 521.84it/s]\n"
     ]
    },
    {
     "name": "stdout",
     "output_type": "stream",
     "text": [
      "OkOk\n",
      "2.4434356689453125\n",
      "2022-12-30 04:49:51\n"
     ]
    },
    {
     "name": "stderr",
     "output_type": "stream",
     "text": [
      "100%|███████████████████████████████████████████████████████████████████████████████| 902/902 [00:01<00:00, 532.44it/s]\n"
     ]
    },
    {
     "name": "stdout",
     "output_type": "stream",
     "text": [
      "OkOk\n",
      "2.412649393081665\n",
      "2022-12-30 05:04:51\n"
     ]
    },
    {
     "name": "stderr",
     "output_type": "stream",
     "text": [
      "100%|███████████████████████████████████████████████████████████████████████████████| 902/902 [00:01<00:00, 541.83it/s]\n"
     ]
    },
    {
     "name": "stdout",
     "output_type": "stream",
     "text": [
      "OkOk\n",
      "2.336425542831421\n",
      "2022-12-30 05:19:51\n"
     ]
    },
    {
     "name": "stderr",
     "output_type": "stream",
     "text": [
      "100%|███████████████████████████████████████████████████████████████████████████████| 902/902 [00:01<00:00, 537.40it/s]\n"
     ]
    },
    {
     "name": "stdout",
     "output_type": "stream",
     "text": [
      "OkOk\n",
      "2.3572165966033936\n",
      "2022-12-30 05:34:51\n"
     ]
    },
    {
     "name": "stderr",
     "output_type": "stream",
     "text": [
      "100%|███████████████████████████████████████████████████████████████████████████████| 902/902 [00:01<00:00, 508.32it/s]\n"
     ]
    },
    {
     "name": "stdout",
     "output_type": "stream",
     "text": [
      "OkOk\n",
      "2.481959581375122\n",
      "2022-12-30 05:49:51\n"
     ]
    },
    {
     "name": "stderr",
     "output_type": "stream",
     "text": [
      "100%|███████████████████████████████████████████████████████████████████████████████| 902/902 [00:01<00:00, 513.52it/s]\n"
     ]
    },
    {
     "name": "stdout",
     "output_type": "stream",
     "text": [
      "OkOk\n",
      "2.4594104290008545\n",
      "2022-12-30 06:04:51\n"
     ]
    },
    {
     "name": "stderr",
     "output_type": "stream",
     "text": [
      "100%|███████████████████████████████████████████████████████████████████████████████| 902/902 [00:01<00:00, 460.10it/s]\n"
     ]
    },
    {
     "name": "stdout",
     "output_type": "stream",
     "text": [
      "OkOk\n",
      "2.772749185562134\n",
      "2022-12-30 06:19:51\n"
     ]
    },
    {
     "name": "stderr",
     "output_type": "stream",
     "text": [
      "100%|███████████████████████████████████████████████████████████████████████████████| 902/902 [00:01<00:00, 467.57it/s]\n"
     ]
    },
    {
     "name": "stdout",
     "output_type": "stream",
     "text": [
      "OkOk\n",
      "2.7257890701293945\n",
      "2022-12-30 06:34:51\n"
     ]
    },
    {
     "name": "stderr",
     "output_type": "stream",
     "text": [
      "100%|███████████████████████████████████████████████████████████████████████████████| 902/902 [00:02<00:00, 413.14it/s]\n"
     ]
    },
    {
     "name": "stdout",
     "output_type": "stream",
     "text": [
      "OkOk\n",
      "3.026873826980591\n",
      "2022-12-30 06:49:51\n"
     ]
    },
    {
     "name": "stderr",
     "output_type": "stream",
     "text": [
      "100%|███████████████████████████████████████████████████████████████████████████████| 902/902 [00:02<00:00, 416.93it/s]\n"
     ]
    },
    {
     "name": "stdout",
     "output_type": "stream",
     "text": [
      "OkOk\n",
      "2.9758081436157227\n",
      "2022-12-30 07:04:51\n"
     ]
    },
    {
     "name": "stderr",
     "output_type": "stream",
     "text": [
      "100%|███████████████████████████████████████████████████████████████████████████████| 902/902 [00:01<00:00, 461.94it/s]\n"
     ]
    },
    {
     "name": "stdout",
     "output_type": "stream",
     "text": [
      "OkOk\n",
      "2.678194284439087\n",
      "2022-12-30 07:19:51\n"
     ]
    },
    {
     "name": "stderr",
     "output_type": "stream",
     "text": [
      "100%|███████████████████████████████████████████████████████████████████████████████| 902/902 [00:01<00:00, 451.50it/s]\n"
     ]
    },
    {
     "name": "stdout",
     "output_type": "stream",
     "text": [
      "OkOk\n",
      "2.732032299041748\n",
      "2022-12-30 07:34:51\n"
     ]
    },
    {
     "name": "stderr",
     "output_type": "stream",
     "text": [
      "100%|███████████████████████████████████████████████████████████████████████████████| 902/902 [00:02<00:00, 429.04it/s]\n"
     ]
    },
    {
     "name": "stdout",
     "output_type": "stream",
     "text": [
      "OkOk\n",
      "2.8679020404815674\n",
      "2022-12-30 07:49:51\n"
     ]
    },
    {
     "name": "stderr",
     "output_type": "stream",
     "text": [
      "100%|███████████████████████████████████████████████████████████████████████████████| 902/902 [00:02<00:00, 435.97it/s]\n"
     ]
    },
    {
     "name": "stdout",
     "output_type": "stream",
     "text": [
      "OkOk\n",
      "2.8416810035705566\n",
      "2022-12-30 08:04:51\n"
     ]
    },
    {
     "name": "stderr",
     "output_type": "stream",
     "text": [
      "100%|███████████████████████████████████████████████████████████████████████████████| 902/902 [00:02<00:00, 391.51it/s]\n"
     ]
    },
    {
     "name": "stdout",
     "output_type": "stream",
     "text": [
      "OkOk\n",
      "3.1318492889404297\n",
      "2022-12-30 08:19:51\n"
     ]
    },
    {
     "name": "stderr",
     "output_type": "stream",
     "text": [
      "100%|███████████████████████████████████████████████████████████████████████████████| 902/902 [00:02<00:00, 396.97it/s]\n"
     ]
    },
    {
     "name": "stdout",
     "output_type": "stream",
     "text": [
      "OkOk\n",
      "3.13138747215271\n",
      "2022-12-30 08:34:51\n"
     ]
    },
    {
     "name": "stderr",
     "output_type": "stream",
     "text": [
      "100%|███████████████████████████████████████████████████████████████████████████████| 902/902 [00:02<00:00, 379.21it/s]\n"
     ]
    },
    {
     "name": "stdout",
     "output_type": "stream",
     "text": [
      "OkOk\n",
      "3.246323823928833\n",
      "2022-12-30 08:49:51\n"
     ]
    },
    {
     "name": "stderr",
     "output_type": "stream",
     "text": [
      "100%|███████████████████████████████████████████████████████████████████████████████| 902/902 [00:02<00:00, 367.78it/s]\n"
     ]
    },
    {
     "name": "stdout",
     "output_type": "stream",
     "text": [
      "OkOk\n",
      "3.3429622650146484\n",
      "2022-12-30 09:04:51\n"
     ]
    },
    {
     "name": "stderr",
     "output_type": "stream",
     "text": [
      "100%|███████████████████████████████████████████████████████████████████████████████| 901/901 [00:02<00:00, 352.87it/s]\n"
     ]
    },
    {
     "name": "stdout",
     "output_type": "stream",
     "text": [
      "OkOk\n",
      "3.3655965328216553\n",
      "2022-12-30 09:19:50\n"
     ]
    },
    {
     "name": "stderr",
     "output_type": "stream",
     "text": [
      "100%|███████████████████████████████████████████████████████████████████████████████| 902/902 [00:02<00:00, 336.80it/s]\n"
     ]
    },
    {
     "name": "stdout",
     "output_type": "stream",
     "text": [
      "OkOk\n",
      "3.5841615200042725\n",
      "2022-12-30 09:34:50\n"
     ]
    },
    {
     "name": "stderr",
     "output_type": "stream",
     "text": [
      "100%|███████████████████████████████████████████████████████████████████████████████| 902/902 [00:02<00:00, 319.23it/s]\n"
     ]
    },
    {
     "name": "stdout",
     "output_type": "stream",
     "text": [
      "OkOk\n",
      "3.653587579727173\n",
      "2022-12-30 09:49:50\n"
     ]
    },
    {
     "name": "stderr",
     "output_type": "stream",
     "text": [
      "100%|███████████████████████████████████████████████████████████████████████████████| 902/902 [00:02<00:00, 320.00it/s]\n"
     ]
    },
    {
     "name": "stdout",
     "output_type": "stream",
     "text": [
      "OkOk\n",
      "3.64676833152771\n",
      "2022-12-30 10:04:50\n"
     ]
    },
    {
     "name": "stderr",
     "output_type": "stream",
     "text": [
      "100%|███████████████████████████████████████████████████████████████████████████████| 903/903 [00:03<00:00, 289.76it/s]\n"
     ]
    },
    {
     "name": "stdout",
     "output_type": "stream",
     "text": [
      "OkOk\n",
      "4.053703308105469\n",
      "2022-12-30 10:19:51\n"
     ]
    },
    {
     "name": "stderr",
     "output_type": "stream",
     "text": [
      "100%|███████████████████████████████████████████████████████████████████████████████| 901/901 [00:03<00:00, 284.13it/s]\n"
     ]
    },
    {
     "name": "stdout",
     "output_type": "stream",
     "text": [
      "OkOk\n",
      "4.071528434753418\n",
      "2022-12-30 10:34:50\n"
     ]
    },
    {
     "name": "stderr",
     "output_type": "stream",
     "text": [
      "100%|███████████████████████████████████████████████████████████████████████████████| 902/902 [00:03<00:00, 264.53it/s]\n"
     ]
    },
    {
     "name": "stdout",
     "output_type": "stream",
     "text": [
      "OkOk\n",
      "4.331493139266968\n",
      "2022-12-30 10:49:50\n"
     ]
    },
    {
     "name": "stderr",
     "output_type": "stream",
     "text": [
      "100%|███████████████████████████████████████████████████████████████████████████████| 902/902 [00:03<00:00, 269.82it/s]\n"
     ]
    },
    {
     "name": "stdout",
     "output_type": "stream",
     "text": [
      "OkOk\n",
      "4.334776401519775\n",
      "2022-12-30 11:04:50\n"
     ]
    },
    {
     "name": "stderr",
     "output_type": "stream",
     "text": [
      "100%|███████████████████████████████████████████████████████████████████████████████| 902/902 [00:03<00:00, 285.22it/s]\n"
     ]
    },
    {
     "name": "stdout",
     "output_type": "stream",
     "text": [
      "OkOk\n",
      "4.037315845489502\n",
      "2022-12-30 11:19:50\n"
     ]
    },
    {
     "name": "stderr",
     "output_type": "stream",
     "text": [
      "100%|███████████████████████████████████████████████████████████████████████████████| 902/902 [00:03<00:00, 278.35it/s]\n"
     ]
    },
    {
     "name": "stdout",
     "output_type": "stream",
     "text": [
      "OkOk\n",
      "4.1407177448272705\n",
      "2022-12-30 11:34:50\n"
     ]
    },
    {
     "name": "stderr",
     "output_type": "stream",
     "text": [
      "100%|███████████████████████████████████████████████████████████████████████████████| 902/902 [00:03<00:00, 262.91it/s]\n"
     ]
    },
    {
     "name": "stdout",
     "output_type": "stream",
     "text": [
      "OkOk\n",
      "4.321258306503296\n",
      "2022-12-30 11:49:50\n"
     ]
    },
    {
     "name": "stderr",
     "output_type": "stream",
     "text": [
      "100%|███████████████████████████████████████████████████████████████████████████████| 902/902 [00:03<00:00, 265.54it/s]\n"
     ]
    },
    {
     "name": "stdout",
     "output_type": "stream",
     "text": [
      "OkOk\n",
      "4.3185505867004395\n",
      "2022-12-30 12:04:50\n"
     ]
    },
    {
     "name": "stderr",
     "output_type": "stream",
     "text": [
      "100%|███████████████████████████████████████████████████████████████████████████████| 902/902 [00:03<00:00, 244.16it/s]\n"
     ]
    },
    {
     "name": "stdout",
     "output_type": "stream",
     "text": [
      "OkOk\n",
      "4.631651878356934\n",
      "2022-12-30 12:19:50\n"
     ]
    },
    {
     "name": "stderr",
     "output_type": "stream",
     "text": [
      "100%|███████████████████████████████████████████████████████████████████████████████| 902/902 [00:03<00:00, 231.47it/s]\n"
     ]
    },
    {
     "name": "stdout",
     "output_type": "stream",
     "text": [
      "OkOk\n",
      "4.896611928939819\n",
      "2022-12-30 12:34:50\n"
     ]
    },
    {
     "name": "stderr",
     "output_type": "stream",
     "text": [
      "100%|███████████████████████████████████████████████████████████████████████████████| 902/902 [00:03<00:00, 226.52it/s]\n"
     ]
    },
    {
     "name": "stdout",
     "output_type": "stream",
     "text": [
      "OkOk\n",
      "4.966130018234253\n",
      "2022-12-30 12:49:50\n"
     ]
    },
    {
     "name": "stderr",
     "output_type": "stream",
     "text": [
      "100%|███████████████████████████████████████████████████████████████████████████████| 902/902 [00:03<00:00, 231.90it/s]\n"
     ]
    },
    {
     "name": "stdout",
     "output_type": "stream",
     "text": [
      "OkOk\n",
      "4.944324493408203\n",
      "2022-12-30 13:04:50\n"
     ]
    },
    {
     "name": "stderr",
     "output_type": "stream",
     "text": [
      "100%|███████████████████████████████████████████████████████████████████████████████| 902/902 [00:03<00:00, 240.15it/s]\n"
     ]
    },
    {
     "name": "stdout",
     "output_type": "stream",
     "text": [
      "OkOk\n",
      "4.693328857421875\n",
      "2022-12-30 13:19:50\n"
     ]
    },
    {
     "name": "stderr",
     "output_type": "stream",
     "text": [
      "100%|███████████████████████████████████████████████████████████████████████████████| 902/902 [00:03<00:00, 232.29it/s]\n"
     ]
    },
    {
     "name": "stdout",
     "output_type": "stream",
     "text": [
      "OkOk\n",
      "4.866587400436401\n",
      "2022-12-30 13:34:50\n"
     ]
    },
    {
     "name": "stderr",
     "output_type": "stream",
     "text": [
      "100%|███████████████████████████████████████████████████████████████████████████████| 902/902 [00:04<00:00, 222.37it/s]\n"
     ]
    },
    {
     "name": "stdout",
     "output_type": "stream",
     "text": [
      "OkOk\n",
      "4.985188007354736\n",
      "2022-12-30 13:49:50\n"
     ]
    },
    {
     "name": "stderr",
     "output_type": "stream",
     "text": [
      "100%|███████████████████████████████████████████████████████████████████████████████| 902/902 [00:04<00:00, 212.71it/s]\n"
     ]
    },
    {
     "name": "stdout",
     "output_type": "stream",
     "text": [
      "OkOk\n",
      "5.177144765853882\n",
      "2022-12-30 14:04:50\n"
     ]
    },
    {
     "name": "stderr",
     "output_type": "stream",
     "text": [
      "100%|███████████████████████████████████████████████████████████████████████████████| 902/902 [00:04<00:00, 187.78it/s]\n"
     ]
    },
    {
     "name": "stdout",
     "output_type": "stream",
     "text": [
      "OkOk\n",
      "5.813339710235596\n",
      "2022-12-30 14:19:50\n"
     ]
    },
    {
     "name": "stderr",
     "output_type": "stream",
     "text": [
      "100%|███████████████████████████████████████████████████████████████████████████████| 902/902 [00:04<00:00, 182.12it/s]\n"
     ]
    },
    {
     "name": "stdout",
     "output_type": "stream",
     "text": [
      "OkOk\n",
      "5.979801177978516\n",
      "2022-12-30 14:34:50\n"
     ]
    },
    {
     "name": "stderr",
     "output_type": "stream",
     "text": [
      "100%|███████████████████████████████████████████████████████████████████████████████| 902/902 [00:04<00:00, 181.76it/s]\n"
     ]
    },
    {
     "name": "stdout",
     "output_type": "stream",
     "text": [
      "OkOk\n",
      "6.017961740493774\n",
      "2022-12-30 14:49:50\n"
     ]
    },
    {
     "name": "stderr",
     "output_type": "stream",
     "text": [
      "100%|███████████████████████████████████████████████████████████████████████████████| 902/902 [00:04<00:00, 185.28it/s]\n"
     ]
    },
    {
     "name": "stdout",
     "output_type": "stream",
     "text": [
      "OkOk\n",
      "5.906875371932983\n",
      "2022-12-30 15:04:50\n"
     ]
    },
    {
     "name": "stderr",
     "output_type": "stream",
     "text": [
      "100%|███████████████████████████████████████████████████████████████████████████████| 902/902 [00:04<00:00, 189.66it/s]\n"
     ]
    },
    {
     "name": "stdout",
     "output_type": "stream",
     "text": [
      "OkOk\n",
      "5.904339075088501\n",
      "2022-12-30 15:19:50\n"
     ]
    },
    {
     "name": "stderr",
     "output_type": "stream",
     "text": [
      "100%|███████████████████████████████████████████████████████████████████████████████| 902/902 [00:04<00:00, 180.60it/s]\n"
     ]
    },
    {
     "name": "stdout",
     "output_type": "stream",
     "text": [
      "OkOk\n",
      "5.99598240852356\n",
      "2022-12-30 15:34:50\n"
     ]
    },
    {
     "name": "stderr",
     "output_type": "stream",
     "text": [
      "100%|███████████████████████████████████████████████████████████████████████████████| 902/902 [00:05<00:00, 176.58it/s]\n"
     ]
    },
    {
     "name": "stdout",
     "output_type": "stream",
     "text": [
      "OkOk\n",
      "6.118448495864868\n",
      "2022-12-30 15:49:50\n"
     ]
    },
    {
     "name": "stderr",
     "output_type": "stream",
     "text": [
      "100%|███████████████████████████████████████████████████████████████████████████████| 902/902 [00:01<00:00, 456.62it/s]\n"
     ]
    },
    {
     "name": "stdout",
     "output_type": "stream",
     "text": [
      "OkOk\n",
      "2.966412305831909\n",
      "2022-12-30 16:04:50\n"
     ]
    },
    {
     "name": "stderr",
     "output_type": "stream",
     "text": [
      "100%|███████████████████████████████████████████████████████████████████████████████| 902/902 [00:01<00:00, 679.31it/s]\n"
     ]
    },
    {
     "name": "stdout",
     "output_type": "stream",
     "text": [
      "OkOk\n",
      "2.0776381492614746\n",
      "2022-12-30 16:19:50\n"
     ]
    },
    {
     "name": "stderr",
     "output_type": "stream",
     "text": [
      "100%|███████████████████████████████████████████████████████████████████████████████| 902/902 [00:01<00:00, 641.57it/s]\n"
     ]
    },
    {
     "name": "stdout",
     "output_type": "stream",
     "text": [
      "OkOk\n",
      "2.1719400882720947\n",
      "2022-12-30 16:34:50\n"
     ]
    },
    {
     "name": "stderr",
     "output_type": "stream",
     "text": [
      "100%|███████████████████████████████████████████████████████████████████████████████| 902/902 [00:01<00:00, 614.06it/s]\n"
     ]
    },
    {
     "name": "stdout",
     "output_type": "stream",
     "text": [
      "OkOk\n",
      "2.242027521133423\n",
      "2022-12-30 16:49:50\n"
     ]
    },
    {
     "name": "stderr",
     "output_type": "stream",
     "text": [
      "100%|███████████████████████████████████████████████████████████████████████████████| 902/902 [00:01<00:00, 586.19it/s]\n"
     ]
    },
    {
     "name": "stdout",
     "output_type": "stream",
     "text": [
      "OkOk\n",
      "2.319828510284424\n",
      "2022-12-30 17:04:50\n"
     ]
    },
    {
     "name": "stderr",
     "output_type": "stream",
     "text": [
      "100%|███████████████████████████████████████████████████████████████████████████████| 902/902 [00:01<00:00, 648.81it/s]\n"
     ]
    },
    {
     "name": "stdout",
     "output_type": "stream",
     "text": [
      "OkOk\n",
      "2.093216896057129\n",
      "2022-12-30 17:19:50\n"
     ]
    },
    {
     "name": "stderr",
     "output_type": "stream",
     "text": [
      "100%|███████████████████████████████████████████████████████████████████████████████| 902/902 [00:01<00:00, 634.52it/s]\n"
     ]
    },
    {
     "name": "stdout",
     "output_type": "stream",
     "text": [
      "OkOk\n",
      "2.131284475326538\n",
      "2022-12-30 17:34:50\n"
     ]
    },
    {
     "name": "stderr",
     "output_type": "stream",
     "text": [
      "100%|███████████████████████████████████████████████████████████████████████████████| 902/902 [00:01<00:00, 604.16it/s]\n"
     ]
    },
    {
     "name": "stdout",
     "output_type": "stream",
     "text": [
      "OkOk\n",
      "2.258775472640991\n",
      "2022-12-30 17:49:50\n"
     ]
    },
    {
     "name": "stderr",
     "output_type": "stream",
     "text": [
      "100%|███████████████████████████████████████████████████████████████████████████████| 902/902 [00:01<00:00, 607.82it/s]\n"
     ]
    },
    {
     "name": "stdout",
     "output_type": "stream",
     "text": [
      "OkOk\n",
      "2.2338507175445557\n",
      "2022-12-30 18:04:50\n"
     ]
    },
    {
     "name": "stderr",
     "output_type": "stream",
     "text": [
      "100%|███████████████████████████████████████████████████████████████████████████████| 902/902 [00:01<00:00, 527.45it/s]\n"
     ]
    },
    {
     "name": "stdout",
     "output_type": "stream",
     "text": [
      "OkOk\n",
      "2.5380330085754395\n",
      "2022-12-30 18:19:50\n"
     ]
    },
    {
     "name": "stderr",
     "output_type": "stream",
     "text": [
      "100%|███████████████████████████████████████████████████████████████████████████████| 902/902 [00:01<00:00, 513.32it/s]\n"
     ]
    },
    {
     "name": "stdout",
     "output_type": "stream",
     "text": [
      "OkOk\n",
      "2.569533109664917\n",
      "2022-12-30 18:34:50\n"
     ]
    },
    {
     "name": "stderr",
     "output_type": "stream",
     "text": [
      "100%|███████████████████████████████████████████████████████████████████████████████| 902/902 [00:01<00:00, 511.18it/s]\n"
     ]
    },
    {
     "name": "stdout",
     "output_type": "stream",
     "text": [
      "OkOk\n",
      "2.5435171127319336\n",
      "2022-12-30 18:49:50\n"
     ]
    },
    {
     "name": "stderr",
     "output_type": "stream",
     "text": [
      "100%|███████████████████████████████████████████████████████████████████████████████| 902/902 [00:01<00:00, 491.45it/s]\n"
     ]
    },
    {
     "name": "stdout",
     "output_type": "stream",
     "text": [
      "OkOk\n",
      "2.6320619583129883\n",
      "2022-12-30 19:04:50\n"
     ]
    },
    {
     "name": "stderr",
     "output_type": "stream",
     "text": [
      "100%|███████████████████████████████████████████████████████████████████████████████| 902/902 [00:01<00:00, 539.64it/s]\n"
     ]
    },
    {
     "name": "stdout",
     "output_type": "stream",
     "text": [
      "OkOk\n",
      "2.4909560680389404\n",
      "2022-12-30 19:19:50\n"
     ]
    },
    {
     "name": "stderr",
     "output_type": "stream",
     "text": [
      "100%|███████████████████████████████████████████████████████████████████████████████| 902/902 [00:01<00:00, 527.58it/s]\n"
     ]
    },
    {
     "name": "stdout",
     "output_type": "stream",
     "text": [
      "OkOk\n",
      "2.4752182960510254\n",
      "2022-12-30 19:34:50\n"
     ]
    },
    {
     "name": "stderr",
     "output_type": "stream",
     "text": [
      "100%|███████████████████████████████████████████████████████████████████████████████| 902/902 [00:01<00:00, 506.51it/s]\n"
     ]
    },
    {
     "name": "stdout",
     "output_type": "stream",
     "text": [
      "OkOk\n",
      "2.5619957447052\n",
      "2022-12-30 19:49:50\n"
     ]
    },
    {
     "name": "stderr",
     "output_type": "stream",
     "text": [
      "100%|███████████████████████████████████████████████████████████████████████████████| 902/902 [00:01<00:00, 506.51it/s]\n"
     ]
    },
    {
     "name": "stdout",
     "output_type": "stream",
     "text": [
      "OkOk\n",
      "2.593208074569702\n",
      "2022-12-30 20:04:50\n"
     ]
    },
    {
     "name": "stderr",
     "output_type": "stream",
     "text": [
      "100%|███████████████████████████████████████████████████████████████████████████████| 902/902 [00:01<00:00, 461.93it/s]\n"
     ]
    },
    {
     "name": "stdout",
     "output_type": "stream",
     "text": [
      "OkOk\n",
      "2.827455759048462\n",
      "2022-12-30 20:19:50\n"
     ]
    },
    {
     "name": "stderr",
     "output_type": "stream",
     "text": [
      "100%|███████████████████████████████████████████████████████████████████████████████| 902/902 [00:01<00:00, 451.10it/s]\n"
     ]
    },
    {
     "name": "stdout",
     "output_type": "stream",
     "text": [
      "OkOk\n",
      "2.8899714946746826\n",
      "2022-12-30 20:34:50\n"
     ]
    },
    {
     "name": "stderr",
     "output_type": "stream",
     "text": [
      "100%|███████████████████████████████████████████████████████████████████████████████| 902/902 [00:02<00:00, 442.93it/s]\n"
     ]
    },
    {
     "name": "stdout",
     "output_type": "stream",
     "text": [
      "OkOk\n",
      "2.903395652770996\n",
      "2022-12-30 20:49:50\n"
     ]
    },
    {
     "name": "stderr",
     "output_type": "stream",
     "text": [
      "100%|███████████████████████████████████████████████████████████████████████████████| 902/902 [00:02<00:00, 435.67it/s]\n"
     ]
    },
    {
     "name": "stdout",
     "output_type": "stream",
     "text": [
      "OkOk\n",
      "3.0232887268066406\n",
      "2022-12-30 21:04:50\n"
     ]
    },
    {
     "name": "stderr",
     "output_type": "stream",
     "text": [
      "100%|███████████████████████████████████████████████████████████████████████████████| 901/901 [00:01<00:00, 463.33it/s]\n"
     ]
    },
    {
     "name": "stdout",
     "output_type": "stream",
     "text": [
      "OkOk\n",
      "2.7726097106933594\n",
      "2022-12-30 21:19:49\n"
     ]
    },
    {
     "name": "stderr",
     "output_type": "stream",
     "text": [
      "100%|███████████████████████████████████████████████████████████████████████████████| 902/902 [00:02<00:00, 445.52it/s]\n"
     ]
    },
    {
     "name": "stdout",
     "output_type": "stream",
     "text": [
      "OkOk\n",
      "2.836991786956787\n",
      "2022-12-30 21:34:49\n"
     ]
    },
    {
     "name": "stderr",
     "output_type": "stream",
     "text": [
      "100%|███████████████████████████████████████████████████████████████████████████████| 902/902 [00:02<00:00, 429.72it/s]\n"
     ]
    },
    {
     "name": "stdout",
     "output_type": "stream",
     "text": [
      "OkOk\n",
      "2.9394218921661377\n",
      "2022-12-30 21:49:49\n"
     ]
    },
    {
     "name": "stderr",
     "output_type": "stream",
     "text": [
      "100%|███████████████████████████████████████████████████████████████████████████████| 902/902 [00:02<00:00, 432.09it/s]\n"
     ]
    },
    {
     "name": "stdout",
     "output_type": "stream",
     "text": [
      "OkOk\n",
      "2.9231555461883545\n",
      "2022-12-30 22:04:49\n"
     ]
    },
    {
     "name": "stderr",
     "output_type": "stream",
     "text": [
      "100%|███████████████████████████████████████████████████████████████████████████████| 902/902 [00:02<00:00, 382.39it/s]\n"
     ]
    },
    {
     "name": "stdout",
     "output_type": "stream",
     "text": [
      "OkOk\n",
      "3.2804484367370605\n",
      "2022-12-30 22:19:49\n"
     ]
    },
    {
     "name": "stderr",
     "output_type": "stream",
     "text": [
      "100%|███████████████████████████████████████████████████████████████████████████████| 902/902 [00:02<00:00, 387.10it/s]\n"
     ]
    },
    {
     "name": "stdout",
     "output_type": "stream",
     "text": [
      "OkOk\n",
      "3.2206077575683594\n",
      "2022-12-30 22:34:49\n"
     ]
    },
    {
     "name": "stderr",
     "output_type": "stream",
     "text": [
      "100%|███████████████████████████████████████████████████████████████████████████████| 903/903 [00:02<00:00, 365.92it/s]\n"
     ]
    },
    {
     "name": "stdout",
     "output_type": "stream",
     "text": [
      "OkOk\n",
      "3.4351327419281006\n",
      "2022-12-30 22:49:50\n"
     ]
    },
    {
     "name": "stderr",
     "output_type": "stream",
     "text": [
      "100%|███████████████████████████████████████████████████████████████████████████████| 901/901 [00:02<00:00, 345.21it/s]\n"
     ]
    },
    {
     "name": "stdout",
     "output_type": "stream",
     "text": [
      "OkOk\n",
      "3.567538022994995\n",
      "2022-12-30 23:04:49\n"
     ]
    },
    {
     "name": "stderr",
     "output_type": "stream",
     "text": [
      "100%|███████████████████████████████████████████████████████████████████████████████| 902/902 [00:02<00:00, 347.84it/s]\n"
     ]
    },
    {
     "name": "stdout",
     "output_type": "stream",
     "text": [
      "OkOk\n",
      "3.4836151599884033\n",
      "2022-12-30 23:19:49\n"
     ]
    },
    {
     "name": "stderr",
     "output_type": "stream",
     "text": [
      "100%|███████████████████████████████████████████████████████████████████████████████| 902/902 [00:02<00:00, 330.76it/s]\n"
     ]
    },
    {
     "name": "stdout",
     "output_type": "stream",
     "text": [
      "OkOk\n",
      "3.6902217864990234\n",
      "2022-12-30 23:34:49\n"
     ]
    },
    {
     "name": "stderr",
     "output_type": "stream",
     "text": [
      "100%|███████████████████████████████████████████████████████████████████████████████| 902/902 [00:02<00:00, 319.01it/s]\n"
     ]
    },
    {
     "name": "stdout",
     "output_type": "stream",
     "text": [
      "OkOk\n",
      "3.734344482421875\n",
      "2022-12-30 23:49:49\n"
     ]
    },
    {
     "name": "stderr",
     "output_type": "stream",
     "text": [
      "100%|███████████████████████████████████████████████████████████████████████████████| 902/902 [00:02<00:00, 316.26it/s]\n"
     ]
    },
    {
     "name": "stdout",
     "output_type": "stream",
     "text": [
      "OkOk\n",
      "3.742586374282837\n",
      "2022-12-31 00:04:49\n"
     ]
    },
    {
     "name": "stderr",
     "output_type": "stream",
     "text": [
      "100%|███████████████████████████████████████████████████████████████████████████████| 902/902 [00:03<00:00, 279.70it/s]\n"
     ]
    },
    {
     "name": "stdout",
     "output_type": "stream",
     "text": [
      "OkOk\n",
      "4.209028959274292\n",
      "2022-12-31 00:19:49\n"
     ]
    },
    {
     "name": "stderr",
     "output_type": "stream",
     "text": [
      "100%|███████████████████████████████████████████████████████████████████████████████| 902/902 [00:03<00:00, 279.15it/s]\n"
     ]
    },
    {
     "name": "stdout",
     "output_type": "stream",
     "text": [
      "OkOk\n",
      "4.2458953857421875\n",
      "2022-12-31 00:34:49\n"
     ]
    },
    {
     "name": "stderr",
     "output_type": "stream",
     "text": [
      "100%|███████████████████████████████████████████████████████████████████████████████| 902/902 [00:03<00:00, 279.70it/s]\n"
     ]
    },
    {
     "name": "stdout",
     "output_type": "stream",
     "text": [
      "OkOk\n",
      "4.28718376159668\n",
      "2022-12-31 00:49:49\n"
     ]
    },
    {
     "name": "stderr",
     "output_type": "stream",
     "text": [
      "100%|███████████████████████████████████████████████████████████████████████████████| 902/902 [00:03<00:00, 271.50it/s]\n"
     ]
    },
    {
     "name": "stdout",
     "output_type": "stream",
     "text": [
      "OkOk\n",
      "4.33043909072876\n",
      "2022-12-31 01:04:49\n"
     ]
    },
    {
     "name": "stderr",
     "output_type": "stream",
     "text": [
      "100%|███████████████████████████████████████████████████████████████████████████████| 902/902 [00:03<00:00, 276.59it/s]\n"
     ]
    },
    {
     "name": "stdout",
     "output_type": "stream",
     "text": [
      "OkOk\n",
      "4.205560684204102\n",
      "2022-12-31 01:19:49\n"
     ]
    },
    {
     "name": "stderr",
     "output_type": "stream",
     "text": [
      "100%|███████████████████████████████████████████████████████████████████████████████| 902/902 [00:03<00:00, 270.16it/s]\n"
     ]
    },
    {
     "name": "stdout",
     "output_type": "stream",
     "text": [
      "OkOk\n",
      "4.32555079460144\n",
      "2022-12-31 01:34:49\n"
     ]
    },
    {
     "name": "stderr",
     "output_type": "stream",
     "text": [
      "100%|███████████████████████████████████████████████████████████████████████████████| 902/902 [00:03<00:00, 262.57it/s]\n"
     ]
    },
    {
     "name": "stdout",
     "output_type": "stream",
     "text": [
      "OkOk\n",
      "4.403698921203613\n",
      "2022-12-31 01:49:49\n"
     ]
    },
    {
     "name": "stderr",
     "output_type": "stream",
     "text": [
      "100%|███████████████████████████████████████████████████████████████████████████████| 902/902 [00:03<00:00, 263.07it/s]\n"
     ]
    },
    {
     "name": "stdout",
     "output_type": "stream",
     "text": [
      "OkOk\n",
      "4.397326231002808\n",
      "2022-12-31 02:04:49\n"
     ]
    },
    {
     "name": "stderr",
     "output_type": "stream",
     "text": [
      "100%|███████████████████████████████████████████████████████████████████████████████| 902/902 [00:03<00:00, 234.72it/s]\n"
     ]
    },
    {
     "name": "stdout",
     "output_type": "stream",
     "text": [
      "OkOk\n",
      "4.91269850730896\n",
      "2022-12-31 02:19:49\n"
     ]
    },
    {
     "name": "stderr",
     "output_type": "stream",
     "text": [
      "100%|███████████████████████████████████████████████████████████████████████████████| 902/902 [00:03<00:00, 226.04it/s]\n"
     ]
    },
    {
     "name": "stdout",
     "output_type": "stream",
     "text": [
      "OkOk\n",
      "5.061025857925415\n",
      "2022-12-31 02:34:49\n"
     ]
    },
    {
     "name": "stderr",
     "output_type": "stream",
     "text": [
      "100%|███████████████████████████████████████████████████████████████████████████████| 902/902 [00:03<00:00, 225.86it/s]\n"
     ]
    },
    {
     "name": "stdout",
     "output_type": "stream",
     "text": [
      "OkOk\n",
      "5.080556392669678\n",
      "2022-12-31 02:49:49\n"
     ]
    },
    {
     "name": "stderr",
     "output_type": "stream",
     "text": [
      "100%|███████████████████████████████████████████████████████████████████████████████| 902/902 [00:04<00:00, 223.80it/s]\n"
     ]
    },
    {
     "name": "stdout",
     "output_type": "stream",
     "text": [
      "OkOk\n",
      "5.061306476593018\n",
      "2022-12-31 03:04:49\n"
     ]
    },
    {
     "name": "stderr",
     "output_type": "stream",
     "text": [
      "100%|███████████████████████████████████████████████████████████████████████████████| 902/902 [00:03<00:00, 236.66it/s]\n"
     ]
    },
    {
     "name": "stdout",
     "output_type": "stream",
     "text": [
      "OkOk\n",
      "4.819301128387451\n",
      "2022-12-31 03:19:49\n"
     ]
    },
    {
     "name": "stderr",
     "output_type": "stream",
     "text": [
      "100%|███████████████████████████████████████████████████████████████████████████████| 902/902 [00:04<00:00, 214.41it/s]\n"
     ]
    },
    {
     "name": "stdout",
     "output_type": "stream",
     "text": [
      "OkOk\n",
      "5.214428901672363\n",
      "2022-12-31 03:34:49\n"
     ]
    },
    {
     "name": "stderr",
     "output_type": "stream",
     "text": [
      "100%|███████████████████████████████████████████████████████████████████████████████| 902/902 [00:04<00:00, 210.35it/s]\n"
     ]
    },
    {
     "name": "stdout",
     "output_type": "stream",
     "text": [
      "OkOk\n",
      "5.295473337173462\n",
      "2022-12-31 03:49:49\n"
     ]
    },
    {
     "name": "stderr",
     "output_type": "stream",
     "text": [
      "100%|███████████████████████████████████████████████████████████████████████████████| 902/902 [00:04<00:00, 210.29it/s]\n"
     ]
    },
    {
     "name": "stdout",
     "output_type": "stream",
     "text": [
      "OkOk\n",
      "5.2969911098480225\n",
      "2022-12-31 04:04:49\n"
     ]
    },
    {
     "name": "stderr",
     "output_type": "stream",
     "text": [
      "100%|███████████████████████████████████████████████████████████████████████████████| 902/902 [00:04<00:00, 196.04it/s]\n"
     ]
    },
    {
     "name": "stdout",
     "output_type": "stream",
     "text": [
      "OkOk\n",
      "5.702256679534912\n",
      "2022-12-31 04:19:49\n"
     ]
    },
    {
     "name": "stderr",
     "output_type": "stream",
     "text": [
      "100%|███████████████████████████████████████████████████████████████████████████████| 902/902 [00:05<00:00, 179.97it/s]\n"
     ]
    },
    {
     "name": "stdout",
     "output_type": "stream",
     "text": [
      "OkOk\n",
      "6.188941240310669\n",
      "2022-12-31 04:34:49\n"
     ]
    },
    {
     "name": "stderr",
     "output_type": "stream",
     "text": [
      "100%|███████████████████████████████████████████████████████████████████████████████| 902/902 [00:04<00:00, 185.36it/s]\n"
     ]
    },
    {
     "name": "stdout",
     "output_type": "stream",
     "text": [
      "OkOk\n",
      "5.9923553466796875\n",
      "2022-12-31 04:49:49\n"
     ]
    },
    {
     "name": "stderr",
     "output_type": "stream",
     "text": [
      "100%|███████████████████████████████████████████████████████████████████████████████| 902/902 [00:05<00:00, 180.38it/s]\n"
     ]
    },
    {
     "name": "stdout",
     "output_type": "stream",
     "text": [
      "OkOk\n",
      "6.140930652618408\n",
      "2022-12-31 05:04:49\n"
     ]
    },
    {
     "name": "stderr",
     "output_type": "stream",
     "text": [
      "100%|███████████████████████████████████████████████████████████████████████████████| 902/902 [00:04<00:00, 190.61it/s]\n"
     ]
    },
    {
     "name": "stdout",
     "output_type": "stream",
     "text": [
      "OkOk\n",
      "5.841371774673462\n",
      "2022-12-31 05:19:49\n"
     ]
    },
    {
     "name": "stderr",
     "output_type": "stream",
     "text": [
      "100%|███████████████████████████████████████████████████████████████████████████████| 901/901 [00:05<00:00, 179.23it/s]\n"
     ]
    },
    {
     "name": "stdout",
     "output_type": "stream",
     "text": [
      "OkOk\n",
      "6.1120545864105225\n",
      "2022-12-31 05:34:49\n"
     ]
    },
    {
     "name": "stderr",
     "output_type": "stream",
     "text": [
      "100%|███████████████████████████████████████████████████████████████████████████████| 902/902 [00:03<00:00, 246.86it/s]\n"
     ]
    },
    {
     "name": "stdout",
     "output_type": "stream",
     "text": [
      "OkOk\n",
      "4.575639486312866\n",
      "2022-12-31 05:49:49\n"
     ]
    },
    {
     "name": "stderr",
     "output_type": "stream",
     "text": [
      "100%|███████████████████████████████████████████████████████████████████████████████| 902/902 [00:01<00:00, 734.95it/s]\n"
     ]
    },
    {
     "name": "stdout",
     "output_type": "stream",
     "text": [
      "OkOk\n",
      "1.8365545272827148\n",
      "2022-12-31 06:04:49\n"
     ]
    },
    {
     "name": "stderr",
     "output_type": "stream",
     "text": [
      "100%|███████████████████████████████████████████████████████████████████████████████| 902/902 [00:01<00:00, 641.57it/s]\n"
     ]
    },
    {
     "name": "stdout",
     "output_type": "stream",
     "text": [
      "OkOk\n",
      "2.1154825687408447\n",
      "2022-12-31 06:19:49\n"
     ]
    },
    {
     "name": "stderr",
     "output_type": "stream",
     "text": [
      "100%|███████████████████████████████████████████████████████████████████████████████| 902/902 [00:01<00:00, 641.59it/s]\n"
     ]
    },
    {
     "name": "stdout",
     "output_type": "stream",
     "text": [
      "OkOk\n",
      "2.096176862716675\n",
      "2022-12-31 06:34:49\n"
     ]
    },
    {
     "name": "stderr",
     "output_type": "stream",
     "text": [
      "100%|███████████████████████████████████████████████████████████████████████████████| 902/902 [00:01<00:00, 617.72it/s]\n"
     ]
    },
    {
     "name": "stdout",
     "output_type": "stream",
     "text": [
      "OkOk\n",
      "2.185756206512451\n",
      "2022-12-31 06:49:49\n"
     ]
    },
    {
     "name": "stderr",
     "output_type": "stream",
     "text": [
      "100%|███████████████████████████████████████████████████████████████████████████████| 902/902 [00:01<00:00, 574.56it/s]\n"
     ]
    },
    {
     "name": "stdout",
     "output_type": "stream",
     "text": [
      "OkOk\n",
      "2.274735927581787\n",
      "2022-12-31 07:04:49\n"
     ]
    },
    {
     "name": "stderr",
     "output_type": "stream",
     "text": [
      "100%|███████████████████████████████████████████████████████████████████████████████| 902/902 [00:01<00:00, 641.57it/s]\n"
     ]
    },
    {
     "name": "stdout",
     "output_type": "stream",
     "text": [
      "OkOk\n",
      "2.06207537651062\n",
      "2022-12-31 07:19:49\n"
     ]
    },
    {
     "name": "stderr",
     "output_type": "stream",
     "text": [
      "100%|███████████████████████████████████████████████████████████████████████████████| 902/902 [00:01<00:00, 624.35it/s]\n"
     ]
    },
    {
     "name": "stdout",
     "output_type": "stream",
     "text": [
      "OkOk\n",
      "2.1085052490234375\n",
      "2022-12-31 07:34:49\n"
     ]
    },
    {
     "name": "stderr",
     "output_type": "stream",
     "text": [
      "100%|███████████████████████████████████████████████████████████████████████████████| 902/902 [00:01<00:00, 603.53it/s]\n"
     ]
    },
    {
     "name": "stdout",
     "output_type": "stream",
     "text": [
      "OkOk\n",
      "2.166303873062134\n",
      "2022-12-31 07:49:49\n"
     ]
    },
    {
     "name": "stderr",
     "output_type": "stream",
     "text": [
      "100%|███████████████████████████████████████████████████████████████████████████████| 902/902 [00:01<00:00, 592.57it/s]\n"
     ]
    },
    {
     "name": "stdout",
     "output_type": "stream",
     "text": [
      "OkOk\n",
      "2.225146532058716\n",
      "2022-12-31 08:04:49\n"
     ]
    },
    {
     "name": "stderr",
     "output_type": "stream",
     "text": [
      "100%|███████████████████████████████████████████████████████████████████████████████| 902/902 [00:01<00:00, 539.64it/s]\n"
     ]
    },
    {
     "name": "stdout",
     "output_type": "stream",
     "text": [
      "OkOk\n",
      "2.452523708343506\n",
      "2022-12-31 08:19:49\n"
     ]
    },
    {
     "name": "stderr",
     "output_type": "stream",
     "text": [
      "100%|███████████████████████████████████████████████████████████████████████████████| 902/902 [00:01<00:00, 527.38it/s]\n"
     ]
    },
    {
     "name": "stdout",
     "output_type": "stream",
     "text": [
      "OkOk\n",
      "2.4779653549194336\n",
      "2022-12-31 08:34:49\n"
     ]
    },
    {
     "name": "stderr",
     "output_type": "stream",
     "text": [
      "100%|███████████████████████████████████████████████████████████████████████████████| 902/902 [00:01<00:00, 520.19it/s]\n"
     ]
    },
    {
     "name": "stdout",
     "output_type": "stream",
     "text": [
      "OkOk\n",
      "2.521392583847046\n",
      "2022-12-31 08:49:49\n"
     ]
    },
    {
     "name": "stderr",
     "output_type": "stream",
     "text": [
      "100%|███████████████████████████████████████████████████████████████████████████████| 902/902 [00:01<00:00, 520.19it/s]\n"
     ]
    },
    {
     "name": "stdout",
     "output_type": "stream",
     "text": [
      "OkOk\n",
      "2.515033006668091\n",
      "2022-12-31 09:04:49\n"
     ]
    },
    {
     "name": "stderr",
     "output_type": "stream",
     "text": [
      "100%|███████████████████████████████████████████████████████████████████████████████| 901/901 [00:01<00:00, 531.64it/s]\n"
     ]
    },
    {
     "name": "stdout",
     "output_type": "stream",
     "text": [
      "OkOk\n",
      "2.4134018421173096\n",
      "2022-12-31 09:19:48\n"
     ]
    },
    {
     "name": "stderr",
     "output_type": "stream",
     "text": [
      "100%|███████████████████████████████████████████████████████████████████████████████| 902/902 [00:01<00:00, 524.92it/s]\n"
     ]
    },
    {
     "name": "stdout",
     "output_type": "stream",
     "text": [
      "OkOk\n",
      "2.4681601524353027\n",
      "2022-12-31 09:34:48\n"
     ]
    },
    {
     "name": "stderr",
     "output_type": "stream",
     "text": [
      "100%|███████████████████████████████████████████████████████████████████████████████| 902/902 [00:01<00:00, 504.53it/s]\n"
     ]
    },
    {
     "name": "stdout",
     "output_type": "stream",
     "text": [
      "OkOk\n",
      "2.584503173828125\n",
      "2022-12-31 09:49:48\n"
     ]
    },
    {
     "name": "stderr",
     "output_type": "stream",
     "text": [
      "100%|███████████████████████████████████████████████████████████████████████████████| 902/902 [00:01<00:00, 495.68it/s]\n"
     ]
    },
    {
     "name": "stdout",
     "output_type": "stream",
     "text": [
      "OkOk\n",
      "2.553959608078003\n",
      "2022-12-31 10:04:48\n"
     ]
    },
    {
     "name": "stderr",
     "output_type": "stream",
     "text": [
      "100%|███████████████████████████████████████████████████████████████████████████████| 902/902 [00:02<00:00, 439.10it/s]\n"
     ]
    },
    {
     "name": "stdout",
     "output_type": "stream",
     "text": [
      "OkOk\n",
      "2.819633722305298\n",
      "2022-12-31 10:19:48\n"
     ]
    },
    {
     "name": "stderr",
     "output_type": "stream",
     "text": [
      "100%|███████████████████████████████████████████████████████████████████████████████| 902/902 [00:02<00:00, 440.78it/s]\n"
     ]
    },
    {
     "name": "stdout",
     "output_type": "stream",
     "text": [
      "OkOk\n",
      "2.8587002754211426\n",
      "2022-12-31 10:34:48\n"
     ]
    },
    {
     "name": "stderr",
     "output_type": "stream",
     "text": [
      "100%|███████████████████████████████████████████████████████████████████████████████| 902/902 [00:02<00:00, 435.99it/s]\n"
     ]
    },
    {
     "name": "stdout",
     "output_type": "stream",
     "text": [
      "OkOk\n",
      "2.8982462882995605\n",
      "2022-12-31 10:49:48\n"
     ]
    },
    {
     "name": "stderr",
     "output_type": "stream",
     "text": [
      "100%|███████████████████████████████████████████████████████████████████████████████| 902/902 [00:02<00:00, 427.72it/s]\n"
     ]
    },
    {
     "name": "stdout",
     "output_type": "stream",
     "text": [
      "OkOk\n",
      "2.959521770477295\n",
      "2022-12-31 11:04:48\n"
     ]
    },
    {
     "name": "stderr",
     "output_type": "stream",
     "text": [
      "100%|███████████████████████████████████████████████████████████████████████████████| 902/902 [00:01<00:00, 454.35it/s]\n"
     ]
    },
    {
     "name": "stdout",
     "output_type": "stream",
     "text": [
      "OkOk\n",
      "2.750680446624756\n",
      "2022-12-31 11:19:48\n"
     ]
    },
    {
     "name": "stderr",
     "output_type": "stream",
     "text": [
      "100%|███████████████████████████████████████████████████████████████████████████████| 902/902 [00:02<00:00, 445.91it/s]\n"
     ]
    },
    {
     "name": "stdout",
     "output_type": "stream",
     "text": [
      "OkOk\n",
      "2.8039767742156982\n",
      "2022-12-31 11:34:48\n"
     ]
    },
    {
     "name": "stderr",
     "output_type": "stream",
     "text": [
      "100%|███████████████████████████████████████████████████████████████████████████████| 902/902 [00:02<00:00, 432.71it/s]\n"
     ]
    },
    {
     "name": "stdout",
     "output_type": "stream",
     "text": [
      "OkOk\n",
      "2.8812355995178223\n",
      "2022-12-31 11:49:48\n"
     ]
    },
    {
     "name": "stderr",
     "output_type": "stream",
     "text": [
      "100%|███████████████████████████████████████████████████████████████████████████████| 902/902 [00:02<00:00, 396.98it/s]\n"
     ]
    },
    {
     "name": "stdout",
     "output_type": "stream",
     "text": [
      "OkOk\n",
      "3.211719512939453\n",
      "2022-12-31 12:04:48\n"
     ]
    },
    {
     "name": "stderr",
     "output_type": "stream",
     "text": [
      "100%|███████████████████████████████████████████████████████████████████████████████| 902/902 [00:02<00:00, 384.94it/s]\n"
     ]
    },
    {
     "name": "stdout",
     "output_type": "stream",
     "text": [
      "OkOk\n",
      "3.202397108078003\n",
      "2022-12-31 12:19:48\n"
     ]
    },
    {
     "name": "stderr",
     "output_type": "stream",
     "text": [
      "100%|███████████████████████████████████████████████████████████████████████████████| 902/902 [00:02<00:00, 382.39it/s]\n"
     ]
    },
    {
     "name": "stdout",
     "output_type": "stream",
     "text": [
      "OkOk\n",
      "3.2581682205200195\n",
      "2022-12-31 12:34:48\n"
     ]
    },
    {
     "name": "stderr",
     "output_type": "stream",
     "text": [
      "100%|███████████████████████████████████████████████████████████████████████████████| 902/902 [00:02<00:00, 359.54it/s]\n"
     ]
    },
    {
     "name": "stdout",
     "output_type": "stream",
     "text": [
      "OkOk\n",
      "3.5004496574401855\n",
      "2022-12-31 12:49:48\n"
     ]
    },
    {
     "name": "stderr",
     "output_type": "stream",
     "text": [
      "100%|███████████████████████████████████████████████████████████████████████████████| 902/902 [00:02<00:00, 328.17it/s]\n"
     ]
    },
    {
     "name": "stdout",
     "output_type": "stream",
     "text": [
      "OkOk\n",
      "3.593372106552124\n",
      "2022-12-31 13:04:48\n"
     ]
    },
    {
     "name": "stderr",
     "output_type": "stream",
     "text": [
      "100%|███████████████████████████████████████████████████████████████████████████████| 902/902 [00:02<00:00, 335.71it/s]\n"
     ]
    },
    {
     "name": "stdout",
     "output_type": "stream",
     "text": [
      "OkOk\n",
      "3.5617198944091797\n",
      "2022-12-31 13:19:48\n"
     ]
    },
    {
     "name": "stderr",
     "output_type": "stream",
     "text": [
      "100%|███████████████████████████████████████████████████████████████████████████████| 902/902 [00:02<00:00, 324.39it/s]\n"
     ]
    },
    {
     "name": "stdout",
     "output_type": "stream",
     "text": [
      "OkOk\n",
      "3.6489224433898926\n",
      "2022-12-31 13:34:48\n"
     ]
    },
    {
     "name": "stderr",
     "output_type": "stream",
     "text": [
      "100%|███████████████████████████████████████████████████████████████████████████████| 902/902 [00:02<00:00, 319.98it/s]\n"
     ]
    },
    {
     "name": "stdout",
     "output_type": "stream",
     "text": [
      "OkOk\n",
      "3.689432382583618\n",
      "2022-12-31 13:49:48\n"
     ]
    },
    {
     "name": "stderr",
     "output_type": "stream",
     "text": [
      "100%|███████████████████████████████████████████████████████████████████████████████| 902/902 [00:02<00:00, 310.44it/s]\n"
     ]
    },
    {
     "name": "stdout",
     "output_type": "stream",
     "text": [
      "OkOk\n",
      "3.7792651653289795\n",
      "2022-12-31 14:04:48\n"
     ]
    },
    {
     "name": "stderr",
     "output_type": "stream",
     "text": [
      "100%|███████████████████████████████████████████████████████████████████████████████| 902/902 [00:03<00:00, 284.30it/s]\n"
     ]
    },
    {
     "name": "stdout",
     "output_type": "stream",
     "text": [
      "OkOk\n",
      "4.266170501708984\n",
      "2022-12-31 14:19:48\n"
     ]
    },
    {
     "name": "stderr",
     "output_type": "stream",
     "text": [
      "100%|███████████████████████████████████████████████████████████████████████████████| 902/902 [00:03<00:00, 267.95it/s]\n"
     ]
    },
    {
     "name": "stdout",
     "output_type": "stream",
     "text": [
      "OkOk\n",
      "4.4242918491363525\n",
      "2022-12-31 14:34:48\n"
     ]
    },
    {
     "name": "stderr",
     "output_type": "stream",
     "text": [
      "100%|███████████████████████████████████████████████████████████████████████████████| 902/902 [00:03<00:00, 267.32it/s]\n"
     ]
    },
    {
     "name": "stdout",
     "output_type": "stream",
     "text": [
      "OkOk\n",
      "4.335400819778442\n",
      "2022-12-31 14:49:48\n"
     ]
    },
    {
     "name": "stderr",
     "output_type": "stream",
     "text": [
      "100%|███████████████████████████████████████████████████████████████████████████████| 902/902 [00:03<00:00, 259.52it/s]\n"
     ]
    },
    {
     "name": "stdout",
     "output_type": "stream",
     "text": [
      "OkOk\n",
      "4.475036382675171\n",
      "2022-12-31 15:04:48\n"
     ]
    },
    {
     "name": "stderr",
     "output_type": "stream",
     "text": [
      "100%|███████████████████████████████████████████████████████████████████████████████| 902/902 [00:03<00:00, 277.02it/s]\n"
     ]
    },
    {
     "name": "stdout",
     "output_type": "stream",
     "text": [
      "OkOk\n",
      "4.146631240844727\n",
      "2022-12-31 15:19:48\n"
     ]
    },
    {
     "name": "stderr",
     "output_type": "stream",
     "text": [
      "100%|███████████████████████████████████████████████████████████████████████████████| 902/902 [00:03<00:00, 269.22it/s]\n"
     ]
    },
    {
     "name": "stdout",
     "output_type": "stream",
     "text": [
      "OkOk\n",
      "4.290010213851929\n",
      "2022-12-31 15:34:48\n"
     ]
    },
    {
     "name": "stderr",
     "output_type": "stream",
     "text": [
      "100%|███████████████████████████████████████████████████████████████████████████████| 902/902 [00:03<00:00, 264.33it/s]\n"
     ]
    },
    {
     "name": "stdout",
     "output_type": "stream",
     "text": [
      "OkOk\n",
      "4.310428142547607\n",
      "2022-12-31 15:49:48\n"
     ]
    },
    {
     "name": "stderr",
     "output_type": "stream",
     "text": [
      "100%|███████████████████████████████████████████████████████████████████████████████| 902/902 [00:03<00:00, 261.93it/s]\n"
     ]
    },
    {
     "name": "stdout",
     "output_type": "stream",
     "text": [
      "OkOk\n",
      "4.367031574249268\n",
      "2022-12-31 16:04:48\n"
     ]
    },
    {
     "name": "stderr",
     "output_type": "stream",
     "text": [
      "100%|███████████████████████████████████████████████████████████████████████████████| 902/902 [00:03<00:00, 240.01it/s]\n"
     ]
    },
    {
     "name": "stdout",
     "output_type": "stream",
     "text": [
      "OkOk\n",
      "4.7411558628082275\n",
      "2022-12-31 16:19:48\n"
     ]
    },
    {
     "name": "stderr",
     "output_type": "stream",
     "text": [
      "100%|███████████████████████████████████████████████████████████████████████████████| 902/902 [00:04<00:00, 215.66it/s]\n"
     ]
    },
    {
     "name": "stdout",
     "output_type": "stream",
     "text": [
      "OkOk\n",
      "5.183856248855591\n",
      "2022-12-31 16:34:48\n"
     ]
    },
    {
     "name": "stderr",
     "output_type": "stream",
     "text": [
      "100%|███████████████████████████████████████████████████████████████████████████████| 902/902 [00:03<00:00, 230.50it/s]\n"
     ]
    },
    {
     "name": "stdout",
     "output_type": "stream",
     "text": [
      "OkOk\n",
      "4.9529619216918945\n",
      "2022-12-31 16:49:48\n"
     ]
    },
    {
     "name": "stderr",
     "output_type": "stream",
     "text": [
      "100%|███████████████████████████████████████████████████████████████████████████████| 902/902 [00:04<00:00, 221.23it/s]\n"
     ]
    },
    {
     "name": "stdout",
     "output_type": "stream",
     "text": [
      "OkOk\n",
      "5.0557403564453125\n",
      "2022-12-31 17:04:48\n"
     ]
    },
    {
     "name": "stderr",
     "output_type": "stream",
     "text": [
      "100%|███████████████████████████████████████████████████████████████████████████████| 902/902 [00:04<00:00, 220.02it/s]\n"
     ]
    },
    {
     "name": "stdout",
     "output_type": "stream",
     "text": [
      "OkOk\n",
      "5.039135217666626\n",
      "2022-12-31 17:19:48\n"
     ]
    },
    {
     "name": "stderr",
     "output_type": "stream",
     "text": [
      "100%|███████████████████████████████████████████████████████████████████████████████| 902/902 [00:04<00:00, 208.45it/s]\n"
     ]
    },
    {
     "name": "stdout",
     "output_type": "stream",
     "text": [
      "OkOk\n",
      "5.265846490859985\n",
      "2022-12-31 17:34:48\n"
     ]
    },
    {
     "name": "stderr",
     "output_type": "stream",
     "text": [
      "100%|███████████████████████████████████████████████████████████████████████████████| 902/902 [00:04<00:00, 209.21it/s]\n"
     ]
    },
    {
     "name": "stdout",
     "output_type": "stream",
     "text": [
      "OkOk\n",
      "5.264389991760254\n",
      "2022-12-31 17:49:48\n"
     ]
    },
    {
     "name": "stderr",
     "output_type": "stream",
     "text": [
      "100%|███████████████████████████████████████████████████████████████████████████████| 902/902 [00:04<00:00, 205.53it/s]\n"
     ]
    },
    {
     "name": "stdout",
     "output_type": "stream",
     "text": [
      "OkOk\n",
      "5.350373029708862\n",
      "2022-12-31 18:04:48\n"
     ]
    },
    {
     "name": "stderr",
     "output_type": "stream",
     "text": [
      "100%|███████████████████████████████████████████████████████████████████████████████| 902/902 [00:04<00:00, 189.93it/s]\n"
     ]
    },
    {
     "name": "stdout",
     "output_type": "stream",
     "text": [
      "OkOk\n",
      "5.795680999755859\n",
      "2022-12-31 18:19:48\n"
     ]
    },
    {
     "name": "stderr",
     "output_type": "stream",
     "text": [
      "100%|███████████████████████████████████████████████████████████████████████████████| 902/902 [00:05<00:00, 171.06it/s]\n"
     ]
    },
    {
     "name": "stdout",
     "output_type": "stream",
     "text": [
      "OkOk\n",
      "6.340641736984253\n",
      "2022-12-31 18:34:48\n"
     ]
    },
    {
     "name": "stderr",
     "output_type": "stream",
     "text": [
      "100%|███████████████████████████████████████████████████████████████████████████████| 902/902 [00:04<00:00, 181.30it/s]\n"
     ]
    },
    {
     "name": "stdout",
     "output_type": "stream",
     "text": [
      "OkOk\n",
      "6.068742275238037\n",
      "2022-12-31 18:49:48\n"
     ]
    },
    {
     "name": "stderr",
     "output_type": "stream",
     "text": [
      "100%|███████████████████████████████████████████████████████████████████████████████| 902/902 [00:05<00:00, 178.42it/s]\n"
     ]
    },
    {
     "name": "stdout",
     "output_type": "stream",
     "text": [
      "OkOk\n",
      "6.133344888687134\n",
      "2022-12-31 19:04:48\n"
     ]
    },
    {
     "name": "stderr",
     "output_type": "stream",
     "text": [
      "100%|███████████████████████████████████████████████████████████████████████████████| 902/902 [00:04<00:00, 186.29it/s]\n"
     ]
    },
    {
     "name": "stdout",
     "output_type": "stream",
     "text": [
      "OkOk\n",
      "5.83281683921814\n",
      "2022-12-31 19:19:48\n"
     ]
    },
    {
     "name": "stderr",
     "output_type": "stream",
     "text": [
      "100%|███████████████████████████████████████████████████████████████████████████████| 902/902 [00:05<00:00, 177.36it/s]\n"
     ]
    },
    {
     "name": "stdout",
     "output_type": "stream",
     "text": [
      "OkOk\n",
      "6.077386856079102\n",
      "2022-12-31 19:34:48\n"
     ]
    },
    {
     "name": "stderr",
     "output_type": "stream",
     "text": [
      "100%|███████████████████████████████████████████████████████████████████████████████| 902/902 [00:01<00:00, 607.80it/s]\n"
     ]
    },
    {
     "name": "stdout",
     "output_type": "stream",
     "text": [
      "OkOk\n",
      "2.3587229251861572\n",
      "2022-12-31 19:49:48\n"
     ]
    },
    {
     "name": "stderr",
     "output_type": "stream",
     "text": [
      "100%|███████████████████████████████████████████████████████████████████████████████| 902/902 [00:01<00:00, 726.99it/s]\n"
     ]
    },
    {
     "name": "stdout",
     "output_type": "stream",
     "text": [
      "OkOk\n",
      "1.8500645160675049\n",
      "2022-12-31 20:04:48\n"
     ]
    },
    {
     "name": "stderr",
     "output_type": "stream",
     "text": [
      "100%|███████████████████████████████████████████████████████████████████████████████| 902/902 [00:01<00:00, 621.32it/s]\n"
     ]
    },
    {
     "name": "stdout",
     "output_type": "stream",
     "text": [
      "OkOk\n",
      "2.060969114303589\n",
      "2022-12-31 20:19:48\n"
     ]
    },
    {
     "name": "stderr",
     "output_type": "stream",
     "text": [
      "100%|███████████████████████████████████████████████████████████████████████████████| 902/902 [00:01<00:00, 627.64it/s]\n"
     ]
    },
    {
     "name": "stdout",
     "output_type": "stream",
     "text": [
      "OkOk\n",
      "2.0218756198883057\n",
      "2022-12-31 20:34:48\n"
     ]
    },
    {
     "name": "stderr",
     "output_type": "stream",
     "text": [
      "100%|███████████████████████████████████████████████████████████████████████████████| 902/902 [00:01<00:00, 607.81it/s]\n"
     ]
    },
    {
     "name": "stdout",
     "output_type": "stream",
     "text": [
      "OkOk\n",
      "2.1008005142211914\n",
      "2022-12-31 20:49:48\n"
     ]
    },
    {
     "name": "stderr",
     "output_type": "stream",
     "text": [
      "100%|███████████████████████████████████████████████████████████████████████████████| 902/902 [00:01<00:00, 589.20it/s]\n"
     ]
    },
    {
     "name": "stdout",
     "output_type": "stream",
     "text": [
      "OkOk\n",
      "2.1713900566101074\n",
      "2022-12-31 21:04:48\n"
     ]
    },
    {
     "name": "stderr",
     "output_type": "stream",
     "text": [
      "100%|███████████████████████████████████████████████████████████████████████████████| 902/902 [00:01<00:00, 627.64it/s]\n"
     ]
    },
    {
     "name": "stdout",
     "output_type": "stream",
     "text": [
      "OkOk\n",
      "2.022125005722046\n",
      "2022-12-31 21:19:48\n"
     ]
    },
    {
     "name": "stderr",
     "output_type": "stream",
     "text": [
      "100%|███████████████████████████████████████████████████████████████████████████████| 901/901 [00:01<00:00, 617.14it/s]\n"
     ]
    },
    {
     "name": "stdout",
     "output_type": "stream",
     "text": [
      "OkOk\n",
      "2.069220542907715\n",
      "2022-12-31 21:34:47\n"
     ]
    },
    {
     "name": "stderr",
     "output_type": "stream",
     "text": [
      "100%|███████████████████████████████████████████████████████████████████████████████| 902/902 [00:01<00:00, 598.73it/s]\n"
     ]
    },
    {
     "name": "stdout",
     "output_type": "stream",
     "text": [
      "OkOk\n",
      "2.1499135494232178\n",
      "2022-12-31 21:49:47\n"
     ]
    },
    {
     "name": "stderr",
     "output_type": "stream",
     "text": [
      "100%|███████████████████████████████████████████████████████████████████████████████| 902/902 [00:01<00:00, 583.35it/s]\n"
     ]
    },
    {
     "name": "stdout",
     "output_type": "stream",
     "text": [
      "OkOk\n",
      "2.155545711517334\n",
      "2022-12-31 22:04:47\n"
     ]
    },
    {
     "name": "stderr",
     "output_type": "stream",
     "text": [
      "100%|███████████████████████████████████████████████████████████████████████████████| 902/902 [00:01<00:00, 532.25it/s]\n"
     ]
    },
    {
     "name": "stdout",
     "output_type": "stream",
     "text": [
      "OkOk\n",
      "2.3664095401763916\n",
      "2022-12-31 22:19:47\n"
     ]
    },
    {
     "name": "stderr",
     "output_type": "stream",
     "text": [
      "100%|███████████████████████████████████████████████████████████████████████████████| 902/902 [00:01<00:00, 529.74it/s]\n"
     ]
    },
    {
     "name": "stdout",
     "output_type": "stream",
     "text": [
      "OkOk\n",
      "2.443882942199707\n",
      "2022-12-31 22:34:47\n"
     ]
    },
    {
     "name": "stderr",
     "output_type": "stream",
     "text": [
      "100%|███████████████████████████████████████████████████████████████████████████████| 902/902 [00:01<00:00, 506.51it/s]\n"
     ]
    },
    {
     "name": "stdout",
     "output_type": "stream",
     "text": [
      "OkOk\n",
      "2.4525742530822754\n",
      "2022-12-31 22:49:47\n"
     ]
    },
    {
     "name": "stderr",
     "output_type": "stream",
     "text": [
      "100%|███████████████████████████████████████████████████████████████████████████████| 902/902 [00:01<00:00, 489.34it/s]\n"
     ]
    },
    {
     "name": "stdout",
     "output_type": "stream",
     "text": [
      "OkOk\n",
      "2.5374016761779785\n",
      "2022-12-31 23:04:47\n"
     ]
    },
    {
     "name": "stderr",
     "output_type": "stream",
     "text": [
      "100%|███████████████████████████████████████████████████████████████████████████████| 902/902 [00:01<00:00, 524.93it/s]\n"
     ]
    },
    {
     "name": "stdout",
     "output_type": "stream",
     "text": [
      "OkOk\n",
      "23.445346355438232\n",
      "2022-12-31 23:19:47\n"
     ]
    },
    {
     "name": "stderr",
     "output_type": "stream",
     "text": [
      "100%|███████████████████████████████████████████████████████████████████████████████| 902/902 [00:01<00:00, 513.52it/s]\n"
     ]
    },
    {
     "name": "stdout",
     "output_type": "stream",
     "text": [
      "OkOk\n",
      "2.443831205368042\n",
      "2022-12-31 23:34:47\n"
     ]
    },
    {
     "name": "stderr",
     "output_type": "stream",
     "text": [
      "100%|███████████████████████████████████████████████████████████████████████████████| 902/902 [00:01<00:00, 504.29it/s]\n"
     ]
    },
    {
     "name": "stdout",
     "output_type": "stream",
     "text": [
      "OkOk\n",
      "2.476057767868042\n",
      "2022-12-31 23:49:47\n"
     ]
    },
    {
     "name": "stderr",
     "output_type": "stream",
     "text": [
      "100%|███████████████████████████████████████████████████████████████████████████████| 902/902 [00:01<00:00, 497.77it/s]\n"
     ]
    },
    {
     "name": "stdout",
     "output_type": "stream",
     "text": [
      "OkOk\n",
      "2.490788221359253\n",
      "2023-01-01 00:04:47\n"
     ]
    },
    {
     "name": "stderr",
     "output_type": "stream",
     "text": [
      "100%|███████████████████████████████████████████████████████████████████████████████| 902/902 [00:02<00:00, 445.57it/s]\n"
     ]
    },
    {
     "name": "stdout",
     "output_type": "stream",
     "text": [
      "OkOk\n",
      "2.8443031311035156\n",
      "2023-01-01 00:19:47\n"
     ]
    },
    {
     "name": "stderr",
     "output_type": "stream",
     "text": [
      "100%|███████████████████████████████████████████████████████████████████████████████| 902/902 [00:02<00:00, 440.78it/s]\n"
     ]
    },
    {
     "name": "stdout",
     "output_type": "stream",
     "text": [
      "OkOk\n",
      "2.7875099182128906\n",
      "2023-01-01 00:34:47\n"
     ]
    },
    {
     "name": "stderr",
     "output_type": "stream",
     "text": [
      "100%|███████████████████████████████████████████████████████████████████████████████| 902/902 [00:02<00:00, 434.14it/s]\n"
     ]
    },
    {
     "name": "stdout",
     "output_type": "stream",
     "text": [
      "OkOk\n",
      "2.9524025917053223\n",
      "2023-01-01 00:49:47\n"
     ]
    },
    {
     "name": "stderr",
     "output_type": "stream",
     "text": [
      "100%|███████████████████████████████████████████████████████████████████████████████| 902/902 [00:02<00:00, 415.41it/s]\n"
     ]
    },
    {
     "name": "stdout",
     "output_type": "stream",
     "text": [
      "OkOk\n",
      "2.9211843013763428\n",
      "2023-01-01 01:04:47\n"
     ]
    },
    {
     "name": "stderr",
     "output_type": "stream",
     "text": [
      "100%|███████████████████████████████████████████████████████████████████████████████| 902/902 [00:02<00:00, 445.86it/s]\n"
     ]
    },
    {
     "name": "stdout",
     "output_type": "stream",
     "text": [
      "OkOk\n",
      "2.726081609725952\n",
      "2023-01-01 01:19:47\n"
     ]
    },
    {
     "name": "stderr",
     "output_type": "stream",
     "text": [
      "100%|███████████████████████████████████████████████████████████████████████████████| 902/902 [00:02<00:00, 440.77it/s]\n"
     ]
    },
    {
     "name": "stdout",
     "output_type": "stream",
     "text": [
      "OkOk\n",
      "2.76503586769104\n",
      "2023-01-01 01:34:47\n"
     ]
    },
    {
     "name": "stderr",
     "output_type": "stream",
     "text": [
      "100%|███████████████████████████████████████████████████████████████████████████████| 902/902 [00:02<00:00, 431.08it/s]\n"
     ]
    },
    {
     "name": "stdout",
     "output_type": "stream",
     "text": [
      "OkOk\n",
      "2.842151641845703\n",
      "2023-01-01 01:49:47\n"
     ]
    },
    {
     "name": "stderr",
     "output_type": "stream",
     "text": [
      "100%|███████████████████████████████████████████████████████████████████████████████| 902/902 [00:02<00:00, 421.47it/s]\n"
     ]
    },
    {
     "name": "stdout",
     "output_type": "stream",
     "text": [
      "OkOk\n",
      "2.8587558269500732\n",
      "2023-01-01 02:04:47\n"
     ]
    },
    {
     "name": "stderr",
     "output_type": "stream",
     "text": [
      "100%|███████████████████████████████████████████████████████████████████████████████| 902/902 [00:02<00:00, 392.80it/s]\n"
     ]
    },
    {
     "name": "stdout",
     "output_type": "stream",
     "text": [
      "OkOk\n",
      "3.0774247646331787\n",
      "2023-01-01 02:19:47\n"
     ]
    },
    {
     "name": "stderr",
     "output_type": "stream",
     "text": [
      "100%|███████████████████████████████████████████████████████████████████████████████| 902/902 [00:02<00:00, 373.77it/s]\n"
     ]
    },
    {
     "name": "stdout",
     "output_type": "stream",
     "text": [
      "OkOk\n",
      "3.1981544494628906\n",
      "2023-01-01 02:34:47\n"
     ]
    },
    {
     "name": "stderr",
     "output_type": "stream",
     "text": [
      "100%|███████████████████████████████████████████████████████████████████████████████| 902/902 [00:02<00:00, 348.50it/s]\n"
     ]
    },
    {
     "name": "stdout",
     "output_type": "stream",
     "text": [
      "OkOk\n",
      "3.384871244430542\n",
      "2023-01-01 02:49:47\n"
     ]
    },
    {
     "name": "stderr",
     "output_type": "stream",
     "text": [
      "100%|███████████████████████████████████████████████████████████████████████████████| 902/902 [00:02<00:00, 307.97it/s]\n"
     ]
    },
    {
     "name": "stdout",
     "output_type": "stream",
     "text": [
      "OkOk\n",
      "3.788059949874878\n",
      "2023-01-01 03:04:47\n"
     ]
    },
    {
     "name": "stderr",
     "output_type": "stream",
     "text": [
      "100%|███████████████████████████████████████████████████████████████████████████████| 902/902 [00:02<00:00, 328.08it/s]\n"
     ]
    },
    {
     "name": "stdout",
     "output_type": "stream",
     "text": [
      "OkOk\n",
      "3.514864444732666\n",
      "2023-01-01 03:19:47\n"
     ]
    },
    {
     "name": "stderr",
     "output_type": "stream",
     "text": [
      "100%|███████████████████████████████████████████████████████████████████████████████| 902/902 [00:02<00:00, 320.79it/s]\n"
     ]
    },
    {
     "name": "stdout",
     "output_type": "stream",
     "text": [
      "OkOk\n",
      "3.6241345405578613\n",
      "2023-01-01 03:34:47\n"
     ]
    },
    {
     "name": "stderr",
     "output_type": "stream",
     "text": [
      "100%|███████████████████████████████████████████████████████████████████████████████| 902/902 [00:02<00:00, 316.48it/s]\n"
     ]
    },
    {
     "name": "stdout",
     "output_type": "stream",
     "text": [
      "OkOk\n",
      "3.6468255519866943\n",
      "2023-01-01 03:49:47\n"
     ]
    },
    {
     "name": "stderr",
     "output_type": "stream",
     "text": [
      "100%|███████████████████████████████████████████████████████████████████████████████| 902/902 [00:02<00:00, 308.04it/s]\n"
     ]
    },
    {
     "name": "stdout",
     "output_type": "stream",
     "text": [
      "OkOk\n",
      "3.7250020503997803\n",
      "2023-01-01 04:04:47\n"
     ]
    },
    {
     "name": "stderr",
     "output_type": "stream",
     "text": [
      "100%|███████████████████████████████████████████████████████████████████████████████| 902/902 [00:03<00:00, 273.80it/s]\n"
     ]
    },
    {
     "name": "stdout",
     "output_type": "stream",
     "text": [
      "OkOk\n",
      "4.224216938018799\n",
      "2023-01-01 04:19:47\n"
     ]
    },
    {
     "name": "stderr",
     "output_type": "stream",
     "text": [
      "100%|███████████████████████████████████████████████████████████████████████████████| 902/902 [00:03<00:00, 272.55it/s]\n"
     ]
    },
    {
     "name": "stdout",
     "output_type": "stream",
     "text": [
      "OkOk\n",
      "4.180327653884888\n",
      "2023-01-01 04:34:47\n"
     ]
    },
    {
     "name": "stderr",
     "output_type": "stream",
     "text": [
      "100%|███████████████████████████████████████████████████████████████████████████████| 902/902 [00:03<00:00, 271.73it/s]\n"
     ]
    },
    {
     "name": "stdout",
     "output_type": "stream",
     "text": [
      "OkOk\n",
      "4.188747406005859\n",
      "2023-01-01 04:49:47\n"
     ]
    },
    {
     "name": "stderr",
     "output_type": "stream",
     "text": [
      "100%|███████████████████████████████████████████████████████████████████████████████| 902/902 [00:03<00:00, 264.34it/s]\n"
     ]
    },
    {
     "name": "stdout",
     "output_type": "stream",
     "text": [
      "OkOk\n",
      "4.326849460601807\n",
      "2023-01-01 05:04:47\n"
     ]
    },
    {
     "name": "stderr",
     "output_type": "stream",
     "text": [
      "100%|███████████████████████████████████████████████████████████████████████████████| 902/902 [00:03<00:00, 273.66it/s]\n"
     ]
    },
    {
     "name": "stdout",
     "output_type": "stream",
     "text": [
      "OkOk\n",
      "4.101308822631836\n",
      "2023-01-01 05:19:47\n"
     ]
    },
    {
     "name": "stderr",
     "output_type": "stream",
     "text": [
      "100%|███████████████████████████████████████████████████████████████████████████████| 902/902 [00:03<00:00, 260.74it/s]\n"
     ]
    },
    {
     "name": "stdout",
     "output_type": "stream",
     "text": [
      "OkOk\n",
      "4.305609464645386\n",
      "2023-01-01 05:34:47\n"
     ]
    },
    {
     "name": "stderr",
     "output_type": "stream",
     "text": [
      "100%|███████████████████████████████████████████████████████████████████████████████| 902/902 [00:03<00:00, 262.46it/s]\n"
     ]
    },
    {
     "name": "stdout",
     "output_type": "stream",
     "text": [
      "OkOk\n",
      "4.264674663543701\n",
      "2023-01-01 05:49:47\n"
     ]
    },
    {
     "name": "stderr",
     "output_type": "stream",
     "text": [
      "100%|███████████████████████████████████████████████████████████████████████████████| 902/902 [00:03<00:00, 256.13it/s]\n"
     ]
    },
    {
     "name": "stdout",
     "output_type": "stream",
     "text": [
      "OkOk\n",
      "4.357544660568237\n",
      "2023-01-01 06:04:47\n"
     ]
    },
    {
     "name": "stderr",
     "output_type": "stream",
     "text": [
      "100%|███████████████████████████████████████████████████████████████████████████████| 902/902 [00:03<00:00, 236.14it/s]\n"
     ]
    },
    {
     "name": "stdout",
     "output_type": "stream",
     "text": [
      "OkOk\n",
      "4.694581508636475\n",
      "2023-01-01 06:19:47\n"
     ]
    },
    {
     "name": "stderr",
     "output_type": "stream",
     "text": [
      "100%|███████████████████████████████████████████████████████████████████████████████| 902/902 [00:04<00:00, 220.48it/s]\n"
     ]
    },
    {
     "name": "stdout",
     "output_type": "stream",
     "text": [
      "OkOk\n",
      "5.010485887527466\n",
      "2023-01-01 06:34:47\n"
     ]
    },
    {
     "name": "stderr",
     "output_type": "stream",
     "text": [
      "100%|███████████████████████████████████████████████████████████████████████████████| 902/902 [00:03<00:00, 229.91it/s]\n"
     ]
    },
    {
     "name": "stdout",
     "output_type": "stream",
     "text": [
      "OkOk\n",
      "4.836179494857788\n",
      "2023-01-01 06:49:47\n"
     ]
    },
    {
     "name": "stderr",
     "output_type": "stream",
     "text": [
      "100%|███████████████████████████████████████████████████████████████████████████████| 902/902 [00:04<00:00, 224.16it/s]\n"
     ]
    },
    {
     "name": "stdout",
     "output_type": "stream",
     "text": [
      "OkOk\n",
      "4.945506572723389\n",
      "2023-01-01 07:04:47\n"
     ]
    },
    {
     "name": "stderr",
     "output_type": "stream",
     "text": [
      "100%|███████████████████████████████████████████████████████████████████████████████| 901/901 [00:03<00:00, 233.09it/s]\n"
     ]
    },
    {
     "name": "stdout",
     "output_type": "stream",
     "text": [
      "OkOk\n",
      "4.756016969680786\n",
      "2023-01-01 07:19:46\n"
     ]
    },
    {
     "name": "stderr",
     "output_type": "stream",
     "text": [
      "100%|███████████████████████████████████████████████████████████████████████████████| 903/903 [00:04<00:00, 200.70it/s]\n"
     ]
    },
    {
     "name": "stdout",
     "output_type": "stream",
     "text": [
      "OkOk\n",
      "5.508551597595215\n",
      "2023-01-01 07:34:47\n"
     ]
    },
    {
     "name": "stderr",
     "output_type": "stream",
     "text": [
      "100%|███████████████████████████████████████████████████████████████████████████████| 901/901 [00:04<00:00, 210.55it/s]\n"
     ]
    },
    {
     "name": "stdout",
     "output_type": "stream",
     "text": [
      "OkOk\n",
      "5.177221059799194\n",
      "2023-01-01 07:49:46\n"
     ]
    },
    {
     "name": "stderr",
     "output_type": "stream",
     "text": [
      "100%|███████████████████████████████████████████████████████████████████████████████| 903/903 [00:04<00:00, 202.87it/s]\n"
     ]
    },
    {
     "name": "stdout",
     "output_type": "stream",
     "text": [
      "OkOk\n",
      "5.379750490188599\n",
      "2023-01-01 08:04:47\n"
     ]
    },
    {
     "name": "stderr",
     "output_type": "stream",
     "text": [
      "100%|███████████████████████████████████████████████████████████████████████████████| 902/902 [00:04<00:00, 182.98it/s]\n"
     ]
    },
    {
     "name": "stdout",
     "output_type": "stream",
     "text": [
      "OkOk\n",
      "5.936251401901245\n",
      "2023-01-01 08:19:47\n"
     ]
    },
    {
     "name": "stderr",
     "output_type": "stream",
     "text": [
      "100%|███████████████████████████████████████████████████████████████████████████████| 902/902 [00:05<00:00, 172.18it/s]\n"
     ]
    },
    {
     "name": "stdout",
     "output_type": "stream",
     "text": [
      "OkOk\n",
      "6.254134654998779\n",
      "2023-01-01 08:34:47\n"
     ]
    },
    {
     "name": "stderr",
     "output_type": "stream",
     "text": [
      "100%|███████████████████████████████████████████████████████████████████████████████| 902/902 [00:05<00:00, 172.80it/s]\n"
     ]
    },
    {
     "name": "stdout",
     "output_type": "stream",
     "text": [
      "OkOk\n",
      "6.172915458679199\n",
      "2023-01-01 08:49:47\n"
     ]
    },
    {
     "name": "stderr",
     "output_type": "stream",
     "text": [
      "100%|███████████████████████████████████████████████████████████████████████████████| 902/902 [00:05<00:00, 172.07it/s]\n"
     ]
    },
    {
     "name": "stdout",
     "output_type": "stream",
     "text": [
      "OkOk\n",
      "6.319692134857178\n",
      "2023-01-01 09:04:47\n"
     ]
    },
    {
     "name": "stderr",
     "output_type": "stream",
     "text": [
      "100%|███████████████████████████████████████████████████████████████████████████████| 902/902 [00:04<00:00, 185.09it/s]\n"
     ]
    },
    {
     "name": "stdout",
     "output_type": "stream",
     "text": [
      "OkOk\n",
      "5.8262903690338135\n",
      "2023-01-01 09:19:47\n"
     ]
    },
    {
     "name": "stderr",
     "output_type": "stream",
     "text": [
      "100%|███████████████████████████████████████████████████████████████████████████████| 902/902 [00:03<00:00, 285.77it/s]\n"
     ]
    },
    {
     "name": "stdout",
     "output_type": "stream",
     "text": [
      "OkOk\n",
      "4.126471519470215\n",
      "2023-01-01 09:34:47\n"
     ]
    },
    {
     "name": "stderr",
     "output_type": "stream",
     "text": [
      "100%|███████████████████████████████████████████████████████████████████████████████| 901/901 [00:01<00:00, 725.99it/s]\n"
     ]
    },
    {
     "name": "stdout",
     "output_type": "stream",
     "text": [
      "OkOk\n",
      "1.9022393226623535\n",
      "2023-01-01 09:49:46\n"
     ]
    },
    {
     "name": "stderr",
     "output_type": "stream",
     "text": [
      "100%|███████████████████████████████████████████████████████████████████████████████| 902/902 [00:01<00:00, 712.86it/s]\n"
     ]
    },
    {
     "name": "stdout",
     "output_type": "stream",
     "text": [
      "OkOk\n",
      "1.9683506488800049\n",
      "2023-01-01 10:04:46\n"
     ]
    },
    {
     "name": "stderr",
     "output_type": "stream",
     "text": [
      "100%|███████████████████████████████████████████████████████████████████████████████| 902/902 [00:01<00:00, 607.81it/s]\n"
     ]
    },
    {
     "name": "stdout",
     "output_type": "stream",
     "text": [
      "OkOk\n",
      "2.1945605278015137\n",
      "2023-01-01 10:19:46\n"
     ]
    },
    {
     "name": "stderr",
     "output_type": "stream",
     "text": [
      "100%|███████████████████████████████████████████████████████████████████████████████| 902/902 [00:01<00:00, 607.80it/s]\n"
     ]
    },
    {
     "name": "stdout",
     "output_type": "stream",
     "text": [
      "OkOk\n",
      "2.1946372985839844\n",
      "2023-01-01 10:34:46\n"
     ]
    },
    {
     "name": "stderr",
     "output_type": "stream",
     "text": [
      "100%|███████████████████████████████████████████████████████████████████████████████| 902/902 [00:01<00:00, 624.67it/s]\n"
     ]
    },
    {
     "name": "stdout",
     "output_type": "stream",
     "text": [
      "OkOk\n",
      "2.1538031101226807\n",
      "2023-01-01 10:49:46\n"
     ]
    },
    {
     "name": "stderr",
     "output_type": "stream",
     "text": [
      "100%|███████████████████████████████████████████████████████████████████████████████| 902/902 [00:01<00:00, 592.55it/s]\n"
     ]
    },
    {
     "name": "stdout",
     "output_type": "stream",
     "text": [
      "OkOk\n",
      "2.2320456504821777\n",
      "2023-01-01 11:04:46\n"
     ]
    },
    {
     "name": "stderr",
     "output_type": "stream",
     "text": [
      "100%|███████████████████████████████████████████████████████████████████████████████| 902/902 [00:01<00:00, 627.62it/s]\n"
     ]
    },
    {
     "name": "stdout",
     "output_type": "stream",
     "text": [
      "OkOk\n",
      "2.1472649574279785\n",
      "2023-01-01 11:19:46\n"
     ]
    },
    {
     "name": "stderr",
     "output_type": "stream",
     "text": [
      "100%|███████████████████████████████████████████████████████████████████████████████| 902/902 [00:01<00:00, 607.82it/s]\n"
     ]
    },
    {
     "name": "stdout",
     "output_type": "stream",
     "text": [
      "OkOk\n",
      "2.193934202194214\n",
      "2023-01-01 11:34:46\n"
     ]
    },
    {
     "name": "stderr",
     "output_type": "stream",
     "text": [
      "100%|███████████████████████████████████████████████████████████████████████████████| 902/902 [00:01<00:00, 583.54it/s]\n"
     ]
    },
    {
     "name": "stdout",
     "output_type": "stream",
     "text": [
      "OkOk\n",
      "2.2643849849700928\n",
      "2023-01-01 11:49:46\n"
     ]
    },
    {
     "name": "stderr",
     "output_type": "stream",
     "text": [
      "100%|███████████████████████████████████████████████████████████████████████████████| 902/902 [00:01<00:00, 583.85it/s]\n"
     ]
    },
    {
     "name": "stdout",
     "output_type": "stream",
     "text": [
      "OkOk\n",
      "2.2635154724121094\n",
      "2023-01-01 12:04:46\n"
     ]
    },
    {
     "name": "stderr",
     "output_type": "stream",
     "text": [
      "100%|███████████████████████████████████████████████████████████████████████████████| 902/902 [00:01<00:00, 517.85it/s]\n"
     ]
    },
    {
     "name": "stdout",
     "output_type": "stream",
     "text": [
      "OkOk\n",
      "2.5384681224823\n",
      "2023-01-01 12:19:46\n"
     ]
    },
    {
     "name": "stderr",
     "output_type": "stream",
     "text": [
      "100%|███████████████████████████████████████████████████████████████████████████████| 902/902 [00:01<00:00, 515.55it/s]\n"
     ]
    },
    {
     "name": "stdout",
     "output_type": "stream",
     "text": [
      "OkOk\n",
      "2.616377115249634\n",
      "2023-01-01 12:34:46\n"
     ]
    },
    {
     "name": "stderr",
     "output_type": "stream",
     "text": [
      "100%|███████████████████████████████████████████████████████████████████████████████| 902/902 [00:01<00:00, 517.83it/s]\n"
     ]
    },
    {
     "name": "stdout",
     "output_type": "stream",
     "text": [
      "OkOk\n",
      "2.5698139667510986\n",
      "2023-01-01 12:49:46\n"
     ]
    },
    {
     "name": "stderr",
     "output_type": "stream",
     "text": [
      "100%|███████████████████████████████████████████████████████████████████████████████| 902/902 [00:01<00:00, 500.18it/s]\n"
     ]
    },
    {
     "name": "stdout",
     "output_type": "stream",
     "text": [
      "OkOk\n",
      "2.646911859512329\n",
      "2023-01-01 13:04:46\n"
     ]
    },
    {
     "name": "stderr",
     "output_type": "stream",
     "text": [
      "100%|███████████████████████████████████████████████████████████████████████████████| 902/902 [00:01<00:00, 515.55it/s]\n"
     ]
    },
    {
     "name": "stdout",
     "output_type": "stream",
     "text": [
      "OkOk\n",
      "2.546236991882324\n",
      "2023-01-01 13:19:46\n"
     ]
    },
    {
     "name": "stderr",
     "output_type": "stream",
     "text": [
      "100%|███████████████████████████████████████████████████████████████████████████████| 902/902 [00:01<00:00, 504.19it/s]\n"
     ]
    },
    {
     "name": "stdout",
     "output_type": "stream",
     "text": [
      "OkOk\n",
      "2.546475410461426\n",
      "2023-01-01 13:34:46\n"
     ]
    },
    {
     "name": "stderr",
     "output_type": "stream",
     "text": [
      "100%|███████████████████████████████████████████████████████████████████████████████| 902/902 [00:01<00:00, 502.10it/s]\n"
     ]
    },
    {
     "name": "stdout",
     "output_type": "stream",
     "text": [
      "OkOk\n",
      "2.569685220718384\n",
      "2023-01-01 13:49:46\n"
     ]
    },
    {
     "name": "stderr",
     "output_type": "stream",
     "text": [
      "100%|███████████████████████████████████████████████████████████████████████████████| 902/902 [00:01<00:00, 493.52it/s]\n"
     ]
    },
    {
     "name": "stdout",
     "output_type": "stream",
     "text": [
      "OkOk\n",
      "2.6087229251861572\n",
      "2023-01-01 14:04:46\n"
     ]
    },
    {
     "name": "stderr",
     "output_type": "stream",
     "text": [
      "100%|███████████████████████████████████████████████████████████████████████████████| 902/902 [00:02<00:00, 429.34it/s]\n"
     ]
    },
    {
     "name": "stdout",
     "output_type": "stream",
     "text": [
      "OkOk\n",
      "2.944417715072632\n",
      "2023-01-01 14:19:46\n"
     ]
    },
    {
     "name": "stderr",
     "output_type": "stream",
     "text": [
      "100%|███████████████████████████████████████████████████████████████████████████████| 902/902 [00:02<00:00, 412.44it/s]\n"
     ]
    },
    {
     "name": "stdout",
     "output_type": "stream",
     "text": [
      "OkOk\n",
      "3.0461337566375732\n",
      "2023-01-01 14:34:46\n"
     ]
    },
    {
     "name": "stderr",
     "output_type": "stream",
     "text": [
      "100%|███████████████████████████████████████████████████████████████████████████████| 902/902 [00:02<00:00, 408.08it/s]\n"
     ]
    },
    {
     "name": "stdout",
     "output_type": "stream",
     "text": [
      "OkOk\n",
      "3.0460071563720703\n",
      "2023-01-01 14:49:46\n"
     ]
    },
    {
     "name": "stderr",
     "output_type": "stream",
     "text": [
      "100%|███████████████████████████████████████████████████████████████████████████████| 902/902 [00:02<00:00, 432.56it/s]\n"
     ]
    },
    {
     "name": "stdout",
     "output_type": "stream",
     "text": [
      "OkOk\n",
      "2.9913597106933594\n",
      "2023-01-01 15:04:46\n"
     ]
    },
    {
     "name": "stderr",
     "output_type": "stream",
     "text": [
      "100%|███████████████████████████████████████████████████████████████████████████████| 880/880 [00:01<00:00, 443.57it/s]\n"
     ]
    },
    {
     "name": "stdout",
     "output_type": "stream",
     "text": [
      "OkOk\n",
      "2.811798572540283\n",
      "2023-01-01 15:19:46\n"
     ]
    },
    {
     "name": "stderr",
     "output_type": "stream",
     "text": [
      "100%|███████████████████████████████████████████████████████████████████████████████| 889/889 [00:02<00:00, 434.48it/s]\n"
     ]
    },
    {
     "name": "stdout",
     "output_type": "stream",
     "text": [
      "OkOk\n",
      "2.8685364723205566\n",
      "2023-01-01 15:34:46\n"
     ]
    },
    {
     "name": "stderr",
     "output_type": "stream",
     "text": [
      "100%|███████████████████████████████████████████████████████████████████████████████| 888/888 [00:02<00:00, 425.97it/s]\n"
     ]
    },
    {
     "name": "stdout",
     "output_type": "stream",
     "text": [
      "OkOk\n",
      "2.9281747341156006\n",
      "2023-01-01 15:49:46\n"
     ]
    },
    {
     "name": "stderr",
     "output_type": "stream",
     "text": [
      "100%|███████████████████████████████████████████████████████████████████████████████| 902/902 [00:02<00:00, 421.47it/s]\n"
     ]
    },
    {
     "name": "stdout",
     "output_type": "stream",
     "text": [
      "OkOk\n",
      "2.9524903297424316\n",
      "2023-01-01 16:04:46\n"
     ]
    },
    {
     "name": "stderr",
     "output_type": "stream",
     "text": [
      "100%|███████████████████████████████████████████████████████████████████████████████| 902/902 [00:02<00:00, 390.12it/s]\n"
     ]
    },
    {
     "name": "stdout",
     "output_type": "stream",
     "text": [
      "OkOk\n",
      "3.3118607997894287\n",
      "2023-01-01 16:19:46\n"
     ]
    },
    {
     "name": "stderr",
     "output_type": "stream",
     "text": [
      "100%|███████████████████████████████████████████████████████████████████████████████| 902/902 [00:02<00:00, 360.88it/s]\n"
     ]
    },
    {
     "name": "stdout",
     "output_type": "stream",
     "text": [
      "OkOk\n",
      "3.4366626739501953\n",
      "2023-01-01 16:34:46\n"
     ]
    },
    {
     "name": "stderr",
     "output_type": "stream",
     "text": [
      "100%|███████████████████████████████████████████████████████████████████████████████| 902/902 [00:02<00:00, 348.91it/s]\n"
     ]
    },
    {
     "name": "stdout",
     "output_type": "stream",
     "text": [
      "OkOk\n",
      "3.452355146408081\n",
      "2023-01-01 16:49:46\n"
     ]
    },
    {
     "name": "stderr",
     "output_type": "stream",
     "text": [
      "100%|███████████████████████████████████████████████████████████████████████████████| 902/902 [00:02<00:00, 314.74it/s]\n"
     ]
    },
    {
     "name": "stdout",
     "output_type": "stream",
     "text": [
      "OkOk\n",
      "3.750534772872925\n",
      "2023-01-01 17:04:46\n"
     ]
    },
    {
     "name": "stderr",
     "output_type": "stream",
     "text": [
      "100%|███████████████████████████████████████████████████████████████████████████████| 902/902 [00:02<00:00, 329.96it/s]\n"
     ]
    },
    {
     "name": "stdout",
     "output_type": "stream",
     "text": [
      "OkOk\n",
      "3.608586072921753\n",
      "2023-01-01 17:19:46\n"
     ]
    },
    {
     "name": "stderr",
     "output_type": "stream",
     "text": [
      "100%|███████████████████████████████████████████████████████████████████████████████| 902/902 [00:02<00:00, 312.03it/s]\n"
     ]
    },
    {
     "name": "stdout",
     "output_type": "stream",
     "text": [
      "OkOk\n",
      "3.783959150314331\n",
      "2023-01-01 17:34:46\n"
     ]
    },
    {
     "name": "stderr",
     "output_type": "stream",
     "text": [
      "100%|███████████████████████████████████████████████████████████████████████████████| 902/902 [00:02<00:00, 311.33it/s]\n"
     ]
    },
    {
     "name": "stdout",
     "output_type": "stream",
     "text": [
      "OkOk\n",
      "3.763334274291992\n",
      "2023-01-01 17:49:46\n"
     ]
    },
    {
     "name": "stderr",
     "output_type": "stream",
     "text": [
      "100%|███████████████████████████████████████████████████████████████████████████████| 902/902 [00:02<00:00, 307.14it/s]\n"
     ]
    },
    {
     "name": "stdout",
     "output_type": "stream",
     "text": [
      "OkOk\n",
      "3.8351330757141113\n",
      "2023-01-01 18:04:46\n"
     ]
    },
    {
     "name": "stderr",
     "output_type": "stream",
     "text": [
      "100%|███████████████████████████████████████████████████████████████████████████████| 902/902 [00:03<00:00, 283.05it/s]\n"
     ]
    },
    {
     "name": "stdout",
     "output_type": "stream",
     "text": [
      "OkOk\n",
      "4.123619794845581\n",
      "2023-01-01 18:19:46\n"
     ]
    },
    {
     "name": "stderr",
     "output_type": "stream",
     "text": [
      "100%|███████████████████████████████████████████████████████████████████████████████| 902/902 [00:03<00:00, 254.83it/s]\n"
     ]
    },
    {
     "name": "stdout",
     "output_type": "stream",
     "text": [
      "OkOk\n",
      "4.508086919784546\n",
      "2023-01-01 18:34:46\n"
     ]
    },
    {
     "name": "stderr",
     "output_type": "stream",
     "text": [
      "100%|███████████████████████████████████████████████████████████████████████████████| 902/902 [00:03<00:00, 266.68it/s]\n"
     ]
    },
    {
     "name": "stdout",
     "output_type": "stream",
     "text": [
      "OkOk\n",
      "4.335192680358887\n",
      "2023-01-01 18:49:46\n"
     ]
    },
    {
     "name": "stderr",
     "output_type": "stream",
     "text": [
      "100%|███████████████████████████████████████████████████████████████████████████████| 902/902 [00:03<00:00, 264.20it/s]\n"
     ]
    },
    {
     "name": "stdout",
     "output_type": "stream",
     "text": [
      "OkOk\n",
      "4.429512023925781\n",
      "2023-01-01 19:04:46\n"
     ]
    },
    {
     "name": "stderr",
     "output_type": "stream",
     "text": [
      "100%|███████████████████████████████████████████████████████████████████████████████| 902/902 [00:03<00:00, 271.68it/s]\n"
     ]
    },
    {
     "name": "stdout",
     "output_type": "stream",
     "text": [
      "OkOk\n",
      "4.226153135299683\n",
      "2023-01-01 19:19:46\n"
     ]
    },
    {
     "name": "stderr",
     "output_type": "stream",
     "text": [
      "100%|███████████████████████████████████████████████████████████████████████████████| 902/902 [00:03<00:00, 256.71it/s]\n"
     ]
    },
    {
     "name": "stdout",
     "output_type": "stream",
     "text": [
      "OkOk\n",
      "4.435460329055786\n",
      "2023-01-01 19:34:46\n"
     ]
    },
    {
     "name": "stderr",
     "output_type": "stream",
     "text": [
      "100%|███████████████████████████████████████████████████████████████████████████████| 901/901 [00:03<00:00, 261.11it/s]\n"
     ]
    },
    {
     "name": "stdout",
     "output_type": "stream",
     "text": [
      "OkOk\n",
      "4.395203351974487\n",
      "2023-01-01 19:49:46\n"
     ]
    },
    {
     "name": "stderr",
     "output_type": "stream",
     "text": [
      "100%|███████████████████████████████████████████████████████████████████████████████| 903/903 [00:03<00:00, 256.33it/s]\n"
     ]
    },
    {
     "name": "stdout",
     "output_type": "stream",
     "text": [
      "OkOk\n",
      "4.467761993408203\n",
      "2023-01-01 20:04:46\n"
     ]
    },
    {
     "name": "stderr",
     "output_type": "stream",
     "text": [
      "100%|███████████████████████████████████████████████████████████████████████████████| 902/902 [00:03<00:00, 229.14it/s]\n"
     ]
    },
    {
     "name": "stdout",
     "output_type": "stream",
     "text": [
      "OkOk\n",
      "4.970735311508179\n",
      "2023-01-01 20:19:46\n"
     ]
    },
    {
     "name": "stderr",
     "output_type": "stream",
     "text": [
      "100%|███████████████████████████████████████████████████████████████████████████████| 902/902 [00:04<00:00, 215.95it/s]\n"
     ]
    },
    {
     "name": "stdout",
     "output_type": "stream",
     "text": [
      "OkOk\n",
      "5.317914962768555\n",
      "2023-01-01 20:34:46\n"
     ]
    },
    {
     "name": "stderr",
     "output_type": "stream",
     "text": [
      "100%|███████████████████████████████████████████████████████████████████████████████| 901/901 [00:04<00:00, 218.07it/s]\n"
     ]
    },
    {
     "name": "stdout",
     "output_type": "stream",
     "text": [
      "OkOk\n",
      "5.1626739501953125\n",
      "2023-01-01 20:49:45\n"
     ]
    },
    {
     "name": "stderr",
     "output_type": "stream",
     "text": [
      "100%|███████████████████████████████████████████████████████████████████████████████| 902/902 [00:04<00:00, 221.62it/s]\n"
     ]
    },
    {
     "name": "stdout",
     "output_type": "stream",
     "text": [
      "OkOk\n",
      "5.092376947402954\n",
      "2023-01-01 21:04:45\n"
     ]
    },
    {
     "name": "stderr",
     "output_type": "stream",
     "text": [
      "100%|███████████████████████████████████████████████████████████████████████████████| 902/902 [00:03<00:00, 228.48it/s]\n"
     ]
    },
    {
     "name": "stdout",
     "output_type": "stream",
     "text": [
      "OkOk\n",
      "4.9051289558410645\n",
      "2023-01-01 21:19:45\n"
     ]
    },
    {
     "name": "stderr",
     "output_type": "stream",
     "text": [
      "100%|███████████████████████████████████████████████████████████████████████████████| 902/902 [00:04<00:00, 212.68it/s]\n"
     ]
    },
    {
     "name": "stdout",
     "output_type": "stream",
     "text": [
      "OkOk\n",
      "5.372409820556641\n",
      "2023-01-01 21:34:45\n"
     ]
    },
    {
     "name": "stderr",
     "output_type": "stream",
     "text": [
      "100%|███████████████████████████████████████████████████████████████████████████████| 903/903 [00:04<00:00, 205.71it/s]\n"
     ]
    },
    {
     "name": "stdout",
     "output_type": "stream",
     "text": [
      "OkOk\n",
      "5.380706071853638\n",
      "2023-01-01 21:49:46\n"
     ]
    },
    {
     "name": "stderr",
     "output_type": "stream",
     "text": [
      "100%|███████████████████████████████████████████████████████████████████████████████| 901/901 [00:04<00:00, 203.88it/s]\n"
     ]
    },
    {
     "name": "stdout",
     "output_type": "stream",
     "text": [
      "OkOk\n",
      "5.4113123416900635\n",
      "2023-01-01 22:04:45\n"
     ]
    },
    {
     "name": "stderr",
     "output_type": "stream",
     "text": [
      "100%|███████████████████████████████████████████████████████████████████████████████| 902/902 [00:05<00:00, 179.31it/s]\n"
     ]
    },
    {
     "name": "stdout",
     "output_type": "stream",
     "text": [
      "OkOk\n",
      "6.083897590637207\n",
      "2023-01-01 22:19:45\n"
     ]
    },
    {
     "name": "stderr",
     "output_type": "stream",
     "text": [
      "100%|███████████████████████████████████████████████████████████████████████████████| 902/902 [00:05<00:00, 172.37it/s]\n"
     ]
    },
    {
     "name": "stdout",
     "output_type": "stream",
     "text": [
      "OkOk\n",
      "6.318150758743286\n",
      "2023-01-01 22:34:45\n"
     ]
    },
    {
     "name": "stderr",
     "output_type": "stream",
     "text": [
      "100%|███████████████████████████████████████████████████████████████████████████████| 902/902 [00:05<00:00, 173.90it/s]\n"
     ]
    },
    {
     "name": "stdout",
     "output_type": "stream",
     "text": [
      "OkOk\n",
      "6.288105010986328\n",
      "2023-01-01 22:49:45\n"
     ]
    },
    {
     "name": "stderr",
     "output_type": "stream",
     "text": [
      "100%|███████████████████████████████████████████████████████████████████████████████| 902/902 [00:05<00:00, 179.32it/s]\n"
     ]
    },
    {
     "name": "stdout",
     "output_type": "stream",
     "text": [
      "OkOk\n",
      "6.233001470565796\n",
      "2023-01-01 23:04:45\n"
     ]
    },
    {
     "name": "stderr",
     "output_type": "stream",
     "text": [
      "100%|███████████████████████████████████████████████████████████████████████████████| 902/902 [00:04<00:00, 182.73it/s]\n"
     ]
    },
    {
     "name": "stdout",
     "output_type": "stream",
     "text": [
      "OkOk\n",
      "5.958420276641846\n",
      "2023-01-01 23:19:45\n"
     ]
    },
    {
     "name": "stderr",
     "output_type": "stream",
     "text": [
      "100%|███████████████████████████████████████████████████████████████████████████████| 902/902 [00:01<00:00, 749.89it/s]\n"
     ]
    },
    {
     "name": "stdout",
     "output_type": "stream",
     "text": [
      "OkOk\n",
      "2.0847578048706055\n",
      "2023-01-01 23:34:45\n"
     ]
    },
    {
     "name": "stderr",
     "output_type": "stream",
     "text": [
      "100%|███████████████████████████████████████████████████████████████████████████████| 902/902 [00:01<00:00, 721.75it/s]\n"
     ]
    },
    {
     "name": "stdout",
     "output_type": "stream",
     "text": [
      "OkOk\n",
      "1.8971478939056396\n",
      "2023-01-01 23:49:45\n"
     ]
    },
    {
     "name": "stderr",
     "output_type": "stream",
     "text": [
      "100%|███████████████████████████████████████████████████████████████████████████████| 902/902 [00:01<00:00, 704.21it/s]\n"
     ]
    },
    {
     "name": "stdout",
     "output_type": "stream",
     "text": [
      "OkOk\n",
      "1.8746240139007568\n",
      "2023-01-02 00:04:45\n"
     ]
    },
    {
     "name": "stderr",
     "output_type": "stream",
     "text": [
      "100%|███████████████████████████████████████████████████████████████████████████████| 902/902 [00:01<00:00, 624.63it/s]\n"
     ]
    },
    {
     "name": "stdout",
     "output_type": "stream",
     "text": [
      "OkOk\n",
      "2.084512710571289\n",
      "2023-01-02 00:19:45\n"
     ]
    },
    {
     "name": "stderr",
     "output_type": "stream",
     "text": [
      "100%|███████████████████████████████████████████████████████████████████████████████| 902/902 [00:01<00:00, 614.27it/s]\n"
     ]
    },
    {
     "name": "stdout",
     "output_type": "stream",
     "text": [
      "OkOk\n",
      "2.0932552814483643\n",
      "2023-01-02 00:34:45\n"
     ]
    },
    {
     "name": "stderr",
     "output_type": "stream",
     "text": [
      "100%|███████████████████████████████████████████████████████████████████████████████| 902/902 [00:01<00:00, 578.09it/s]\n"
     ]
    },
    {
     "name": "stdout",
     "output_type": "stream",
     "text": [
      "OkOk\n",
      "2.254467248916626\n",
      "2023-01-02 00:49:45\n"
     ]
    },
    {
     "name": "stderr",
     "output_type": "stream",
     "text": [
      "100%|███████████████████████████████████████████████████████████████████████████████| 902/902 [00:01<00:00, 586.60it/s]\n"
     ]
    },
    {
     "name": "stdout",
     "output_type": "stream",
     "text": [
      "OkOk\n",
      "2.232009172439575\n",
      "2023-01-02 01:04:45\n"
     ]
    },
    {
     "name": "stderr",
     "output_type": "stream",
     "text": [
      "100%|███████████████████████████████████████████████████████████████████████████████| 902/902 [00:01<00:00, 614.26it/s]\n"
     ]
    },
    {
     "name": "stdout",
     "output_type": "stream",
     "text": [
      "OkOk\n",
      "2.0933120250701904\n",
      "2023-01-02 01:19:45\n"
     ]
    },
    {
     "name": "stderr",
     "output_type": "stream",
     "text": [
      "100%|███████████████████████████████████████████████████████████████████████████████| 902/902 [00:01<00:00, 604.71it/s]\n"
     ]
    },
    {
     "name": "stdout",
     "output_type": "stream",
     "text": [
      "OkOk\n",
      "2.1165366172790527\n",
      "2023-01-02 01:34:45\n"
     ]
    },
    {
     "name": "stderr",
     "output_type": "stream",
     "text": [
      "100%|███████████████████████████████████████████████████████████████████████████████| 902/902 [00:01<00:00, 586.25it/s]\n"
     ]
    },
    {
     "name": "stdout",
     "output_type": "stream",
     "text": [
      "OkOk\n",
      "2.1947426795959473\n",
      "2023-01-02 01:49:45\n"
     ]
    },
    {
     "name": "stderr",
     "output_type": "stream",
     "text": [
      "100%|███████████████████████████████████████████████████████████████████████████████| 902/902 [00:01<00:00, 577.41it/s]\n"
     ]
    },
    {
     "name": "stdout",
     "output_type": "stream",
     "text": [
      "OkOk\n",
      "2.2026615142822266\n",
      "2023-01-02 02:04:45\n"
     ]
    },
    {
     "name": "stderr",
     "output_type": "stream",
     "text": [
      "100%|███████████████████████████████████████████████████████████████████████████████| 902/902 [00:01<00:00, 520.19it/s]\n"
     ]
    },
    {
     "name": "stdout",
     "output_type": "stream",
     "text": [
      "OkOk\n",
      "2.4681687355041504\n",
      "2023-01-02 02:19:45\n"
     ]
    },
    {
     "name": "stderr",
     "output_type": "stream",
     "text": [
      "100%|███████████████████████████████████████████████████████████████████████████████| 902/902 [00:01<00:00, 500.24it/s]\n"
     ]
    },
    {
     "name": "stdout",
     "output_type": "stream",
     "text": [
      "OkOk\n",
      "2.5171444416046143\n",
      "2023-01-02 02:34:45\n"
     ]
    },
    {
     "name": "stderr",
     "output_type": "stream",
     "text": [
      "100%|███████████████████████████████████████████████████████████████████████████████| 902/902 [00:01<00:00, 479.64it/s]\n"
     ]
    },
    {
     "name": "stdout",
     "output_type": "stream",
     "text": [
      "OkOk\n",
      "2.653156042098999\n",
      "2023-01-02 02:49:45\n"
     ]
    },
    {
     "name": "stderr",
     "output_type": "stream",
     "text": [
      "100%|███████████████████████████████████████████████████████████████████████████████| 902/902 [00:01<00:00, 469.42it/s]\n"
     ]
    },
    {
     "name": "stdout",
     "output_type": "stream",
     "text": [
      "OkOk\n",
      "2.6869659423828125\n",
      "2023-01-02 03:04:45\n"
     ]
    },
    {
     "name": "stderr",
     "output_type": "stream",
     "text": [
      "100%|███████████████████████████████████████████████████████████████████████████████| 902/902 [00:01<00:00, 517.93it/s]\n"
     ]
    },
    {
     "name": "stdout",
     "output_type": "stream",
     "text": [
      "OkOk\n",
      "2.475726366043091\n",
      "2023-01-02 03:19:45\n"
     ]
    },
    {
     "name": "stderr",
     "output_type": "stream",
     "text": [
      "100%|███████████████████████████████████████████████████████████████████████████████| 902/902 [00:01<00:00, 510.98it/s]\n"
     ]
    },
    {
     "name": "stdout",
     "output_type": "stream",
     "text": [
      "OkOk\n",
      "2.476987600326538\n",
      "2023-01-02 03:34:45\n"
     ]
    },
    {
     "name": "stderr",
     "output_type": "stream",
     "text": [
      "100%|███████████████████████████████████████████████████████████████████████████████| 902/902 [00:01<00:00, 497.77it/s]\n"
     ]
    },
    {
     "name": "stdout",
     "output_type": "stream",
     "text": [
      "OkOk\n",
      "2.5150556564331055\n",
      "2023-01-02 03:49:45\n"
     ]
    },
    {
     "name": "stderr",
     "output_type": "stream",
     "text": [
      "100%|███████████████████████████████████████████████████████████████████████████████| 902/902 [00:01<00:00, 485.22it/s]\n"
     ]
    },
    {
     "name": "stdout",
     "output_type": "stream",
     "text": [
      "OkOk\n",
      "2.561965227127075\n",
      "2023-01-02 04:04:45\n"
     ]
    },
    {
     "name": "stderr",
     "output_type": "stream",
     "text": [
      "100%|███████████████████████████████████████████████████████████████████████████████| 902/902 [00:01<00:00, 452.68it/s]\n"
     ]
    },
    {
     "name": "stdout",
     "output_type": "stream",
     "text": [
      "OkOk\n",
      "2.7970497608184814\n",
      "2023-01-02 04:19:45\n"
     ]
    },
    {
     "name": "stderr",
     "output_type": "stream",
     "text": [
      "100%|███████████████████████████████████████████████████████████████████████████████| 902/902 [00:02<00:00, 434.15it/s]\n"
     ]
    },
    {
     "name": "stdout",
     "output_type": "stream",
     "text": [
      "OkOk\n",
      "2.932288646697998\n",
      "2023-01-02 04:34:45\n"
     ]
    },
    {
     "name": "stderr",
     "output_type": "stream",
     "text": [
      "100%|███████████████████████████████████████████████████████████████████████████████| 902/902 [00:02<00:00, 424.57it/s]\n"
     ]
    },
    {
     "name": "stdout",
     "output_type": "stream",
     "text": [
      "OkOk\n",
      "2.936807632446289\n",
      "2023-01-02 04:49:45\n"
     ]
    },
    {
     "name": "stderr",
     "output_type": "stream",
     "text": [
      "100%|███████████████████████████████████████████████████████████████████████████████| 902/902 [00:02<00:00, 400.98it/s]\n"
     ]
    },
    {
     "name": "stdout",
     "output_type": "stream",
     "text": [
      "OkOk\n",
      "3.018476963043213\n",
      "2023-01-02 05:04:45\n"
     ]
    },
    {
     "name": "stderr",
     "output_type": "stream",
     "text": [
      "100%|███████████████████████████████████████████████████████████████████████████████| 902/902 [00:02<00:00, 439.26it/s]\n"
     ]
    },
    {
     "name": "stdout",
     "output_type": "stream",
     "text": [
      "OkOk\n",
      "2.7720999717712402\n",
      "2023-01-02 05:19:45\n"
     ]
    },
    {
     "name": "stderr",
     "output_type": "stream",
     "text": [
      "100%|███████████████████████████████████████████████████████████████████████████████| 902/902 [00:02<00:00, 434.15it/s]\n"
     ]
    },
    {
     "name": "stdout",
     "output_type": "stream",
     "text": [
      "OkOk\n",
      "2.8430445194244385\n",
      "2023-01-02 05:34:45\n"
     ]
    },
    {
     "name": "stderr",
     "output_type": "stream",
     "text": [
      "100%|███████████████████████████████████████████████████████████████████████████████| 902/902 [00:02<00:00, 421.53it/s]\n"
     ]
    },
    {
     "name": "stdout",
     "output_type": "stream",
     "text": [
      "OkOk\n",
      "2.874042272567749\n",
      "2023-01-02 05:49:45\n"
     ]
    },
    {
     "name": "stderr",
     "output_type": "stream",
     "text": [
      "100%|███████████████████████████████████████████████████████████████████████████████| 902/902 [00:02<00:00, 413.89it/s]\n"
     ]
    },
    {
     "name": "stdout",
     "output_type": "stream",
     "text": [
      "OkOk\n",
      "2.9204609394073486\n",
      "2023-01-02 06:04:45\n"
     ]
    },
    {
     "name": "stderr",
     "output_type": "stream",
     "text": [
      "100%|███████████████████████████████████████████████████████████████████████████████| 901/901 [00:02<00:00, 381.97it/s]\n"
     ]
    },
    {
     "name": "stdout",
     "output_type": "stream",
     "text": [
      "OkOk\n",
      "3.179832696914673\n",
      "2023-01-02 06:19:44\n"
     ]
    },
    {
     "name": "stderr",
     "output_type": "stream",
     "text": [
      "100%|███████████████████████████████████████████████████████████████████████████████| 903/903 [00:02<00:00, 341.10it/s]\n"
     ]
    },
    {
     "name": "stdout",
     "output_type": "stream",
     "text": [
      "OkOk\n",
      "3.5460574626922607\n",
      "2023-01-02 06:34:45\n"
     ]
    },
    {
     "name": "stderr",
     "output_type": "stream",
     "text": [
      "100%|███████████████████████████████████████████████████████████████████████████████| 902/902 [00:02<00:00, 314.58it/s]\n"
     ]
    },
    {
     "name": "stdout",
     "output_type": "stream",
     "text": [
      "OkOk\n",
      "3.6863744258880615\n",
      "2023-01-02 06:49:45\n"
     ]
    },
    {
     "name": "stderr",
     "output_type": "stream",
     "text": [
      "100%|███████████████████████████████████████████████████████████████████████████████| 902/902 [00:02<00:00, 309.71it/s]\n"
     ]
    },
    {
     "name": "stdout",
     "output_type": "stream",
     "text": [
      "OkOk\n",
      "3.7403552532196045\n",
      "2023-01-02 07:04:45\n"
     ]
    },
    {
     "name": "stderr",
     "output_type": "stream",
     "text": [
      "100%|███████████████████████████████████████████████████████████████████████████████| 902/902 [00:02<00:00, 324.39it/s]\n"
     ]
    },
    {
     "name": "stdout",
     "output_type": "stream",
     "text": [
      "OkOk\n",
      "3.570096731185913\n",
      "2023-01-02 07:19:45\n"
     ]
    },
    {
     "name": "stderr",
     "output_type": "stream",
     "text": [
      "100%|███████████████████████████████████████████████████████████████████████████████| 902/902 [00:02<00:00, 302.37it/s]\n"
     ]
    },
    {
     "name": "stdout",
     "output_type": "stream",
     "text": [
      "OkOk\n",
      "3.795499324798584\n",
      "2023-01-02 07:34:45\n"
     ]
    },
    {
     "name": "stderr",
     "output_type": "stream",
     "text": [
      "100%|███████████████████████████████████████████████████████████████████████████████| 902/902 [00:02<00:00, 308.89it/s]\n"
     ]
    },
    {
     "name": "stdout",
     "output_type": "stream",
     "text": [
      "OkOk\n",
      "3.7324278354644775\n",
      "2023-01-02 07:49:45\n"
     ]
    },
    {
     "name": "stderr",
     "output_type": "stream",
     "text": [
      "100%|███████████████████████████████████████████████████████████████████████████████| 902/902 [00:03<00:00, 299.26it/s]\n"
     ]
    },
    {
     "name": "stdout",
     "output_type": "stream",
     "text": [
      "OkOk\n",
      "3.8264377117156982\n",
      "2023-01-02 08:04:45\n"
     ]
    },
    {
     "name": "stderr",
     "output_type": "stream",
     "text": [
      "100%|███████████████████████████████████████████████████████████████████████████████| 902/902 [00:03<00:00, 275.62it/s]\n"
     ]
    },
    {
     "name": "stdout",
     "output_type": "stream",
     "text": [
      "OkOk\n",
      "4.194309949874878\n",
      "2023-01-02 08:19:45\n"
     ]
    },
    {
     "name": "stderr",
     "output_type": "stream",
     "text": [
      "100%|███████████████████████████████████████████████████████████████████████████████| 901/901 [00:03<00:00, 263.82it/s]\n"
     ]
    },
    {
     "name": "stdout",
     "output_type": "stream",
     "text": [
      "OkOk\n",
      "4.2900612354278564\n",
      "2023-01-02 08:34:44\n"
     ]
    },
    {
     "name": "stderr",
     "output_type": "stream",
     "text": [
      "100%|███████████████████████████████████████████████████████████████████████████████| 902/902 [00:03<00:00, 267.37it/s]\n"
     ]
    },
    {
     "name": "stdout",
     "output_type": "stream",
     "text": [
      "OkOk\n",
      "4.30228066444397\n",
      "2023-01-02 08:49:44\n"
     ]
    },
    {
     "name": "stderr",
     "output_type": "stream",
     "text": [
      "100%|███████████████████████████████████████████████████████████████████████████████| 902/902 [00:03<00:00, 265.49it/s]\n"
     ]
    },
    {
     "name": "stdout",
     "output_type": "stream",
     "text": [
      "OkOk\n",
      "4.350354194641113\n",
      "2023-01-02 09:04:44\n"
     ]
    },
    {
     "name": "stderr",
     "output_type": "stream",
     "text": [
      "100%|███████████████████████████████████████████████████████████████████████████████| 902/902 [00:03<00:00, 267.38it/s]\n"
     ]
    },
    {
     "name": "stdout",
     "output_type": "stream",
     "text": [
      "OkOk\n",
      "4.232707262039185\n",
      "2023-01-02 09:19:44\n"
     ]
    },
    {
     "name": "stderr",
     "output_type": "stream",
     "text": [
      "100%|███████████████████████████████████████████████████████████████████████████████| 902/902 [00:03<00:00, 250.52it/s]\n"
     ]
    },
    {
     "name": "stdout",
     "output_type": "stream",
     "text": [
      "OkOk\n",
      "4.510854005813599\n",
      "2023-01-02 09:34:44\n"
     ]
    },
    {
     "name": "stderr",
     "output_type": "stream",
     "text": [
      "100%|███████████████████████████████████████████████████████████████████████████████| 902/902 [00:03<00:00, 257.21it/s]\n"
     ]
    },
    {
     "name": "stdout",
     "output_type": "stream",
     "text": [
      "OkOk\n",
      "4.3973987102508545\n",
      "2023-01-02 09:49:44\n"
     ]
    },
    {
     "name": "stderr",
     "output_type": "stream",
     "text": [
      "100%|███████████████████████████████████████████████████████████████████████████████| 902/902 [00:03<00:00, 252.71it/s]\n"
     ]
    },
    {
     "name": "stdout",
     "output_type": "stream",
     "text": [
      "OkOk\n",
      "4.4665937423706055\n",
      "2023-01-02 10:04:44\n"
     ]
    },
    {
     "name": "stderr",
     "output_type": "stream",
     "text": [
      "100%|███████████████████████████████████████████████████████████████████████████████| 902/902 [00:03<00:00, 225.60it/s]\n"
     ]
    },
    {
     "name": "stdout",
     "output_type": "stream",
     "text": [
      "OkOk\n",
      "5.0054521560668945\n",
      "2023-01-02 10:19:44\n"
     ]
    },
    {
     "name": "stderr",
     "output_type": "stream",
     "text": [
      "100%|███████████████████████████████████████████████████████████████████████████████| 902/902 [00:04<00:00, 214.91it/s]\n"
     ]
    },
    {
     "name": "stdout",
     "output_type": "stream",
     "text": [
      "OkOk\n",
      "5.228054046630859\n",
      "2023-01-02 10:34:44\n"
     ]
    },
    {
     "name": "stderr",
     "output_type": "stream",
     "text": [
      "100%|███████████████████████████████████████████████████████████████████████████████| 902/902 [00:04<00:00, 219.91it/s]\n"
     ]
    },
    {
     "name": "stdout",
     "output_type": "stream",
     "text": [
      "OkOk\n",
      "5.148198843002319\n",
      "2023-01-02 10:49:44\n"
     ]
    },
    {
     "name": "stderr",
     "output_type": "stream",
     "text": [
      "100%|███████████████████████████████████████████████████████████████████████████████| 902/902 [00:04<00:00, 212.65it/s]\n"
     ]
    },
    {
     "name": "stdout",
     "output_type": "stream",
     "text": [
      "OkOk\n",
      "5.218373775482178\n",
      "2023-01-02 11:04:44\n"
     ]
    },
    {
     "name": "stderr",
     "output_type": "stream",
     "text": [
      "100%|███████████████████████████████████████████████████████████████████████████████| 902/902 [00:04<00:00, 225.10it/s]\n"
     ]
    },
    {
     "name": "stdout",
     "output_type": "stream",
     "text": [
      "OkOk\n",
      "4.935588121414185\n",
      "2023-01-02 11:19:44\n"
     ]
    },
    {
     "name": "stderr",
     "output_type": "stream",
     "text": [
      "100%|███████████████████████████████████████████████████████████████████████████████| 902/902 [00:04<00:00, 198.45it/s]\n"
     ]
    },
    {
     "name": "stdout",
     "output_type": "stream",
     "text": [
      "OkOk\n",
      "5.536344528198242\n",
      "2023-01-02 11:34:44\n"
     ]
    },
    {
     "name": "stderr",
     "output_type": "stream",
     "text": [
      "100%|███████████████████████████████████████████████████████████████████████████████| 902/902 [00:04<00:00, 200.34it/s]\n"
     ]
    },
    {
     "name": "stdout",
     "output_type": "stream",
     "text": [
      "OkOk\n",
      "5.455364227294922\n",
      "2023-01-02 11:49:44\n"
     ]
    },
    {
     "name": "stderr",
     "output_type": "stream",
     "text": [
      "100%|███████████████████████████████████████████████████████████████████████████████| 902/902 [00:04<00:00, 200.19it/s]\n"
     ]
    },
    {
     "name": "stdout",
     "output_type": "stream",
     "text": [
      "OkOk\n",
      "5.474306106567383\n",
      "2023-01-02 12:04:44\n"
     ]
    },
    {
     "name": "stderr",
     "output_type": "stream",
     "text": [
      "100%|███████████████████████████████████████████████████████████████████████████████| 902/902 [00:04<00:00, 182.70it/s]\n"
     ]
    },
    {
     "name": "stdout",
     "output_type": "stream",
     "text": [
      "OkOk\n",
      "6.077406644821167\n",
      "2023-01-02 12:19:44\n"
     ]
    },
    {
     "name": "stderr",
     "output_type": "stream",
     "text": [
      "100%|███████████████████████████████████████████████████████████████████████████████| 902/902 [00:05<00:00, 172.61it/s]\n"
     ]
    },
    {
     "name": "stdout",
     "output_type": "stream",
     "text": [
      "OkOk\n",
      "6.194166421890259\n",
      "2023-01-02 12:34:44\n"
     ]
    },
    {
     "name": "stderr",
     "output_type": "stream",
     "text": [
      "100%|███████████████████████████████████████████████████████████████████████████████| 902/902 [00:05<00:00, 177.35it/s]\n"
     ]
    },
    {
     "name": "stdout",
     "output_type": "stream",
     "text": [
      "OkOk\n",
      "6.1394195556640625\n",
      "2023-01-02 12:49:44\n"
     ]
    },
    {
     "name": "stderr",
     "output_type": "stream",
     "text": [
      "100%|███████████████████████████████████████████████████████████████████████████████| 902/902 [00:05<00:00, 173.38it/s]\n"
     ]
    },
    {
     "name": "stdout",
     "output_type": "stream",
     "text": [
      "OkOk\n",
      "6.311500787734985\n",
      "2023-01-02 13:04:44\n"
     ]
    },
    {
     "name": "stderr",
     "output_type": "stream",
     "text": [
      "100%|███████████████████████████████████████████████████████████████████████████████| 902/902 [00:03<00:00, 290.69it/s]\n"
     ]
    },
    {
     "name": "stdout",
     "output_type": "stream",
     "text": [
      "OkOk\n",
      "4.188361644744873\n",
      "2023-01-02 13:19:44\n"
     ]
    },
    {
     "name": "stderr",
     "output_type": "stream",
     "text": [
      "100%|███████████████████████████████████████████████████████████████████████████████| 902/902 [00:01<00:00, 679.31it/s]\n"
     ]
    },
    {
     "name": "stdout",
     "output_type": "stream",
     "text": [
      "OkOk\n",
      "2.0464186668395996\n",
      "2023-01-02 13:34:44\n"
     ]
    },
    {
     "name": "stderr",
     "output_type": "stream",
     "text": [
      "100%|███████████████████████████████████████████████████████████████████████████████| 902/902 [00:01<00:00, 648.78it/s]\n"
     ]
    },
    {
     "name": "stdout",
     "output_type": "stream",
     "text": [
      "OkOk\n",
      "2.1244983673095703\n",
      "2023-01-02 13:49:44\n"
     ]
    },
    {
     "name": "stderr",
     "output_type": "stream",
     "text": [
      "100%|███████████████████████████████████████████████████████████████████████████████| 902/902 [00:01<00:00, 648.79it/s]\n"
     ]
    },
    {
     "name": "stdout",
     "output_type": "stream",
     "text": [
      "OkOk\n",
      "2.1314494609832764\n",
      "2023-01-02 14:04:44\n"
     ]
    },
    {
     "name": "stderr",
     "output_type": "stream",
     "text": [
      "100%|███████████████████████████████████████████████████████████████████████████████| 902/902 [00:01<00:00, 675.45it/s]\n"
     ]
    },
    {
     "name": "stdout",
     "output_type": "stream",
     "text": [
      "OkOk\n",
      "2.069653034210205\n",
      "2023-01-02 14:19:44\n"
     ]
    },
    {
     "name": "stderr",
     "output_type": "stream",
     "text": [
      "100%|███████████████████████████████████████████████████████████████████████████████| 902/902 [00:01<00:00, 656.16it/s]\n"
     ]
    },
    {
     "name": "stdout",
     "output_type": "stream",
     "text": [
      "OkOk\n",
      "2.1023101806640625\n",
      "2023-01-02 14:34:44\n"
     ]
    },
    {
     "name": "stderr",
     "output_type": "stream",
     "text": [
      "100%|███████████████████████████████████████████████████████████████████████████████| 902/902 [00:01<00:00, 631.40it/s]\n"
     ]
    },
    {
     "name": "stdout",
     "output_type": "stream",
     "text": [
      "OkOk\n",
      "2.1853179931640625\n",
      "2023-01-02 14:49:44\n"
     ]
    },
    {
     "name": "stderr",
     "output_type": "stream",
     "text": [
      "100%|███████████████████████████████████████████████████████████████████████████████| 902/902 [00:01<00:00, 614.30it/s]\n"
     ]
    },
    {
     "name": "stdout",
     "output_type": "stream",
     "text": [
      "OkOk\n",
      "2.1714251041412354\n",
      "2023-01-02 15:04:44\n"
     ]
    },
    {
     "name": "stderr",
     "output_type": "stream",
     "text": [
      "100%|███████████████████████████████████████████████████████████████████████████████| 902/902 [00:01<00:00, 607.81it/s]\n"
     ]
    },
    {
     "name": "stdout",
     "output_type": "stream",
     "text": [
      "OkOk\n",
      "2.202660322189331\n",
      "2023-01-02 15:19:44\n"
     ]
    },
    {
     "name": "stderr",
     "output_type": "stream",
     "text": [
      "100%|███████████████████████████████████████████████████████████████████████████████| 902/902 [00:01<00:00, 589.20it/s]\n"
     ]
    },
    {
     "ename": "ValueError",
     "evalue": "Found array with 0 sample(s) (shape=(0, 3)) while a minimum of 1 is required.",
     "output_type": "error",
     "traceback": [
      "\u001b[1;31m---------------------------------------------------------------------------\u001b[0m",
      "\u001b[1;31mValueError\u001b[0m                                Traceback (most recent call last)",
      "\u001b[1;32m<ipython-input-21-5bed4519c0e7>\u001b[0m in \u001b[0;36m<module>\u001b[1;34m\u001b[0m\n\u001b[0;32m     18\u001b[0m     \u001b[0mmerge_data\u001b[0m \u001b[1;33m=\u001b[0m \u001b[0mmerge_data\u001b[0m\u001b[1;33m[\u001b[0m\u001b[1;33m-\u001b[0m\u001b[1;36m2\u001b[0m\u001b[1;33m:\u001b[0m\u001b[1;33m-\u001b[0m\u001b[1;36m1\u001b[0m\u001b[1;33m]\u001b[0m\u001b[1;33m\u001b[0m\u001b[1;33m\u001b[0m\u001b[0m\n\u001b[0;32m     19\u001b[0m \u001b[1;31m#     print(merge_data)\u001b[0m\u001b[1;33m\u001b[0m\u001b[1;33m\u001b[0m\u001b[1;33m\u001b[0m\u001b[0m\n\u001b[1;32m---> 20\u001b[1;33m     \u001b[0mpred\u001b[0m \u001b[1;33m=\u001b[0m \u001b[0mpred_power_15\u001b[0m\u001b[1;33m(\u001b[0m\u001b[0mmerge_data\u001b[0m\u001b[1;33m)\u001b[0m\u001b[1;33m\u001b[0m\u001b[1;33m\u001b[0m\u001b[0m\n\u001b[0m\u001b[0;32m     21\u001b[0m     \u001b[0mpred\u001b[0m\u001b[1;33m[\u001b[0m\u001b[1;34m'pred'\u001b[0m\u001b[1;33m]\u001b[0m \u001b[1;33m=\u001b[0m \u001b[0mpred\u001b[0m\u001b[1;33m[\u001b[0m\u001b[1;34m'pred'\u001b[0m\u001b[1;33m]\u001b[0m\u001b[1;33m.\u001b[0m\u001b[0mwhere\u001b[0m\u001b[1;33m(\u001b[0m\u001b[0mpred\u001b[0m\u001b[1;33m[\u001b[0m\u001b[1;34m'pred'\u001b[0m\u001b[1;33m]\u001b[0m \u001b[1;33m>=\u001b[0m \u001b[1;36m0\u001b[0m\u001b[1;33m,\u001b[0m \u001b[1;36m0\u001b[0m\u001b[1;33m)\u001b[0m\u001b[1;33m\u001b[0m\u001b[1;33m\u001b[0m\u001b[0m\n\u001b[0;32m     22\u001b[0m     \u001b[0msave_to_database\u001b[0m\u001b[1;33m(\u001b[0m\u001b[0mpred\u001b[0m\u001b[1;33m)\u001b[0m\u001b[1;33m\u001b[0m\u001b[1;33m\u001b[0m\u001b[0m\n",
      "\u001b[1;32m<ipython-input-13-3139b283329a>\u001b[0m in \u001b[0;36mpred_power_15\u001b[1;34m(merge_data)\u001b[0m\n\u001b[0;32m     10\u001b[0m     \u001b[0mscaler_x\u001b[0m \u001b[1;33m=\u001b[0m \u001b[0mMinMaxScaler\u001b[0m\u001b[1;33m(\u001b[0m\u001b[1;33m)\u001b[0m\u001b[1;33m\u001b[0m\u001b[1;33m\u001b[0m\u001b[0m\n\u001b[0;32m     11\u001b[0m     \u001b[0mscaler_x\u001b[0m\u001b[1;33m.\u001b[0m\u001b[0mfit\u001b[0m\u001b[1;33m(\u001b[0m\u001b[0mtrain_x\u001b[0m\u001b[1;33m[\u001b[0m\u001b[0mfeature_data\u001b[0m\u001b[1;33m]\u001b[0m\u001b[1;33m)\u001b[0m\u001b[1;33m\u001b[0m\u001b[1;33m\u001b[0m\u001b[0m\n\u001b[1;32m---> 12\u001b[1;33m     \u001b[0mtest_data\u001b[0m \u001b[1;33m=\u001b[0m \u001b[0mscaler_x\u001b[0m\u001b[1;33m.\u001b[0m\u001b[0mtransform\u001b[0m\u001b[1;33m(\u001b[0m\u001b[0mtest_data\u001b[0m\u001b[1;33m[\u001b[0m\u001b[0mfeature_data\u001b[0m\u001b[1;33m]\u001b[0m\u001b[1;33m)\u001b[0m\u001b[1;33m\u001b[0m\u001b[1;33m\u001b[0m\u001b[0m\n\u001b[0m\u001b[0;32m     13\u001b[0m \u001b[1;31m#     print(test_data)\u001b[0m\u001b[1;33m\u001b[0m\u001b[1;33m\u001b[0m\u001b[1;33m\u001b[0m\u001b[0m\n\u001b[0;32m     14\u001b[0m     \u001b[1;31m#獲得訓練集y的最大最小值\u001b[0m\u001b[1;33m\u001b[0m\u001b[1;33m\u001b[0m\u001b[1;33m\u001b[0m\u001b[0m\n",
      "\u001b[1;32m~\\Anaconda3\\envs\\python3.6\\lib\\site-packages\\sklearn\\preprocessing\\_data.py\u001b[0m in \u001b[0;36mtransform\u001b[1;34m(self, X)\u001b[0m\n\u001b[0;32m    433\u001b[0m \u001b[1;33m\u001b[0m\u001b[0m\n\u001b[0;32m    434\u001b[0m         X = self._validate_data(X, copy=self.copy, dtype=FLOAT_DTYPES,\n\u001b[1;32m--> 435\u001b[1;33m                                 force_all_finite=\"allow-nan\", reset=False)\n\u001b[0m\u001b[0;32m    436\u001b[0m \u001b[1;33m\u001b[0m\u001b[0m\n\u001b[0;32m    437\u001b[0m         \u001b[0mX\u001b[0m \u001b[1;33m*=\u001b[0m \u001b[0mself\u001b[0m\u001b[1;33m.\u001b[0m\u001b[0mscale_\u001b[0m\u001b[1;33m\u001b[0m\u001b[1;33m\u001b[0m\u001b[0m\n",
      "\u001b[1;32m~\\Anaconda3\\envs\\python3.6\\lib\\site-packages\\sklearn\\base.py\u001b[0m in \u001b[0;36m_validate_data\u001b[1;34m(self, X, y, reset, validate_separately, **check_params)\u001b[0m\n\u001b[0;32m    419\u001b[0m             \u001b[0mout\u001b[0m \u001b[1;33m=\u001b[0m \u001b[0mX\u001b[0m\u001b[1;33m\u001b[0m\u001b[1;33m\u001b[0m\u001b[0m\n\u001b[0;32m    420\u001b[0m         \u001b[1;32melif\u001b[0m \u001b[0misinstance\u001b[0m\u001b[1;33m(\u001b[0m\u001b[0my\u001b[0m\u001b[1;33m,\u001b[0m \u001b[0mstr\u001b[0m\u001b[1;33m)\u001b[0m \u001b[1;32mand\u001b[0m \u001b[0my\u001b[0m \u001b[1;33m==\u001b[0m \u001b[1;34m'no_validation'\u001b[0m\u001b[1;33m:\u001b[0m\u001b[1;33m\u001b[0m\u001b[1;33m\u001b[0m\u001b[0m\n\u001b[1;32m--> 421\u001b[1;33m             \u001b[0mX\u001b[0m \u001b[1;33m=\u001b[0m \u001b[0mcheck_array\u001b[0m\u001b[1;33m(\u001b[0m\u001b[0mX\u001b[0m\u001b[1;33m,\u001b[0m \u001b[1;33m**\u001b[0m\u001b[0mcheck_params\u001b[0m\u001b[1;33m)\u001b[0m\u001b[1;33m\u001b[0m\u001b[1;33m\u001b[0m\u001b[0m\n\u001b[0m\u001b[0;32m    422\u001b[0m             \u001b[0mout\u001b[0m \u001b[1;33m=\u001b[0m \u001b[0mX\u001b[0m\u001b[1;33m\u001b[0m\u001b[1;33m\u001b[0m\u001b[0m\n\u001b[0;32m    423\u001b[0m         \u001b[1;32melse\u001b[0m\u001b[1;33m:\u001b[0m\u001b[1;33m\u001b[0m\u001b[1;33m\u001b[0m\u001b[0m\n",
      "\u001b[1;32m~\\Anaconda3\\envs\\python3.6\\lib\\site-packages\\sklearn\\utils\\validation.py\u001b[0m in \u001b[0;36minner_f\u001b[1;34m(*args, **kwargs)\u001b[0m\n\u001b[0;32m     61\u001b[0m             \u001b[0mextra_args\u001b[0m \u001b[1;33m=\u001b[0m \u001b[0mlen\u001b[0m\u001b[1;33m(\u001b[0m\u001b[0margs\u001b[0m\u001b[1;33m)\u001b[0m \u001b[1;33m-\u001b[0m \u001b[0mlen\u001b[0m\u001b[1;33m(\u001b[0m\u001b[0mall_args\u001b[0m\u001b[1;33m)\u001b[0m\u001b[1;33m\u001b[0m\u001b[1;33m\u001b[0m\u001b[0m\n\u001b[0;32m     62\u001b[0m             \u001b[1;32mif\u001b[0m \u001b[0mextra_args\u001b[0m \u001b[1;33m<=\u001b[0m \u001b[1;36m0\u001b[0m\u001b[1;33m:\u001b[0m\u001b[1;33m\u001b[0m\u001b[1;33m\u001b[0m\u001b[0m\n\u001b[1;32m---> 63\u001b[1;33m                 \u001b[1;32mreturn\u001b[0m \u001b[0mf\u001b[0m\u001b[1;33m(\u001b[0m\u001b[1;33m*\u001b[0m\u001b[0margs\u001b[0m\u001b[1;33m,\u001b[0m \u001b[1;33m**\u001b[0m\u001b[0mkwargs\u001b[0m\u001b[1;33m)\u001b[0m\u001b[1;33m\u001b[0m\u001b[1;33m\u001b[0m\u001b[0m\n\u001b[0m\u001b[0;32m     64\u001b[0m \u001b[1;33m\u001b[0m\u001b[0m\n\u001b[0;32m     65\u001b[0m             \u001b[1;31m# extra_args > 0\u001b[0m\u001b[1;33m\u001b[0m\u001b[1;33m\u001b[0m\u001b[1;33m\u001b[0m\u001b[0m\n",
      "\u001b[1;32m~\\Anaconda3\\envs\\python3.6\\lib\\site-packages\\sklearn\\utils\\validation.py\u001b[0m in \u001b[0;36mcheck_array\u001b[1;34m(array, accept_sparse, accept_large_sparse, dtype, order, copy, force_all_finite, ensure_2d, allow_nd, ensure_min_samples, ensure_min_features, estimator)\u001b[0m\n\u001b[0;32m    727\u001b[0m                              \u001b[1;34m\" minimum of %d is required%s.\"\u001b[0m\u001b[1;33m\u001b[0m\u001b[1;33m\u001b[0m\u001b[0m\n\u001b[0;32m    728\u001b[0m                              % (n_samples, array.shape, ensure_min_samples,\n\u001b[1;32m--> 729\u001b[1;33m                                 context))\n\u001b[0m\u001b[0;32m    730\u001b[0m \u001b[1;33m\u001b[0m\u001b[0m\n\u001b[0;32m    731\u001b[0m     \u001b[1;32mif\u001b[0m \u001b[0mensure_min_features\u001b[0m \u001b[1;33m>\u001b[0m \u001b[1;36m0\u001b[0m \u001b[1;32mand\u001b[0m \u001b[0marray\u001b[0m\u001b[1;33m.\u001b[0m\u001b[0mndim\u001b[0m \u001b[1;33m==\u001b[0m \u001b[1;36m2\u001b[0m\u001b[1;33m:\u001b[0m\u001b[1;33m\u001b[0m\u001b[1;33m\u001b[0m\u001b[0m\n",
      "\u001b[1;31mValueError\u001b[0m: Found array with 0 sample(s) (shape=(0, 3)) while a minimum of 1 is required."
     ]
    }
   ],
   "source": [
    "while(True):\n",
    "    start_time = time.time()\n",
    "    localtime = time.localtime()\n",
    "    result = time.strftime(\"%M:%S\", localtime)\n",
    "    #0~20分執行的話會報錯\n",
    "#     if((result=='00:00')|(result=='15:00')|(result=='30:00')|(result=='45:00')):\n",
    "    #獲得新資料並整合至原始資料中\n",
    "    number = get_file_number()\n",
    "    last = pd.read_csv(f'./power_data/original/MG1_PV_{number[-1]}.csv', low_memory=False) \n",
    "    last_time = pd.to_datetime(last['Time'][-2:-1].values[0])\n",
    "    print(last_time)\n",
    "    get_power_2(number,last_time)\n",
    "    #將新資料整合成15分鐘，並和舊資料合併\n",
    "    new_number = get_file_number()\n",
    "    merge_old_new_data15(new_number)\n",
    "    #將15分鐘資料和天氣合併，並切割好欄位資料\n",
    "    merge_data = merge_power_weather()\n",
    "    merge_data = merge_data[-2:-1]\n",
    "#     print(merge_data)\n",
    "    pred = pred_power_15(merge_data)\n",
    "    pred['pred'] = pred['pred'].where(pred['pred'] >= 0, 0)\n",
    "    save_to_database(pred)\n",
    "    print('OkOk')\n",
    "    end_time = time.time()\n",
    "    finish = end_time - start_time\n",
    "    print(finish)\n",
    "    time.sleep(900-finish)\n",
    "#     else:\n",
    "#         m,s = result.strip().split(\":\")\n",
    "#         start_time = int(m)*60+int(s)\n",
    "#         time.sleep(4800-start_time)"
   ]
  },
  {
   "cell_type": "code",
   "execution_count": null,
   "id": "3b43586c",
   "metadata": {},
   "outputs": [],
   "source": [
    "localtime = time.localtime()\n",
    "localtime"
   ]
  },
  {
   "cell_type": "code",
   "execution_count": null,
   "id": "f019cafa",
   "metadata": {},
   "outputs": [],
   "source": [
    "row['TIME_TO_INTERVAL'][0]"
   ]
  },
  {
   "cell_type": "code",
   "execution_count": null,
   "id": "b67a3fb0",
   "metadata": {},
   "outputs": [],
   "source": [
    "merge_data = pd.read_csv(f'./power_data/original/MG1_PV_4150000.csv', low_memory=False) \n",
    "merge_data = merge_data.rename(columns={'Time':'TIME_TO_INTERVAL'})\n",
    "merge_data = merge_data.sort_values(by=['TIME_TO_INTERVAL'])\n",
    "for i in range(len(merge_data)):\n",
    "    row = merge_data.loc[i:i].reset_index(drop=True)\n",
    "#     row['TIME_TO_INTERVAL'] = pd.to_datetime(row['TIME_TO_INTERVAL']\n",
    "    result = time.strptime(row['TIME_TO_INTERVAL'][0], \"%Y-%m-%d %H:%M:%S\") \n",
    "    result = time.strftime(\"%M:%S\",result)\n",
    "result    "
   ]
  },
  {
   "cell_type": "markdown",
   "id": "4e32206f",
   "metadata": {},
   "source": [
    "# 舊資料和新資料合併，並轉成15分鐘"
   ]
  },
  {
   "cell_type": "code",
   "execution_count": null,
   "id": "e308f98f",
   "metadata": {},
   "outputs": [],
   "source": [
    "# def bulid_15minute_data(data_raw):\n",
    "#     data_raw['TIME_TO_INTERVAL'] = pd.to_datetime(data_raw['TIME_TO_INTERVAL'])\n",
    "#     data_raw_2 = data_raw.groupby(pd.Grouper(key=\"TIME_TO_INTERVAL\",freq='15min', origin='start')).mean().reset_index()\n",
    "#     return data_raw_2\n",
    "# def merge_file():\n",
    "#     #抓取舊的POWER資料\n",
    "#     path_1=\"C:\\\\Users\\\\IDSL\\\\Desktop\\\\G.Z\\\\太陽能\\\\太陽能發電\\\\天氣資料爬蟲與合併\\\\power_data\\\\MG1_PV\"\n",
    "#     filenames = os.listdir(path_1)\n",
    "#     merge_1 = pd.DataFrame()\n",
    "#     for i in tqdm(range(len(filenames))):\n",
    "#         if(filenames[i] == 'save'):\n",
    "#             continue\n",
    "#         file_data = pd.read_csv(f'./power_data/MG1_PV/{filenames[i]}', low_memory=False) \n",
    "#         merge_1 = pd.concat([merge_1,file_data],axis=0,ignore_index=True)\n",
    "#     merge_1 = merge_1.rename(columns={'Time':'TIME_TO_INTERVAL'})\n",
    "#     merge_1 = merge_1.sort_values(by=['TIME_TO_INTERVAL'])\n",
    "\n",
    "#     #抓取新的POWER資料\n",
    "#     path_2=\"C:\\\\Users\\\\IDSL\\\\Desktop\\\\G.Z\\\\太陽能\\\\太陽能發電\\\\天氣資料爬蟲與合併\\\\power_data\\\\original\"\n",
    "#     filenames = os.listdir(path_2)\n",
    "#     merge_2 = pd.DataFrame()\n",
    "#     for i in tqdm(range(len(filenames))):\n",
    "#         if(filenames[i] == 'save'):\n",
    "#             continue\n",
    "#         file_data = pd.read_csv(f'./power_data/original/{filenames[i]}', low_memory=False) \n",
    "#         merge_2 = pd.concat([merge_2,file_data],axis=0,ignore_index=True)\n",
    "#     merge_2 = merge_2.rename(columns={'Time':'TIME_TO_INTERVAL'})\n",
    "#     merge_2 = merge_2.sort_values(by=['TIME_TO_INTERVAL'])\n",
    "  \n",
    "#     #合併新舊資料\n",
    "#     merge = pd.concat([merge_1,merge_2],axis=0,ignore_index=True)\n",
    "#     merge = merge.sort_values(by=['TIME_TO_INTERVAL'])\n",
    "#     merge = bulid_15minute_data(merge)  \n",
    "#     return merge\n",
    "# merge = merge_file()"
   ]
  },
  {
   "cell_type": "code",
   "execution_count": null,
   "id": "d20ea82c",
   "metadata": {},
   "outputs": [],
   "source": [
    "merge\n",
    "merge.to_csv(f\"./power_data/merge_alldata_15.csv\", index=False)"
   ]
  },
  {
   "cell_type": "code",
   "execution_count": null,
   "id": "8e48771b",
   "metadata": {},
   "outputs": [],
   "source": [
    "merge = merge.rename(columns={'kP':'Power'})\n",
    "merge = merge.dropna(subset=['Power'])\n",
    "merge.to_csv(f\"./power_data/merge_TEST.csv\", index=False)"
   ]
  },
  {
   "cell_type": "code",
   "execution_count": null,
   "id": "cf834527",
   "metadata": {},
   "outputs": [],
   "source": [
    "line_color = [\n",
    "    '#1f77b4',  # muted blue\n",
    "    '#ff7f0e',  # safety orange\n",
    "    '#2ca02c',  # cooked asparagus green\n",
    "    '#d62728',  # brick red\n",
    "    '#9467bd',  # muted purple\n",
    "    '#8c564b',  # chestnut brown\n",
    "    '#e377c2',  # raspberry yogurt pink\n",
    "    '#7f7f7f',  # middle gray\n",
    "    '#bcbd22',  # curry yellow-green\n",
    "    '#17becf'   # blue-teal\n",
    "]\n",
    "\n",
    "\n",
    "xtick = int(len(merge['TIME_TO_INTERVAL'])/96)\n",
    "\n",
    "fig_line = go.Figure()\n",
    "fig_line.add_trace(go.Scatter(y = merge['Power'], x=merge['TIME_TO_INTERVAL'],\n",
    "                    mode='lines',\n",
    "                    name='真實值',\n",
    "                    line={'dash': 'dash'},\n",
    "                    line_color= '#1f77b4'))\n",
    "\n",
    "fig_line.update_layout(\n",
    "    yaxis_title='發電量',\n",
    "    xaxis_title='日期',\n",
    "    title='預測結果',\n",
    "    font=dict(\n",
    "        size=18,\n",
    "    ),\n",
    "#     yaxis2=dict(anchor='x', overlaying='y', side='right')\n",
    "    height=450, \n",
    "    width=1500,\n",
    "\n",
    ")\n",
    "\n",
    "fig_line.update_xaxes(nticks=xtick)\n",
    "\n",
    "\n",
    "#     fig_line.write_html(f'{folder_path}/img/{methods}_{i}.html')\n",
    "\n",
    "fig_line.show()"
   ]
  },
  {
   "cell_type": "code",
   "execution_count": null,
   "id": "bf9218b6",
   "metadata": {},
   "outputs": [],
   "source": [
    "data = pd.DataFrame(data)\n",
    "data = data.rename(columns={'Time':'TIME_TO_INTERVAL'})\n",
    "#data = bulid_hour_data(data)\n",
    "data.to_csv('power_data/original/original_data.csv')"
   ]
  },
  {
   "cell_type": "code",
   "execution_count": null,
   "id": "2bd5b8a7",
   "metadata": {},
   "outputs": [],
   "source": [
    "aaa = pd.read_csv('power_data/original/original_data.csv')"
   ]
  },
  {
   "cell_type": "code",
   "execution_count": null,
   "id": "76695c49",
   "metadata": {},
   "outputs": [],
   "source": [
    "aaa"
   ]
  },
  {
   "cell_type": "code",
   "execution_count": null,
   "id": "bccbcfc9",
   "metadata": {},
   "outputs": [],
   "source": []
  }
 ],
 "metadata": {
  "kernelspec": {
   "display_name": "Python 3 (ipykernel)",
   "language": "python",
   "name": "python3"
  },
  "language_info": {
   "codemirror_mode": {
    "name": "ipython",
    "version": 3
   },
   "file_extension": ".py",
   "mimetype": "text/x-python",
   "name": "python",
   "nbconvert_exporter": "python",
   "pygments_lexer": "ipython3",
   "version": "3.9.16"
  }
 },
 "nbformat": 4,
 "nbformat_minor": 5
}
