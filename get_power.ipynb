{
 "cells": [
  {
   "cell_type": "code",
   "execution_count": 1,
   "id": "d8f39bb2",
   "metadata": {},
   "outputs": [],
   "source": [
    "import pandas as pd\n",
    "import numpy as np\n",
    "import matplotlib.pyplot as plt\n",
    "import os\n",
    "import time\n",
    "import datetime\n",
    "from influxdb import InfluxDBClient\n",
    "databasename = ['MG1']\n",
    "client = InfluxDBClient('120.107.146.56', 8086, 'ncue01', 'Q!A@Z#WSX', 'MG1') "
   ]
  },
  {
   "cell_type": "code",
   "execution_count": 2,
   "id": "c2e76129",
   "metadata": {},
   "outputs": [
    {
     "data": {
      "text/html": [
       "        <script type=\"text/javascript\">\n",
       "        window.PlotlyConfig = {MathJaxConfig: 'local'};\n",
       "        if (window.MathJax) {MathJax.Hub.Config({SVG: {font: \"STIX-Web\"}});}\n",
       "        if (typeof require !== 'undefined') {\n",
       "        require.undef(\"plotly\");\n",
       "        requirejs.config({\n",
       "            paths: {\n",
       "                'plotly': ['https://cdn.plot.ly/plotly-2.4.2.min']\n",
       "            }\n",
       "        });\n",
       "        require(['plotly'], function(Plotly) {\n",
       "            window._Plotly = Plotly;\n",
       "        });\n",
       "        }\n",
       "        </script>\n",
       "        "
      ]
     },
     "metadata": {},
     "output_type": "display_data"
    }
   ],
   "source": [
    "## 在線使用設置##############\n",
    "import plotly as py\n",
    "import plotly.graph_objs as go\n",
    "from plotly.offline import iplot, init_notebook_mode\n",
    "import plotly.express as px\n",
    "import cufflinks as cf\n",
    "cf.go_offline()\n",
    "cf.set_config_file(offline=False, world_readable=True)"
   ]
  },
  {
   "cell_type": "code",
   "execution_count": 3,
   "id": "294e26ea",
   "metadata": {},
   "outputs": [],
   "source": [
    "#轉為小時單位\n",
    "def bulid_hour_data(data_raw):\n",
    "    data_raw['TIME_TO_INTERVAL'] = pd.to_datetime(data_raw['TIME_TO_INTERVAL'])\n",
    "    data_raw['Hour'] = data_raw['TIME_TO_INTERVAL'].dt.hour\n",
    "    data_raw['Date'] = data_raw['TIME_TO_INTERVAL'].dt.date\n",
    "    data_raw = data_raw.groupby(['Date', 'Hour']).mean().reset_index()\n",
    "    data_raw['TIME_TO_INTERVAL'] = data_raw.apply(lambda raw:'{} {:02d}:00:00'.format(raw['Date'], int(raw['Hour'])), axis=1)\n",
    "    return data_raw\n"
   ]
  },
  {
   "cell_type": "code",
   "execution_count": 4,
   "id": "92473f13",
   "metadata": {},
   "outputs": [],
   "source": [
    "#抓取資料庫全部資料\n",
    "def get_power():\n",
    "    tablename = 'MG1_PV'\n",
    "    # result = client.query(f'SELECT * FROM {tablename} where Time >= 2022-05-20') \n",
    "    result = client.query(f'SELECT * FROM {tablename}') \n",
    "    data =  list(result.get_points())\n",
    "    data = pd.DataFrame(data)\n",
    "\n",
    "    data = data.rename(columns={'Time':'TIME_TO_INTERVAL'})\n",
    "    data = bulid_hour_data(data)\n",
    "    data.to_csv('Dataset/merge_power_data(hour).csv')"
   ]
  },
  {
   "cell_type": "code",
   "execution_count": 5,
   "id": "925261f3",
   "metadata": {},
   "outputs": [],
   "source": [
    "#根據時間抓取該時資料\n",
    "def get_power_date(date):\n",
    "    tablename = 'MG1_PV'\n",
    "    result = client.query(f\"SELECT * FROM {tablename} where Time >= '{date}' - 8h\") \n",
    "#     result = client.query(f\"SELECT * FROM {tablename} where Time >= '{date}'\") \n",
    "#     result = client.query(f'SELECT * FROM {tablename}') \n",
    "    data =  list(result.get_points())\n",
    "    data = pd.DataFrame(data)\n",
    "    data = data.rename(columns={'Time':'TIME_TO_INTERVAL'})\n",
    "    data = bulid_hour_data(data)\n",
    "    data = data[['kP','TIME_TO_INTERVAL']]\n",
    "    data.set_axis(['Power','TIME_TO_INTERVAL'], axis='columns', inplace=True)\n",
    "    return data\n",
    "#     data.to_csv('Dataset/merge_power_data(hour).csv')"
   ]
  },
  {
   "cell_type": "code",
   "execution_count": 6,
   "id": "af889ef0",
   "metadata": {},
   "outputs": [],
   "source": [
    "def new_power(row, datas):\n",
    "    data = datas[datas['TIME_TO_INTERVAL'].eq(row['TIME_TO_INTERVAL'])]\n",
    "    if data.any(axis=None):\n",
    "        return data['kP'].values[0]\n",
    "    else:\n",
    "        return row['Power']\n",
    "\n",
    "# merge_raw['Power'] = merge_raw.apply(lambda x:new_power(x, data), axis=1)"
   ]
  },
  {
   "cell_type": "markdown",
   "id": "15ca43b2",
   "metadata": {},
   "source": [
    "# 每小時爬取一次"
   ]
  },
  {
   "cell_type": "code",
   "execution_count": null,
   "id": "cfd79d6f",
   "metadata": {
    "scrolled": true
   },
   "outputs": [
    {
     "name": "stdout",
     "output_type": "stream",
     "text": [
      "okok\n",
      "1.5933759212493896\n"
     ]
    }
   ],
   "source": [
    "while(True):\n",
    "    localtime = time.localtime()\n",
    "    result = time.strftime(\"%M:%S\", localtime)\n",
    "    if(result<='02:00'):\n",
    "        start_time = time.time()\n",
    "        # 設定要產生的開始與結束日期\n",
    "        day = datetime.datetime.today()\n",
    "        day = pd.to_datetime(day, format='%Y%m%d')\n",
    "        start = pd.to_datetime(str(day.year)+'-'+str(day.month)+'-'+str(day.day))-datetime.timedelta(days=1)\n",
    "        data = get_power_date(start)\n",
    "        old = pd.read_csv(f'./power_data/solar_汙水廠_history.csv', low_memory=False)\n",
    "        d = pd.concat([old, data], axis=0, ignore_index=True)\n",
    "        d = d.drop_duplicates(subset=['TIME_TO_INTERVAL'], keep='last')\n",
    "        d.to_csv(f'./power_data/solar_汙水廠_history.csv', index=None)\n",
    "        print('okok')\n",
    "        end_time = time.time()\n",
    "        finish = end_time - start_time\n",
    "        print(finish)\n",
    "        time.sleep(3600-finish)\n",
    "    else:\n",
    "        m,s = result.strip().split(\":\")\n",
    "        start_time = int(m)*60+int(s)\n",
    "        time.sleep(3600-start_time)"
   ]
  },
  {
   "cell_type": "code",
   "execution_count": null,
   "id": "9a6e55ac",
   "metadata": {},
   "outputs": [],
   "source": [
    "# start = '2022-01-01'\n",
    "# data = get_power_date(start)\n",
    "# old = pd.read_csv(f'./power_data/solar_汙水廠_history.csv')\n",
    "# d = pd.concat([old, data], axis=0, ignore_index=True)\n",
    "# d = d.drop_duplicates(subset=['TIME_TO_INTERVAL'], keep='last')\n",
    "# d.to_csv(f'./power_data/solar_汙水廠_history.csv', index=None)"
   ]
  },
  {
   "cell_type": "code",
   "execution_count": null,
   "id": "e1f0577a",
   "metadata": {},
   "outputs": [],
   "source": [
    "# merge_power_data = pd.read_csv('./power_data/merge_power_data(hour).csv')\n",
    "# merge_power_data = merge_power_data[['kP','TIME_TO_INTERVAL']]\n",
    "# merge_power_data.set_axis(['Power','TIME_TO_INTERVAL'], axis='columns', inplace=True)\n",
    "# merge_power_data"
   ]
  },
  {
   "cell_type": "code",
   "execution_count": null,
   "id": "cbde75b1",
   "metadata": {},
   "outputs": [],
   "source": [
    "# solar_allhour = pd.read_csv('./power_data/solar_汙水廠(allhour).csv')\n",
    "# solar_allhour = solar_allhour[['Power','TIME_TO_INTERVAL']]\n",
    "# solar_allhour"
   ]
  },
  {
   "cell_type": "code",
   "execution_count": null,
   "id": "a08ce22a",
   "metadata": {},
   "outputs": [],
   "source": [
    "# merge_data = pd.concat([merge_power_data,solar_allhour],join='outer')\n",
    "# merge_data = merge_data.drop_duplicates(keep='first',inplace=False)\n",
    "# merge_data = merge_data.sort_values(by=['TIME_TO_INTERVAL'])\n",
    "# merge_data = merge_data.reset_index(drop=True,inplace=False)\n",
    "# merge_data.to_csv('./power_data/solar_汙水廠_history.csv',index=False)"
   ]
  },
  {
   "cell_type": "code",
   "execution_count": null,
   "id": "00fe8f66",
   "metadata": {},
   "outputs": [],
   "source": [
    "# merge_data"
   ]
  },
  {
   "cell_type": "code",
   "execution_count": null,
   "id": "a84ba281",
   "metadata": {},
   "outputs": [],
   "source": []
  }
 ],
 "metadata": {
  "kernelspec": {
   "display_name": "Python 3",
   "language": "python",
   "name": "python3"
  },
  "language_info": {
   "codemirror_mode": {
    "name": "ipython",
    "version": 3
   },
   "file_extension": ".py",
   "mimetype": "text/x-python",
   "name": "python",
   "nbconvert_exporter": "python",
   "pygments_lexer": "ipython3",
   "version": "3.6.13"
  }
 },
 "nbformat": 4,
 "nbformat_minor": 5
}
