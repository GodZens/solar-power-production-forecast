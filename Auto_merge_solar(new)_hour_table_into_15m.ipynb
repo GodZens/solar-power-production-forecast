{
 "cells": [
  {
   "cell_type": "code",
   "execution_count": 1,
   "id": "e4d9f182",
   "metadata": {},
   "outputs": [
    {
     "name": "stdout",
     "output_type": "stream",
     "text": [
      "Collecting schedule\n",
      "  Downloading schedule-1.1.0-py2.py3-none-any.whl (10 kB)\n",
      "Installing collected packages: schedule\n",
      "Successfully installed schedule-1.1.0\n",
      "Note: you may need to restart the kernel to use updated packages.\n"
     ]
    }
   ],
   "source": [
    "#pip install schedule"
   ]
  },
  {
   "cell_type": "code",
   "execution_count": 198,
   "id": "4c002477",
   "metadata": {},
   "outputs": [],
   "source": [
    "import pandas as pd\n",
    "import numpy as np\n",
    "#排程\n",
    "import schedule\n",
    "import time\n",
    "from pandas import Timestamp"
   ]
  },
  {
   "cell_type": "code",
   "execution_count": 78,
   "id": "783f7aa7",
   "metadata": {},
   "outputs": [
    {
     "name": "stderr",
     "output_type": "stream",
     "text": [
      "C:\\Users\\user\\AppData\\Local\\Temp\\ipykernel_22752\\1714564243.py:2: DtypeWarning: Columns (1,2,3,4,5,6,7,8,13,14,15,16,17,18) have mixed types. Specify dtype option on import or set low_memory=False.\n",
      "  history_15m = pd.read_csv(f'./dataset/solar_汙水廠_newbig_sort(history_15m).csv', header=None)\n"
     ]
    }
   ],
   "source": [
    "solar_new = pd.read_csv(f'dataset/solar_汙水廠(test_new).csv', header=None)\n",
    "history_15m = pd.read_csv(f'./dataset/solar_汙水廠_newbig_sort(history_15m).csv', header=None)\n",
    "dfXlen = len(solar_new)\n",
    "solar_new = solar_new.iloc[0:dfXlen,:]\n",
    "solar_new = solar_new.drop(columns=[5, 9, 13, 14, 20, 21, 22])#刪除IBM欄位"
   ]
  },
  {
   "cell_type": "code",
   "execution_count": 266,
   "id": "41becfdb",
   "metadata": {},
   "outputs": [
    {
     "name": "stdout",
     "output_type": "stream",
     "text": [
      "0         TIME_TO_INTERVAL\n",
      "1      2023-01-26 00:00:00\n",
      "2      2023-01-26 01:00:00\n",
      "3      2023-01-26 02:00:00\n",
      "4      2023-01-26 03:00:00\n",
      "              ...         \n",
      "143    2023-01-31 22:00:00\n",
      "144    2023-01-31 23:00:00\n",
      "145    2023-02-01 00:00:00\n",
      "146    2023-02-01 01:00:00\n",
      "147    2023-02-01 02:00:00\n",
      "Name: 0, Length: 148, dtype: object\n"
     ]
    }
   ],
   "source": [
    "solar_new_noheader = solar_new[0]\n",
    "solar_new_noheader\n",
    "solar_new_noheader[1:] = pd.to_datetime(solar_new_noheader[1:], format='%Y/%m/%d %H:%M')\n",
    "solar_new_noheader = solar_new_noheader[1:]\n",
    "solar_new_noheader\n",
    "# 取代原本的值\n",
    "solar_new_noheader.loc[0] ='TIME_TO_INTERVAL'\n",
    "solar_new[0] = solar_new_noheader\n",
    "\n",
    "#取solar_汙水廠(test_new)的第一筆TIME_TO_INTERVAL\n",
    "new_first_col = solar_new[0]\n",
    "new_first_row = new_first_col[1]\n",
    "#因new_first_row是Timestamp,需轉時間字串\n",
    "new_first_row = new_first_row.strftime('%Y-%m-%d %H:%M:%S')\n",
    "\n",
    "#取solar_汙水廠_newbig_sort(history_15m)的最後一筆TIME_TO_INTERVAL\n",
    "history_row = history_15m.iloc[-1]\n",
    "history_col = history_row[0]\n",
    "\n",
    "#創建空的dataframe\n",
    "solar_new_dataframe = [\n",
    "    {'TIME_TO_INTERVAL'},\n",
    "    {'Power'},\n",
    "    {'Radiation'},\n",
    "    {'ClearSkyRadiation'},\n",
    "    {'Radiation(SDv3)(CWB)'},\n",
    "    {'Radiation(SDv3)(OWM)'},\n",
    "    {'Radiation(MSM)'},\n",
    "    {'Radiation(today)(CWB)'},\n",
    "    {'Radiation(today)(OWM)'},\n",
    "    {'WeatherType(CWB)'},\n",
    "    {'WeatherType(pred)(CWB)'},\n",
    "    {'WeatherType(OWM)'},\n",
    "    {'WeatherType(pred)(OWM)'},\n",
    "    {'ApparentTemperature(pred)[CWB]'},\n",
    "    {'Temperature(pred)[CWB]'},\n",
    "    {'RelativeHumidity(pred)[CWB]'},\n",
    "    {'FeelsLikeTemperature(pred)[OWM]'},\n",
    "    {'Temperature(pred)[OWM]'},\n",
    "    {'RelativeHumidity(pred)[OWM]'}\n",
    "]\n",
    "\n",
    "# 將 solar_new_dataframe 中的元素轉換為列表\n",
    "cols = [list(x)[0] for x in solar_new_dataframe]\n",
    "\n",
    "# 創建空的 dataframe\n",
    "solar_new_dataframe = pd.DataFrame(columns=cols)\n",
    "\n",
    "#假設新的一小時大表第一筆資料時間大於15分鐘表的最後一筆資料\n",
    "if new_first_row > history_col:\n",
    "    #整個時間欄\n",
    "    time_all = solar_new.iloc[1:,0]  \n",
    "    for j in range(0,dfXlen-1):\n",
    "        #每隔15分鐘產生一個時間，共產生4個\n",
    "        time_all_new = time_all.iloc[j]\n",
    "        time_str = time_all_new.strftime('%Y-%m-%d %H:%M:%S')\n",
    "        df_datatime = pd.date_range(start=time_str, periods=4, freq='15min')\n",
    "        #第j+1行(一小時的),j欄是標題欄\n",
    "        solar_new_original =solar_new.loc[j+1,:]\n",
    "        #第一筆位置為0~3,第一筆後要從位置3之後開始存資料\n",
    "        if j == 0:\n",
    "            # 添加第一行數據\n",
    "            solar_new_dataframe.loc[j, 'TIME_TO_INTERVAL'] = df_datatime[0]\n",
    "            solar_new_dataframe.loc[j, 'Power'] = solar_new_original[1]\n",
    "            solar_new_dataframe.loc[j, 'Radiation'] = solar_new_original[2]\n",
    "            solar_new_dataframe.loc[j, 'ClearSkyRadiation'] = solar_new_original[3]\n",
    "            solar_new_dataframe.loc[j, 'Radiation(SDv3)(CWB)'] = solar_new_original[4]\n",
    "            solar_new_dataframe.loc[j, 'Radiation(SDv3)(OWM)'] = solar_new_original[6]\n",
    "            solar_new_dataframe.loc[j, 'Radiation(MSM)'] = solar_new_original[7]\n",
    "            solar_new_dataframe.loc[j, 'Radiation(today)(CWB'] = solar_new_original[8]\n",
    "            solar_new_dataframe.loc[j, 'Radiation(today)(OWM'] = solar_new_original[10]\n",
    "            solar_new_dataframe.loc[j, 'WeatherType(CWB)'] = solar_new_original[11]\n",
    "            solar_new_dataframe.loc[j, 'WeatherType(pred)(CWB)'] =solar_new_original[12]\n",
    "            solar_new_dataframe.loc[j, 'WeatherType(OWM)'] = solar_new_original[15]\n",
    "            solar_new_dataframe.loc[j, 'WeatherType(pred)(OWM)'] = solar_new_original[16]\n",
    "            solar_new_dataframe.loc[j, 'ApparentTemperature(pred)[CWB]'] =solar_new_original[17]\n",
    "            solar_new_dataframe.loc[j, 'Temperature(pred)[CWB]'] = solar_new_original[18]\n",
    "            solar_new_dataframe.loc[j, 'RelativeHumidity(pred)[CWB]'] = solar_new_original[19]\n",
    "            solar_new_dataframe.loc[j, 'FeelsLikeTemperature(pred)[OWM]'] =solar_new_original[23]\n",
    "            solar_new_dataframe.loc[j, 'Temperature(pred)[OWM]'] = solar_new_original[24]\n",
    "            solar_new_dataframe.loc[j, 'RelativeHumidity(pred)[OWM]'] =solar_new_original[25]\n",
    "            # 添加第2到4行數據(00:15~00:45)\n",
    "            solar_new_dataframe.loc[j+1, 'TIME_TO_INTERVAL'] = df_datatime[1]\n",
    "            solar_new_dataframe.loc[j+2, 'TIME_TO_INTERVAL'] = df_datatime[2]\n",
    "            solar_new_dataframe.loc[j+3, 'TIME_TO_INTERVAL'] = df_datatime[3]\n",
    "        else:\n",
    "            # 添加第4行後數據\n",
    "            solar_new_dataframe.loc[j+(j*3), 'TIME_TO_INTERVAL'] = df_datatime[0]\n",
    "            solar_new_dataframe.loc[j+(j*3), 'Power'] = solar_new_original[1]\n",
    "            solar_new_dataframe.loc[j+(j*3), 'Radiation'] = solar_new_original[2]\n",
    "            solar_new_dataframe.loc[j+(j*3), 'ClearSkyRadiation'] = solar_new_original[3]\n",
    "            solar_new_dataframe.loc[j+(j*3), 'Radiation(SDv3)(CWB)'] = solar_new_original[4]\n",
    "            solar_new_dataframe.loc[j+(j*3), 'Radiation(SDv3)(OWM)'] = solar_new_original[6]\n",
    "            solar_new_dataframe.loc[j+(j*3), 'Radiation(MSM)'] = solar_new_original[7]\n",
    "            solar_new_dataframe.loc[j+(j*3), 'Radiation(today)(CWB'] = solar_new_original[8]\n",
    "            solar_new_dataframe.loc[j+(j*3), 'Radiation(today)(OWM'] = solar_new_original[10]\n",
    "            solar_new_dataframe.loc[j+(j*3), 'WeatherType(CWB)'] = solar_new_original[11]\n",
    "            solar_new_dataframe.loc[j+(j*3), 'WeatherType(pred)(CWB)'] =solar_new_original[12]\n",
    "            solar_new_dataframe.loc[j+(j*3), 'WeatherType(OWM)'] = solar_new_original[15]\n",
    "            solar_new_dataframe.loc[j+(j*3), 'WeatherType(pred)(OWM)'] = solar_new_original[16]\n",
    "            solar_new_dataframe.loc[j+(j*3), 'ApparentTemperature(pred)[CWB]'] =solar_new_original[17]\n",
    "            solar_new_dataframe.loc[j+(j*3), 'Temperature(pred)[CWB]'] = solar_new_original[18]\n",
    "            solar_new_dataframe.loc[j+(j*3), 'RelativeHumidity(pred)[CWB]'] = solar_new_original[19]\n",
    "            solar_new_dataframe.loc[j+(j*3), 'FeelsLikeTemperature(pred)[OWM]'] =solar_new_original[23]\n",
    "            solar_new_dataframe.loc[j+(j*3), 'Temperature(pred)[OWM]'] = solar_new_original[24]\n",
    "            solar_new_dataframe.loc[j+(j*3), 'RelativeHumidity(pred)[OWM]'] =solar_new_original[25]\n",
    "            # 添加第4行的3行數據\n",
    "            solar_new_dataframe.loc[j+(j*3)+1, 'TIME_TO_INTERVAL'] = df_datatime[1]\n",
    "            solar_new_dataframe.loc[j+(j*3)+2, 'TIME_TO_INTERVAL'] = df_datatime[2]\n",
    "            solar_new_dataframe.loc[j+(j*3)+3, 'TIME_TO_INTERVAL'] = df_datatime[3] \n",
    "    solar_new_dataframe.to_csv(f'dataset/solar_汙水廠_newbig(solar(new)_history).csv', index=None)\n",
    "    \n",
    "else:\n",
    "    print('NO new data')\n"
   ]
  },
  {
   "cell_type": "code",
   "execution_count": null,
   "id": "cac01ffb",
   "metadata": {},
   "outputs": [],
   "source": [
    "import schedule\n",
    "import time\n",
    "def job():\n",
    "    print(\"工作1\")\n",
    "def job2():\n",
    "    print('工作2')\n",
    "def job3():\n",
    "    print('工作3')\n",
    "# 每(n)秒/分/時/天/週執行(job)\n",
    "schedule.every(10).seconds.do(job)\n",
    "schedule.every(1).minutes.do(job)\n",
    "schedule.every(3).hours.do(job)\n",
    "schedule.every(3).days.do(job)\n",
    "schedule.every(3).weeks.do(job)\n",
    "# at:每分鐘的第(n)秒時執行\n",
    "schedule.every().minute.at(\":23\").do(job3)\n",
    "while True:\n",
    "    schedule.run_pending()"
   ]
  }
 ],
 "metadata": {
  "kernelspec": {
   "display_name": "Python 3 (ipykernel)",
   "language": "python",
   "name": "python3"
  },
  "language_info": {
   "codemirror_mode": {
    "name": "ipython",
    "version": 3
   },
   "file_extension": ".py",
   "mimetype": "text/x-python",
   "name": "python",
   "nbconvert_exporter": "python",
   "pygments_lexer": "ipython3",
   "version": "3.10.4"
  }
 },
 "nbformat": 4,
 "nbformat_minor": 5
}
