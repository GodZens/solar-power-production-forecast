{
 "cells": [
  {
   "cell_type": "markdown",
   "metadata": {},
   "source": [
    "https://opendata.cwb.gov.tw/dataset/forecast/F-D0047-001"
   ]
  },
  {
   "cell_type": "code",
   "execution_count": null,
   "metadata": {},
   "outputs": [],
   "source": [
    "import io\n",
    "import os\n",
    "import time\n",
    "import datetime\n",
    "import json\n",
    "import requests\n",
    "import numpy as np\n",
    "import pandas as pd\n",
    "from pandas.io.json import json_normalize"
   ]
  },
  {
   "cell_type": "code",
   "execution_count": null,
   "metadata": {},
   "outputs": [],
   "source": [
    "import smtplib\n",
    "from email.mime.multipart import MIMEMultipart\n",
    "from email.mime.text import MIMEText\n",
    "from email.mime.base import MIMEBase\n",
    "from email import encoders\n",
    "from os.path import basename\n",
    "from email.mime.application import MIMEApplication\n",
    "from email.utils import COMMASPACE, formatdate"
   ]
  },
  {
   "cell_type": "markdown",
   "metadata": {},
   "source": [
    "登入帳號"
   ]
  },
  {
   "cell_type": "code",
   "execution_count": null,
   "metadata": {},
   "outputs": [],
   "source": [
    "#編輯郵件內容\n",
    "def send_mail_info(folder):\n",
    "    content = MIMEMultipart()\n",
    "    content[\"subject\"] = \"file\" #郵件主題 \n",
    "    content[\"from\"] = \"m11023032@gemail.yuntech.edu.tw\" #自己的郵件地址 \n",
    "    content[\"to\"] = \"m11023032@gemail.yuntech.edu.tw\" #傳送到哪裡  \n",
    "    content.attach(MIMEText(f\"the file `{folder}`\"))\n",
    "    send_mail(content)   \n",
    "#傳送郵件\n",
    "def send_mail(content):\n",
    "    with smtplib.SMTP(host=\"smtp.gmail.com\", port=\"587\") as smtp:\n",
    "        try:\n",
    "            smtp.ehlo() #確認伺服器是否有回應\n",
    "            smtp.starttls()#TLS郵件加密模式\n",
    "            smtp.login(\"m11023032@gemail.yuntech.edu.tw\", \"aa0932684719\")\n",
    "            smtp.send_message(content)\n",
    "            print(\"Complete!\")\n",
    "        except Exception as e:\n",
    "            print(\"Error message: \", e)"
   ]
  },
  {
   "cell_type": "code",
   "execution_count": null,
   "metadata": {},
   "outputs": [],
   "source": [
    "folder = 'CWB.3H'"
   ]
  },
  {
   "cell_type": "code",
   "execution_count": null,
   "metadata": {},
   "outputs": [],
   "source": [
    "getTime = datetime.datetime.now().strftime('%Y-%m-%d %H:%M:%S')\n",
    "print(getTime)\n",
    "# time.sleep(3600)"
   ]
  },
  {
   "cell_type": "code",
   "execution_count": null,
   "metadata": {},
   "outputs": [],
   "source": [
    "statIDs = ['F-D0047-017']"
   ]
  },
  {
   "cell_type": "code",
   "execution_count": null,
   "metadata": {},
   "outputs": [],
   "source": [
    "# # 如果目標資料夾不存在，則新建該資料夾\n",
    "# for name in statIDs:\n",
    "#     if not os.path.exists(f'{folder}/{name}'):\n",
    "#         os.mkdir(f'{folder}/{name}')"
   ]
  },
  {
   "cell_type": "markdown",
   "metadata": {},
   "source": [
    "# 在每小時02分之前爬取一次"
   ]
  },
  {
   "cell_type": "code",
   "execution_count": null,
   "metadata": {},
   "outputs": [],
   "source": [
    "while(True):\n",
    "    localtime = time.localtime()\n",
    "    result = time.strftime(\"%M:%S\", localtime)\n",
    "    if(result<='02:00'):\n",
    "        start_time = time.time()\n",
    "        getTime = datetime.datetime.now().strftime('%Y-%m-%d %H:%M:%S').replace(':', '%3A')\n",
    "        authCode = 'CWB-E89A9E94-16F6-4EBE-A690-3950827C2C11'\n",
    "        #print(getTime)\n",
    "        for statID in statIDs:\n",
    "            try:\n",
    "                url = 'https://opendata.cwb.gov.tw/api/v1/rest/datastore/{}?Authorization={}'.format(statID, authCode)\n",
    "\n",
    "                header = {}\n",
    "\n",
    "                r = requests.get(url, headers=header)\n",
    "                res = r.text\n",
    "\n",
    "                with io.open('{}/{}/{}.txt'.format(folder, statID, getTime), 'w') as outfile:\n",
    "        #             print('save {}/{}/{}.txt'.format(folder, statID, getTime))\n",
    "                    outfile.write(res)\n",
    "                time.sleep(0.01)\n",
    "            except:\n",
    "                send_mail_info('err: '+folder)\n",
    "                pass\n",
    "        print(getTime, '------------------------')\n",
    "        end_time = time.time()\n",
    "        finish = end_time - start_time\n",
    "        print(finish)\n",
    "        time.sleep(3600-finish)\n",
    "    else:\n",
    "        m,s = result.strip().split(\":\")\n",
    "        start_time = int(m)*60+int(s)\n",
    "        time.sleep(3600-start_time)"
   ]
  },
  {
   "cell_type": "code",
   "execution_count": null,
   "metadata": {},
   "outputs": [],
   "source": []
  }
 ],
 "metadata": {
  "kernelspec": {
   "display_name": "Python 3",
   "language": "python",
   "name": "python3"
  },
  "language_info": {
   "codemirror_mode": {
    "name": "ipython",
    "version": 3
   },
   "file_extension": ".py",
   "mimetype": "text/x-python",
   "name": "python",
   "nbconvert_exporter": "python",
   "pygments_lexer": "ipython3",
   "version": "3.6.13"
  }
 },
 "nbformat": 4,
 "nbformat_minor": 2
}
