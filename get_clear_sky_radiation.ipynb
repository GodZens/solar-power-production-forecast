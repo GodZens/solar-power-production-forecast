{
 "cells": [
  {
   "cell_type": "markdown",
   "metadata": {},
   "source": [
    "# 晴空輻射\n",
    "### 晴空輻射是在特定時間的理論上輻射值，其假設天空無雲\n",
    "### 根據物理公式推算得出"
   ]
  },
  {
   "cell_type": "code",
   "execution_count": null,
   "metadata": {
    "ExecuteTime": {
     "end_time": "2021-06-16T01:39:14.877664Z",
     "start_time": "2021-06-16T01:39:13.764687Z"
    }
   },
   "outputs": [],
   "source": [
    "import pandas as pd\n",
    "from pvlib.location import Location\n",
    "import datetime\n",
    "import time"
   ]
  },
  {
   "cell_type": "code",
   "execution_count": null,
   "metadata": {},
   "outputs": [],
   "source": [
    "#CSR抓取\n",
    "def calculate_csr(lat, lon, start, end):\n",
    "    # 根據案場資料導入經緯度資訊\n",
    "    tus = Location(lat, lon, 'Asia/Taipei')\n",
    "    # 設定資料的取樣間隔，可以設定 5 分鐘, 1 小時, 1 日\n",
    "    times = pd.date_range(start=start, end=end, freq='5min', tz=tus.tz)\n",
    "    # 呼叫套件 pvlib.location 產生晴空輻射\n",
    "    data = tus.get_clearsky(times).reset_index()\n",
    "    data['TIME_TO_INTERVAL'] = data['index']\n",
    "    data['TIME_TO_INTERVAL'] = pd.to_datetime(data['TIME_TO_INTERVAL']).dt.tz_localize(None)\n",
    "    # 僅保留晴空輻射(ghi)，移除其他欄位\n",
    "    data = data.drop(columns=['index', 'dni', 'dhi'])\n",
    "    #rename\n",
    "    data = data.rename(columns={'ghi':'ClearSkyRadiation'})\n",
    "    #轉換時間格式\n",
    "    data['TIME_TO_INTERVAL'] = pd.to_datetime(data['TIME_TO_INTERVAL'])\n",
    "    data = bulid_hour_data(data)\n",
    "    return data"
   ]
  },
  {
   "cell_type": "code",
   "execution_count": null,
   "metadata": {},
   "outputs": [],
   "source": [
    "def bulid_hour_data(data_raw):\n",
    "    data_raw['Hour'] = data_raw['TIME_TO_INTERVAL'].dt.hour\n",
    "    data_raw['Date'] = data_raw['TIME_TO_INTERVAL'].dt.date\n",
    "    data_raw = data_raw.groupby(['Date', 'Hour']).mean().reset_index()\n",
    "    data_raw['TIME_TO_INTERVAL'] = data_raw.apply(lambda raw:'{} {:02d}:00:00'.format(raw['Date'], raw['Hour']), axis=1)\n",
    "    data_raw = data_raw.drop(['Hour', 'Date'], axis=1)\n",
    "    data_raw = data_raw.sort_values(by='TIME_TO_INTERVAL').reset_index(drop=True)\n",
    "    data_raw['TIME_TO_INTERVAL'] = pd.to_datetime(data_raw['TIME_TO_INTERVAL'])\n",
    "    return data_raw"
   ]
  },
  {
   "cell_type": "code",
   "execution_count": null,
   "metadata": {
    "ExecuteTime": {
     "end_time": "2021-06-16T01:39:37.980341Z",
     "start_time": "2021-06-16T01:39:37.964820Z"
    },
    "code_folding": [
     1
    ]
   },
   "outputs": [],
   "source": [
    "plant_info = pd.read_csv(f'Plant_Info_Baoshan.csv', low_memory=False)\n",
    "plant_info\n",
    "plant_no = 1\n",
    "plant_id = plant_info.iloc[plant_no]['ID']\n",
    "plant_name = plant_info.iloc[plant_no]['Name']\n",
    "capacity = float(plant_info.iloc[plant_no]['Capacity'])\n",
    "latitude, longitude = float(plant_info.iloc[plant_no]['Latitude']), float(plant_info.iloc[plant_no]['Longitude'])\n",
    "print(\"plant: %s, %s\" % (plant_id, plant_name))"
   ]
  },
  {
   "cell_type": "markdown",
   "metadata": {},
   "source": [
    "# 每天凌晨0點爬取一次"
   ]
  },
  {
   "cell_type": "code",
   "execution_count": null,
   "metadata": {
    "ExecuteTime": {
     "end_time": "2021-06-16T01:39:38.231946Z",
     "start_time": "2021-06-16T01:39:38.216421Z"
    },
    "code_folding": [
     1
    ]
   },
   "outputs": [],
   "source": [
    "while(True):\n",
    "    hour = pd.to_datetime(datetime.datetime.today()).hour\n",
    "    if hour == 0:\n",
    "        start_time = time.time()\n",
    "        # 設定要產生的開始與結束日期\n",
    "        day = datetime.datetime.today()\n",
    "        day = pd.to_datetime(day, format='%Y%m%d')\n",
    "        start = pd.to_datetime(str(day.year)+'-'+str(day.month)+'-'+str(day.day)+' 00:00:00')+datetime.timedelta(days=1)\n",
    "        end = pd.to_datetime(str(day.year)+'-'+str(day.month)+'-'+str(day.day)+' 23:00:00')+datetime.timedelta(days=1)\n",
    "        csr = calculate_csr(latitude, longitude, start, end)\n",
    "        csr['ClearSkyRadiation'] = csr['ClearSkyRadiation']/1000\n",
    "        # 新舊資料合併\n",
    "        old = pd.read_csv(f'./clear_sky_data/{plant_id}_ClearSkyRadiation.csv')\n",
    "        d = pd.concat([old, csr], axis=0, ignore_index=True)\n",
    "        d = d.drop_duplicates(subset=['TIME_TO_INTERVAL'], keep='last')\n",
    "        d.to_csv(f'./clear_sky_data/{plant_id}_ClearSkyRadiation.csv', index=None)\n",
    "        print('okok')\n",
    "        end_time = time.time()\n",
    "        finish = end_time - start_time\n",
    "        print(finish)\n",
    "        time.sleep(86400-finish)\n",
    "    else:\n",
    "        localtime = time.localtime()\n",
    "        finish = time.strftime(\"%H:%M:%S\", localtime)\n",
    "        h,m,s = finish.strip().split(\":\")\n",
    "        finish_time = int(h)*3600+int(m)*60+int(s)\n",
    "        time.sleep(86400-finish_time)"
   ]
  },
  {
   "cell_type": "code",
   "execution_count": null,
   "metadata": {
    "scrolled": true
   },
   "outputs": [],
   "source": [
    "# # 儲存檔案\n",
    "# start, end = '2021-04-01 00:00:00', '2022-08-13 23:00:00'\n",
    "# csr = calculate_csr(latitude, longitude, start, end)\n",
    "# csr['ClearSkyRadiation'] = csr['ClearSkyRadiation']/1000\n",
    "# csr.to_csv(f'./clear_sky_data/{plant_id}_ClearSkyRadiation.csv', index=None)\n",
    "# csr.tail(10)"
   ]
  },
  {
   "cell_type": "code",
   "execution_count": null,
   "metadata": {},
   "outputs": [],
   "source": []
  }
 ],
 "metadata": {
  "kernelspec": {
   "display_name": "Python 3",
   "language": "python",
   "name": "python3"
  },
  "language_info": {
   "codemirror_mode": {
    "name": "ipython",
    "version": 3
   },
   "file_extension": ".py",
   "mimetype": "text/x-python",
   "name": "python",
   "nbconvert_exporter": "python",
   "pygments_lexer": "ipython3",
   "version": "3.6.13"
  },
  "varInspector": {
   "cols": {
    "lenName": 16,
    "lenType": 16,
    "lenVar": 40
   },
   "kernels_config": {
    "python": {
     "delete_cmd_postfix": "",
     "delete_cmd_prefix": "del ",
     "library": "var_list.py",
     "varRefreshCmd": "print(var_dic_list())"
    },
    "r": {
     "delete_cmd_postfix": ") ",
     "delete_cmd_prefix": "rm(",
     "library": "var_list.r",
     "varRefreshCmd": "cat(var_dic_list()) "
    }
   },
   "position": {
    "height": "241px",
    "left": "3px",
    "right": "20px",
    "top": "6px",
    "width": "392px"
   },
   "types_to_exclude": [
    "module",
    "function",
    "builtin_function_or_method",
    "instance",
    "_Feature"
   ],
   "window_display": false
  }
 },
 "nbformat": 4,
 "nbformat_minor": 2
}
