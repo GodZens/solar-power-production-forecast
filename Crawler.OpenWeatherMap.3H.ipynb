{
 "cells": [
  {
   "cell_type": "code",
   "execution_count": null,
   "metadata": {
    "ExecuteTime": {
     "end_time": "2020-06-03T05:44:31.396433Z",
     "start_time": "2020-06-03T05:44:29.918548Z"
    }
   },
   "outputs": [],
   "source": [
    "import os\n",
    "import time\n",
    "import datetime\n",
    "import numpy as np\n",
    "import pandas as pd\n",
    "import threading\n",
    "import requests\n",
    "import json\n",
    "import requests.packages.urllib3\n",
    "requests.packages.urllib3.disable_warnings()"
   ]
  },
  {
   "cell_type": "code",
   "execution_count": null,
   "metadata": {},
   "outputs": [],
   "source": [
    "import smtplib\n",
    "from email.mime.multipart import MIMEMultipart\n",
    "from email.mime.text import MIMEText\n",
    "from email.mime.base import MIMEBase\n",
    "from email import encoders\n",
    "from os.path import basename\n",
    "from email.mime.application import MIMEApplication\n",
    "from email.utils import COMMASPACE, formatdate"
   ]
  },
  {
   "cell_type": "code",
   "execution_count": null,
   "metadata": {},
   "outputs": [],
   "source": [
    "#編輯郵件內容\n",
    "def send_mail_info(folder):\n",
    "    content = MIMEMultipart()\n",
    "    content[\"subject\"] = \"file\" #郵件主題 \n",
    "    content[\"from\"] = \"m11023032@gemail.yuntech.edu.tw\" #自己的郵件地址 \n",
    "    content[\"to\"] = \"m11023032@gemail.yuntech.edu.tw\" #傳送到哪裡  \n",
    "    content.attach(MIMEText(f\"the file `{folder}`\"))\n",
    "    send_mail(content)   \n",
    "#傳送郵件\n",
    "def send_mail(content):\n",
    "    with smtplib.SMTP(host=\"smtp.gmail.com\", port=\"587\") as smtp:\n",
    "        try:\n",
    "            smtp.ehlo() #確認伺服器是否有回應\n",
    "            smtp.starttls()#TLS郵件加密模式\n",
    "            smtp.login(\"m11023032@gemail.yuntech.edu.tw\", \"aa0932684719\")\n",
    "            smtp.send_message(content)\n",
    "            print(\"Complete!\")\n",
    "        except Exception as e:\n",
    "            print(\"Error message: \", e)"
   ]
  },
  {
   "cell_type": "code",
   "execution_count": null,
   "metadata": {},
   "outputs": [],
   "source": [
    "folder = 'Crawler.OpenWeatherMap.3H'"
   ]
  },
  {
   "cell_type": "code",
   "execution_count": null,
   "metadata": {
    "ExecuteTime": {
     "end_time": "2020-06-03T05:44:31.412758Z",
     "start_time": "2020-06-03T05:44:31.396433Z"
    },
    "code_folding": [
     0
    ]
   },
   "outputs": [],
   "source": [
    "def replaceText(oldString):\n",
    "    newString = oldString\n",
    "    newString = newString.replace(\" \", \"_\")\n",
    "    newString = newString.replace(\":\", \"-\")\n",
    "    newString = newString.replace(\".\", \"_\")\n",
    "    return newString"
   ]
  },
  {
   "cell_type": "code",
   "execution_count": null,
   "metadata": {
    "ExecuteTime": {
     "end_time": "2020-06-03T05:44:31.424761Z",
     "start_time": "2020-06-03T05:44:31.417762Z"
    },
    "code_folding": []
   },
   "outputs": [],
   "source": [
    "def buildUrl(lat, lon):\n",
    "    apiKey = \"f7569384672b5c27516508cb78254e69\"\n",
    "    language = \"zh_tw\"\n",
    "    url = \"https://api.openweathermap.org/data/2.5/forecast?lat=%s&lon=%s\"%(lat, lon)\n",
    "    url += \"&lang=%s&exclude=current&appid=%s\"%(language, apiKey)\n",
    "    return url"
   ]
  },
  {
   "cell_type": "code",
   "execution_count": null,
   "metadata": {
    "ExecuteTime": {
     "end_time": "2020-06-03T05:44:31.543350Z",
     "start_time": "2020-06-03T05:44:31.426746Z"
    },
    "code_folding": [
     7
    ]
   },
   "outputs": [],
   "source": [
    "#將json檔形式拆成dataframe形式\n",
    "def hourData(res_json, df_hour):\n",
    "    dfOut_hour = df_hour.copy()\n",
    "    # 拆解二維資料\n",
    "    weather_id, weather_main, weather_description = [], [], []\n",
    "    temp, feels_like, temp_min, temp_max = [], [], [], []\n",
    "    pressure, sea_level, grnd_level, humidity, temp_kf = [], [], [], [], []\n",
    "    clouds, wind_speed, wind_deg, rain, sys = [], [], [], [], []\n",
    "    for i in range(len(res_json['list'])):\n",
    "        # weather\n",
    "        weather = res_json['list'][i]['weather'][0]\n",
    "        weather_id.append(weather['id'])\n",
    "        weather_main.append(weather['main'])\n",
    "        weather_description.append(weather['description'])\n",
    "        # main\n",
    "        main = res_json['list'][i]['main']\n",
    "        temp.append(main['temp'])\n",
    "        feels_like.append(main['feels_like'])\n",
    "        temp_min.append(main['temp_min'])\n",
    "        temp_max.append(main['temp_max'])\n",
    "        pressure.append(main['pressure'])\n",
    "        sea_level.append(main['sea_level'])\n",
    "        grnd_level.append(main['grnd_level'])\n",
    "        humidity.append(main['humidity'])\n",
    "        temp_kf.append(main['temp_kf'])\n",
    "        # clouds\n",
    "        cloudslist = res_json['list'][i]['clouds']\n",
    "        clouds.append(cloudslist['all'])\n",
    "        # wind\n",
    "        wind = res_json['list'][i]['wind']\n",
    "        wind_speed.append(wind['speed'])\n",
    "        wind_deg.append(wind['deg'])\n",
    "        # rain\n",
    "        try:\n",
    "            rainlist = res_json['list'][i]['rain']\n",
    "            rain.append(rainlist['3h'])\n",
    "        except:\n",
    "            rain.append('')\n",
    "        # sys\n",
    "        syslist = res_json['list'][i]['sys']\n",
    "        sys.append(syslist['pod'])\n",
    "    # 插入分解完的二維資料\n",
    "    dfOut_hour['weather_id'] = np.array(weather_id)\n",
    "    dfOut_hour['weather_main'] = np.array(weather_main)\n",
    "    dfOut_hour['weather_description'] = np.array(weather_description)\n",
    "    dfOut_hour['temp'] = np.array(temp)\n",
    "    dfOut_hour['feels_like'] = np.array(feels_like)\n",
    "    dfOut_hour['temp_min'] = np.array(temp_min)\n",
    "    dfOut_hour['temp_max'] = np.array(temp_max)\n",
    "    dfOut_hour['pressure'] = np.array(pressure)\n",
    "    dfOut_hour['sea_level'] = np.array(sea_level)\n",
    "    dfOut_hour['grnd_level'] = np.array(grnd_level)\n",
    "    dfOut_hour['humidity'] = np.array(humidity)\n",
    "    dfOut_hour['temp_kf'] = np.array(temp_kf)\n",
    "    dfOut_hour['clouds'] = np.array(clouds)\n",
    "    dfOut_hour['wind_speed'] = np.array(wind_speed)\n",
    "    dfOut_hour['wind_deg'] = np.array(wind_deg)\n",
    "    dfOut_hour['rain'] = np.array(rain)\n",
    "    dfOut_hour['sys'] = np.array(sys)\n",
    "    dfOut_hour = dfOut_hour.drop(['main', 'weather', 'clouds', 'wind', 'sys'], axis=1)\n",
    "    # 新增位址資訊\n",
    "    dfOut_hour['lat'] = res_json['city']['coord']['lat']\n",
    "    dfOut_hour['lon'] = res_json['city']['coord']['lon']\n",
    "    return dfOut_hour"
   ]
  },
  {
   "cell_type": "code",
   "execution_count": null,
   "metadata": {
    "ExecuteTime": {
     "end_time": "2020-06-03T05:44:31.568416Z",
     "start_time": "2020-06-03T05:44:31.546348Z"
    },
    "code_folding": []
   },
   "outputs": [],
   "source": [
    "def getData(town_info, directory):\n",
    "    get_time = datetime.datetime.now().strftime('%Y-%m-%d %H:%M:%S').replace(':', '%3A')\n",
    "    for i in range(len(town_info)):  # LOCATION_DF\n",
    "        # 取得案場經緯度\n",
    "        row = town_info.loc[i]\n",
    "        lat, lon = row['LAT'], row['LON']\n",
    "        try:\n",
    "            res = requests.get(buildUrl(lat, lon), verify=False, timeout=5)\n",
    "            res_json = json.loads(res.text)\n",
    "            res.close()\n",
    "            # JSON 整理 & 儲存\n",
    "            #將欄位轉成dataframe\n",
    "            df_3hour = pd.DataFrame(res_json['list'])\n",
    "            dfOut_3hour = hourData(res_json, df_3hour)\n",
    "            # 新增地點資訊\n",
    "            dfOut_3hour['id'] = row['PLANT_ID']\n",
    "            dfOut_3hour['name'] = row['PLANT_NAME']\n",
    "            if not os.path.exists(f'{directory}/{row[\"PLANT_ID\"]}'):\n",
    "                os.mkdir(f'{directory}/{row[\"PLANT_ID\"]}')\n",
    "            # 匯出\n",
    "            dfOut_3hour.to_csv(f'{directory}/{row[\"PLANT_ID\"]}/{get_time}.csv')\n",
    "            time.sleep(0.01)\n",
    "        except:\n",
    "            send_mail_info(folder)\n",
    "            pass"
   ]
  },
  {
   "cell_type": "code",
   "execution_count": null,
   "metadata": {
    "ExecuteTime": {
     "end_time": "2020-06-03T05:44:31.606795Z",
     "start_time": "2020-06-03T05:44:31.597379Z"
    },
    "code_folding": []
   },
   "outputs": [],
   "source": [
    "# 如果目標資料夾不存在，則新建該資料夾\n",
    "directory = \"OpenWeatherMap.3H\"\n",
    "if not os.path.exists(directory):\n",
    "    os.mkdir(directory)"
   ]
  },
  {
   "cell_type": "code",
   "execution_count": null,
   "metadata": {
    "ExecuteTime": {
     "end_time": "2020-06-03T05:44:31.706491Z",
     "start_time": "2020-06-03T05:44:31.659548Z"
    }
   },
   "outputs": [],
   "source": [
    "town_info = pd.read_csv('Township_Coordinates_Taiwan.csv')\n",
    "town_info.head(4)"
   ]
  },
  {
   "cell_type": "code",
   "execution_count": null,
   "metadata": {},
   "outputs": [],
   "source": [
    "# 彰化縣彰化市,500,120.5694208,24.07532909\n",
    "for i in range(len(town_info)):\n",
    "    Observatory = town_info.loc[i:i]\n",
    "    if Observatory['PLANT_NAME'].values[0] == '彰化縣彰化市':\n",
    "        target = Observatory\n",
    "print(target)\n",
    "target = target.reset_index()"
   ]
  },
  {
   "cell_type": "markdown",
   "metadata": {},
   "source": [
    "# 在每小時02分之前爬取一次"
   ]
  },
  {
   "cell_type": "code",
   "execution_count": null,
   "metadata": {
    "ExecuteTime": {
     "end_time": "2020-06-03T05:44:31.712489Z",
     "start_time": "2020-06-03T05:44:31.707492Z"
    }
   },
   "outputs": [],
   "source": [
    "\n",
    "while(True):\n",
    "    localtime = time.localtime()\n",
    "    result = time.strftime(\"%M:%S\", localtime)\n",
    "    if(result<='02:00'):\n",
    "        start_time = time.time()\n",
    "        #輸入地址和目錄\n",
    "        getData(target, directory)\n",
    "        print('okok')\n",
    "        end_time = time.time()\n",
    "        finish = end_time - start_time\n",
    "        print(finish)\n",
    "        time.sleep(3600-finish)\n",
    "    else:\n",
    "        m,s = result.strip().split(\":\")\n",
    "        start_time = int(m)*60+int(s)\n",
    "        time.sleep(3600-start_time)"
   ]
  },
  {
   "cell_type": "code",
   "execution_count": null,
   "metadata": {},
   "outputs": [],
   "source": []
  }
 ],
 "metadata": {
  "kernelspec": {
   "display_name": "Python 3",
   "language": "python",
   "name": "python3"
  },
  "language_info": {
   "codemirror_mode": {
    "name": "ipython",
    "version": 3
   },
   "file_extension": ".py",
   "mimetype": "text/x-python",
   "name": "python",
   "nbconvert_exporter": "python",
   "pygments_lexer": "ipython3",
   "version": "3.6.13"
  }
 },
 "nbformat": 4,
 "nbformat_minor": 4
}
