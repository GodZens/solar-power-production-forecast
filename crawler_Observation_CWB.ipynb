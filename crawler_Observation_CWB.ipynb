{
 "cells": [
  {
   "cell_type": "markdown",
   "id": "1f6ff4a5",
   "metadata": {},
   "source": [
    "# 取得最近觀測站"
   ]
  },
  {
   "cell_type": "code",
   "execution_count": null,
   "id": "aa32a6f7",
   "metadata": {},
   "outputs": [],
   "source": [
    "import urllib.request as req\n",
    "import json \n",
    "import pandas as pd\n",
    "import matplotlib.pylab as plt\n",
    "import numpy as np\n",
    "from datetime import timedelta\n",
    "import requests\n",
    "from bs4 import BeautifulSoup\n",
    "\n",
    "import time\n",
    "import datetime"
   ]
  },
  {
   "cell_type": "code",
   "execution_count": null,
   "id": "a1417b70",
   "metadata": {},
   "outputs": [],
   "source": [
    "from math import radians, cos, sin, asin, sqrt\n",
    "# calculate distance based on latitude and longitude\n",
    "#計算最近的案場資料\n",
    "def geodistance(lon_a, lat_a, lon_b, lat_b):\n",
    "    lon_a, lat_a, lon_b, lat_b = map(radians, [lon_a, lat_a, lon_b, lat_b])\n",
    "    dlon = lon_b - lon_a\n",
    "    dlat = lat_b - lat_a\n",
    "    a = sin(dlat/2)**2 + cos(lat_a) * cos(lat_b) * sin(dlon/2)**2\n",
    "    dis = 2*asin(sqrt(a))*6371*1000\n",
    "    return dis\n",
    "def get_recent_target(longitude, latitude, locus, column='Location'):\n",
    "    # initialization\n",
    "    # recent_point: 表示距離輸入 plant 最近的 \"預報點\"，最終會被回傳\n",
    "    # shortest_dist: 表示表示距離輸入 station 最近 \"預報點\" 的距離，初始值設很大是為了避免一直寫入\n",
    "    recent_point = 'Not Found.'\n",
    "    shortest_dist = 1000*1000\n",
    "\n",
    "    # go through the search list\n",
    "    for i in range(len(locus)):\n",
    "        current = locus.loc[i]\n",
    "        dist = geodistance(\n",
    "            longitude, latitude, \n",
    "            current['Longitude'], current['Latitude'])\n",
    "\n",
    "        # if the current distance is shorter than the historical shortest distance\n",
    "        # then use current point replace recent point\n",
    "        if(dist < shortest_dist):\n",
    "            shortest_dist = dist\n",
    "            recent_point = current[column]\n",
    "    # end of search, return\n",
    "    return recent_point"
   ]
  },
  {
   "cell_type": "markdown",
   "id": "253be0de",
   "metadata": {},
   "source": [
    "# 抓取CWB觀測資料\n",
    "https://e-service.cwb.gov.tw/HistoryDataQuery/index.jsp"
   ]
  },
  {
   "cell_type": "code",
   "execution_count": null,
   "id": "d32cd1b7",
   "metadata": {
    "scrolled": true
   },
   "outputs": [],
   "source": [
    "stations = pd.read_csv('Observatory_CWB.csv')\n",
    "stations = stations[stations['Location'] == '北區']\n",
    "stations = stations.reset_index(drop=True)"
   ]
  },
  {
   "cell_type": "code",
   "execution_count": null,
   "id": "565d9452",
   "metadata": {
    "scrolled": true
   },
   "outputs": [],
   "source": [
    "stations"
   ]
  },
  {
   "cell_type": "code",
   "execution_count": null,
   "id": "74b36432",
   "metadata": {
    "scrolled": true
   },
   "outputs": [],
   "source": [
    "def crawler_obs_data(start, end):\n",
    "    dates = [d.strftime('%Y-%m-%d')for d in pd.date_range(start, end)]\n",
    "    for i in range(len(stations)):\n",
    "        staID = stations.loc[i]['ID']\n",
    "        staName = stations.loc[i]['Name']\n",
    "        print(staID)\n",
    "        data = pd.DataFrame()\n",
    "        for date in dates:\n",
    "            print(date)\n",
    "            url = f'https://e-service.cwb.gov.tw/HistoryDataQuery/DayDataController.do?command=viewMain&station={staID}&stname={staID}&datepicker={date}&altitude=83.04m'\n",
    "            print(url)\n",
    "            headers = {'user-agent': 'Mozilla/5.0 (Windows NT 20.0; Win64; x64) AppleWebKit/538.36 (KHTML, like Gecko) Chrome/86.0.3809.132 Safari/537.36'}\n",
    "            html = requests.get(url, headers=headers)\n",
    "            html.encoding = 'utf-8'\n",
    "            soup = BeautifulSoup(html.text, 'html.parser')\n",
    "            # find no data page\n",
    "            error = soup.find(\"label\", class_=\"imp\")\n",
    "\n",
    "            form =[]\n",
    "\n",
    "            # title\n",
    "            titles = soup.find_all(\"th\")\n",
    "            # titles = titles[11:28]\n",
    "            titles = titles[28:46]\n",
    "            strtitle=[]\n",
    "            for title in titles:\n",
    "                title = title.contents\n",
    "                title=title[0] #+title[2]+title[4]\n",
    "                strtitle.append(title)\n",
    "\n",
    "            # parameter\n",
    "            soup = soup.tbody\n",
    "            tmps = soup.find_all(\"tr\")\n",
    "            tmps = tmps[3:]\n",
    "            for tmp in tmps:\n",
    "                tmp = tmp.find_all(\"td\")\n",
    "                parameter =[]\n",
    "                for strtmp in tmp:\n",
    "                    strtmp = ''.join(filter(lambda x: (x.isdigit() or x == '.'  or x == 'T'), strtmp.string))\n",
    "                    parameter.append(strtmp)\n",
    "                form.append(parameter)\n",
    "\n",
    "            form = pd.DataFrame(form, columns=strtitle)\n",
    "            form['date'] = date\n",
    "            data = pd.concat([data,form], axis=0)\n",
    "            data = data.reset_index(drop=True)\n",
    "        old = pd.read_csv(f'./Observation_CWB/{staID}.csv')\n",
    "        d = pd.concat([old, data], axis=0, ignore_index=True)\n",
    "        d = d.drop_duplicates(subset=['ObsTime', 'date'], keep='last')\n",
    "        d.to_csv(f'./Observation_CWB/{staID}.csv', index=None)"
   ]
  },
  {
   "cell_type": "markdown",
   "id": "ee02f042",
   "metadata": {},
   "source": [
    "# 每天中午12點爬取一次"
   ]
  },
  {
   "cell_type": "code",
   "execution_count": null,
   "id": "77d946c4",
   "metadata": {},
   "outputs": [],
   "source": [
    "while(True):\n",
    "    hour = pd.to_datetime(datetime.datetime.today()).hour\n",
    "    if hour == 12:\n",
    "        start_time = time.time()\n",
    "        day = datetime.datetime.today()\n",
    "        day = pd.to_datetime(day, format='%Y%m%d')\n",
    "        day = pd.to_datetime(str(day.year)+'-'+str(day.month)+'-'+str(day.day))\n",
    "        start = day-datetime.timedelta(days=1)\n",
    "        end = day-datetime.timedelta(days=1)\n",
    "        crawler_obs_data(start, end)\n",
    "        print('okok')\n",
    "        end_time = time.time()\n",
    "        finish = end_time - start_time\n",
    "        print(finish)\n",
    "        time.sleep(86400-finish)\n",
    "    else:\n",
    "        localtime = time.localtime()\n",
    "        finish = time.strftime(\"%H:%M:%S\", localtime)\n",
    "        h,m,s = finish.strip().split(\":\")\n",
    "        h=int(h)\n",
    "        if(h>12):\n",
    "            h=h-12\n",
    "        else:\n",
    "            h=h-12+24\n",
    "        finish_time = int(h)*3600+int(m)*60+int(s)\n",
    "        time.sleep(86400-finish_time)"
   ]
  },
  {
   "cell_type": "code",
   "execution_count": null,
   "id": "d56b7f93",
   "metadata": {},
   "outputs": [],
   "source": [
    "# start, end = '2022-08-14', '2022-08-14'\n",
    "# crawler_obs_data(start, end)"
   ]
  },
  {
   "cell_type": "code",
   "execution_count": null,
   "id": "d5783a72",
   "metadata": {},
   "outputs": [],
   "source": [
    "# while(True):\n",
    "#     today = datetime.datetime.today()\n",
    "#     hour = pd.to_datetime(datetime.datetime.today()).hour\n",
    "#     if hour == 12:\n",
    "#         day = today-datetime.timedelta(days=1)\n",
    "#         day = pd.to_datetime(day, format='%Y%m%d')\n",
    "#         day = pd.to_datetime(str(day.year)+'-'+str(day.month)+'-'+str(day.day))\n",
    "\n",
    "#         staID = stations.loc[0]['ID']\n",
    "#         data = pd.read_csv(f'./Dataset/Observation_CWB/{staID}.csv')\n",
    "#         if pd.to_datetime(data['date'][-1:].values[0])==day:\n",
    "#             pass\n",
    "#         else:\n",
    "#             start, end = day, day\n",
    "#             crawler_obs_data(start, end)\n",
    "# #     time.sleep(43200)\n",
    "#     time.sleep(3600)"
   ]
  },
  {
   "cell_type": "code",
   "execution_count": null,
   "id": "9c02bdf8",
   "metadata": {},
   "outputs": [],
   "source": []
  }
 ],
 "metadata": {
  "kernelspec": {
   "display_name": "Python 3",
   "language": "python",
   "name": "python3"
  },
  "language_info": {
   "codemirror_mode": {
    "name": "ipython",
    "version": 3
   },
   "file_extension": ".py",
   "mimetype": "text/x-python",
   "name": "python",
   "nbconvert_exporter": "python",
   "pygments_lexer": "ipython3",
   "version": "3.6.13"
  }
 },
 "nbformat": 4,
 "nbformat_minor": 5
}
